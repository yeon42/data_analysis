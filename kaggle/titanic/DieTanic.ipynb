{
 "cells": [
  {
   "cell_type": "markdown",
   "id": "4f30377c",
   "metadata": {},
   "source": [
    "# EDA to Prediction (DieTianic)\n",
    "- 데이터: [Kaggle의 Titanic](https://www.kaggle.com/c/titanic)\n",
    "- 필사 참조: [EDA To Prediction(DieTanic)](https://www.kaggle.com/code/ash316/eda-to-prediction-dietanic/notebook)\n",
    "\n",
    "<br/>\n",
    "\n",
    "**idea how is the workflow in any predictive modeling problem**\n",
    "- 모델링에 더 초점을 맞춘 커널\n",
    "\n",
    "1. EDA\n",
    "2. Feature Engineering & Data Cleaning\n",
    "3. Predictive Modeling"
   ]
  },
  {
   "cell_type": "markdown",
   "id": "3474c75a",
   "metadata": {},
   "source": [
    "***"
   ]
  },
  {
   "cell_type": "markdown",
   "id": "7b6ba543",
   "metadata": {},
   "source": [
    "## 1. EDA (Exploratory Data Analysis)"
   ]
  },
  {
   "cell_type": "code",
   "execution_count": 1,
   "id": "d0e0bc2a",
   "metadata": {},
   "outputs": [],
   "source": [
    "import numpy as np \n",
    "import pandas as pd\n",
    "import matplotlib.pyplot as plt\n",
    "import seaborn as sns\n",
    "plt.style.use('fivethirtyeight')\n",
    "import warnings\n",
    "warnings.filterwarnings('ignore')\n",
    "%matplotlib inline"
   ]
  },
  {
   "cell_type": "code",
   "execution_count": 2,
   "id": "ba4cfc44",
   "metadata": {},
   "outputs": [
    {
     "data": {
      "text/html": [
       "<div>\n",
       "<style scoped>\n",
       "    .dataframe tbody tr th:only-of-type {\n",
       "        vertical-align: middle;\n",
       "    }\n",
       "\n",
       "    .dataframe tbody tr th {\n",
       "        vertical-align: top;\n",
       "    }\n",
       "\n",
       "    .dataframe thead th {\n",
       "        text-align: right;\n",
       "    }\n",
       "</style>\n",
       "<table border=\"1\" class=\"dataframe\">\n",
       "  <thead>\n",
       "    <tr style=\"text-align: right;\">\n",
       "      <th></th>\n",
       "      <th>PassengerId</th>\n",
       "      <th>Survived</th>\n",
       "      <th>Pclass</th>\n",
       "      <th>Name</th>\n",
       "      <th>Sex</th>\n",
       "      <th>Age</th>\n",
       "      <th>SibSp</th>\n",
       "      <th>Parch</th>\n",
       "      <th>Ticket</th>\n",
       "      <th>Fare</th>\n",
       "      <th>Cabin</th>\n",
       "      <th>Embarked</th>\n",
       "    </tr>\n",
       "  </thead>\n",
       "  <tbody>\n",
       "    <tr>\n",
       "      <th>0</th>\n",
       "      <td>1</td>\n",
       "      <td>0</td>\n",
       "      <td>3</td>\n",
       "      <td>Braund, Mr. Owen Harris</td>\n",
       "      <td>male</td>\n",
       "      <td>22.0</td>\n",
       "      <td>1</td>\n",
       "      <td>0</td>\n",
       "      <td>A/5 21171</td>\n",
       "      <td>7.2500</td>\n",
       "      <td>NaN</td>\n",
       "      <td>S</td>\n",
       "    </tr>\n",
       "    <tr>\n",
       "      <th>1</th>\n",
       "      <td>2</td>\n",
       "      <td>1</td>\n",
       "      <td>1</td>\n",
       "      <td>Cumings, Mrs. John Bradley (Florence Briggs Th...</td>\n",
       "      <td>female</td>\n",
       "      <td>38.0</td>\n",
       "      <td>1</td>\n",
       "      <td>0</td>\n",
       "      <td>PC 17599</td>\n",
       "      <td>71.2833</td>\n",
       "      <td>C85</td>\n",
       "      <td>C</td>\n",
       "    </tr>\n",
       "    <tr>\n",
       "      <th>2</th>\n",
       "      <td>3</td>\n",
       "      <td>1</td>\n",
       "      <td>3</td>\n",
       "      <td>Heikkinen, Miss. Laina</td>\n",
       "      <td>female</td>\n",
       "      <td>26.0</td>\n",
       "      <td>0</td>\n",
       "      <td>0</td>\n",
       "      <td>STON/O2. 3101282</td>\n",
       "      <td>7.9250</td>\n",
       "      <td>NaN</td>\n",
       "      <td>S</td>\n",
       "    </tr>\n",
       "    <tr>\n",
       "      <th>3</th>\n",
       "      <td>4</td>\n",
       "      <td>1</td>\n",
       "      <td>1</td>\n",
       "      <td>Futrelle, Mrs. Jacques Heath (Lily May Peel)</td>\n",
       "      <td>female</td>\n",
       "      <td>35.0</td>\n",
       "      <td>1</td>\n",
       "      <td>0</td>\n",
       "      <td>113803</td>\n",
       "      <td>53.1000</td>\n",
       "      <td>C123</td>\n",
       "      <td>S</td>\n",
       "    </tr>\n",
       "    <tr>\n",
       "      <th>4</th>\n",
       "      <td>5</td>\n",
       "      <td>0</td>\n",
       "      <td>3</td>\n",
       "      <td>Allen, Mr. William Henry</td>\n",
       "      <td>male</td>\n",
       "      <td>35.0</td>\n",
       "      <td>0</td>\n",
       "      <td>0</td>\n",
       "      <td>373450</td>\n",
       "      <td>8.0500</td>\n",
       "      <td>NaN</td>\n",
       "      <td>S</td>\n",
       "    </tr>\n",
       "  </tbody>\n",
       "</table>\n",
       "</div>"
      ],
      "text/plain": [
       "   PassengerId  Survived  Pclass  \\\n",
       "0            1         0       3   \n",
       "1            2         1       1   \n",
       "2            3         1       3   \n",
       "3            4         1       1   \n",
       "4            5         0       3   \n",
       "\n",
       "                                                Name     Sex   Age  SibSp  \\\n",
       "0                            Braund, Mr. Owen Harris    male  22.0      1   \n",
       "1  Cumings, Mrs. John Bradley (Florence Briggs Th...  female  38.0      1   \n",
       "2                             Heikkinen, Miss. Laina  female  26.0      0   \n",
       "3       Futrelle, Mrs. Jacques Heath (Lily May Peel)  female  35.0      1   \n",
       "4                           Allen, Mr. William Henry    male  35.0      0   \n",
       "\n",
       "   Parch            Ticket     Fare Cabin Embarked  \n",
       "0      0         A/5 21171   7.2500   NaN        S  \n",
       "1      0          PC 17599  71.2833   C85        C  \n",
       "2      0  STON/O2. 3101282   7.9250   NaN        S  \n",
       "3      0            113803  53.1000  C123        S  \n",
       "4      0            373450   8.0500   NaN        S  "
      ]
     },
     "execution_count": 2,
     "metadata": {},
     "output_type": "execute_result"
    }
   ],
   "source": [
    "data = pd.read_csv('./data/train.csv')\n",
    "data.head()"
   ]
  },
  {
   "cell_type": "code",
   "execution_count": 3,
   "id": "e0c76f59",
   "metadata": {},
   "outputs": [
    {
     "data": {
      "text/plain": [
       "PassengerId      0\n",
       "Survived         0\n",
       "Pclass           0\n",
       "Name             0\n",
       "Sex              0\n",
       "Age            177\n",
       "SibSp            0\n",
       "Parch            0\n",
       "Ticket           0\n",
       "Fare             0\n",
       "Cabin          687\n",
       "Embarked         2\n",
       "dtype: int64"
      ]
     },
     "execution_count": 3,
     "metadata": {},
     "output_type": "execute_result"
    }
   ],
   "source": [
    "data.isnull().sum()"
   ]
  },
  {
   "cell_type": "markdown",
   "id": "e697e629",
   "metadata": {},
   "source": [
    "> `Age`, `Cabin`, `Embarked`"
   ]
  },
  {
   "cell_type": "code",
   "execution_count": 4,
   "id": "afe563a7",
   "metadata": {},
   "outputs": [
    {
     "data": {
      "image/png": "[encoded data removed]",
      "text/plain": [
       "<Figure size 1296x576 with 2 Axes>"
      ]
     },
     "metadata": {
      "needs_background": "light"
     },
     "output_type": "display_data"
    }
   ],
   "source": [
    "f, ax = plt.subplots(1, 2, figsize=(18, 8))\n",
    "data['Survived'].value_counts().plot.pie(explode=[0, 0.1],\n",
    "                                         autopct='%1.1ff%%',\n",
    "                                         ax=ax[0], shadow=True)\n",
    "ax[0].set_title('Survived')\n",
    "ax[0].set_ylabel('')\n",
    "\n",
    "sns.countplot('Survived', data=data, ax=ax[1])\n",
    "ax[1].set_title('Survived')\n",
    "\n",
    "plt.show()"
   ]
  },
  {
   "cell_type": "markdown",
   "id": "b820cae5",
   "metadata": {},
   "source": [
    "> 생존 o: 38.41% -> 꽤나 `balanced data`\n",
    "> - 각 feature에 따른 생존률을 확인하기 전 데이터 타입부터 이해하기"
   ]
  },
  {
   "cell_type": "code",
   "execution_count": 5,
   "id": "ad4532be",
   "metadata": {},
   "outputs": [
    {
     "data": {
      "text/html": [
       "<div>\n",
       "<style scoped>\n",
       "    .dataframe tbody tr th:only-of-type {\n",
       "        vertical-align: middle;\n",
       "    }\n",
       "\n",
       "    .dataframe tbody tr th {\n",
       "        vertical-align: top;\n",
       "    }\n",
       "\n",
       "    .dataframe thead th {\n",
       "        text-align: right;\n",
       "    }\n",
       "</style>\n",
       "<table border=\"1\" class=\"dataframe\">\n",
       "  <thead>\n",
       "    <tr style=\"text-align: right;\">\n",
       "      <th></th>\n",
       "      <th>PassengerId</th>\n",
       "      <th>Survived</th>\n",
       "      <th>Pclass</th>\n",
       "      <th>Name</th>\n",
       "      <th>Sex</th>\n",
       "      <th>Age</th>\n",
       "      <th>SibSp</th>\n",
       "      <th>Parch</th>\n",
       "      <th>Ticket</th>\n",
       "      <th>Fare</th>\n",
       "      <th>Cabin</th>\n",
       "      <th>Embarked</th>\n",
       "    </tr>\n",
       "  </thead>\n",
       "  <tbody>\n",
       "    <tr>\n",
       "      <th>0</th>\n",
       "      <td>1</td>\n",
       "      <td>0</td>\n",
       "      <td>3</td>\n",
       "      <td>Braund, Mr. Owen Harris</td>\n",
       "      <td>male</td>\n",
       "      <td>22.0</td>\n",
       "      <td>1</td>\n",
       "      <td>0</td>\n",
       "      <td>A/5 21171</td>\n",
       "      <td>7.2500</td>\n",
       "      <td>NaN</td>\n",
       "      <td>S</td>\n",
       "    </tr>\n",
       "    <tr>\n",
       "      <th>1</th>\n",
       "      <td>2</td>\n",
       "      <td>1</td>\n",
       "      <td>1</td>\n",
       "      <td>Cumings, Mrs. John Bradley (Florence Briggs Th...</td>\n",
       "      <td>female</td>\n",
       "      <td>38.0</td>\n",
       "      <td>1</td>\n",
       "      <td>0</td>\n",
       "      <td>PC 17599</td>\n",
       "      <td>71.2833</td>\n",
       "      <td>C85</td>\n",
       "      <td>C</td>\n",
       "    </tr>\n",
       "    <tr>\n",
       "      <th>2</th>\n",
       "      <td>3</td>\n",
       "      <td>1</td>\n",
       "      <td>3</td>\n",
       "      <td>Heikkinen, Miss. Laina</td>\n",
       "      <td>female</td>\n",
       "      <td>26.0</td>\n",
       "      <td>0</td>\n",
       "      <td>0</td>\n",
       "      <td>STON/O2. 3101282</td>\n",
       "      <td>7.9250</td>\n",
       "      <td>NaN</td>\n",
       "      <td>S</td>\n",
       "    </tr>\n",
       "    <tr>\n",
       "      <th>3</th>\n",
       "      <td>4</td>\n",
       "      <td>1</td>\n",
       "      <td>1</td>\n",
       "      <td>Futrelle, Mrs. Jacques Heath (Lily May Peel)</td>\n",
       "      <td>female</td>\n",
       "      <td>35.0</td>\n",
       "      <td>1</td>\n",
       "      <td>0</td>\n",
       "      <td>113803</td>\n",
       "      <td>53.1000</td>\n",
       "      <td>C123</td>\n",
       "      <td>S</td>\n",
       "    </tr>\n",
       "    <tr>\n",
       "      <th>4</th>\n",
       "      <td>5</td>\n",
       "      <td>0</td>\n",
       "      <td>3</td>\n",
       "      <td>Allen, Mr. William Henry</td>\n",
       "      <td>male</td>\n",
       "      <td>35.0</td>\n",
       "      <td>0</td>\n",
       "      <td>0</td>\n",
       "      <td>373450</td>\n",
       "      <td>8.0500</td>\n",
       "      <td>NaN</td>\n",
       "      <td>S</td>\n",
       "    </tr>\n",
       "  </tbody>\n",
       "</table>\n",
       "</div>"
      ],
      "text/plain": [
       "   PassengerId  Survived  Pclass  \\\n",
       "0            1         0       3   \n",
       "1            2         1       1   \n",
       "2            3         1       3   \n",
       "3            4         1       1   \n",
       "4            5         0       3   \n",
       "\n",
       "                                                Name     Sex   Age  SibSp  \\\n",
       "0                            Braund, Mr. Owen Harris    male  22.0      1   \n",
       "1  Cumings, Mrs. John Bradley (Florence Briggs Th...  female  38.0      1   \n",
       "2                             Heikkinen, Miss. Laina  female  26.0      0   \n",
       "3       Futrelle, Mrs. Jacques Heath (Lily May Peel)  female  35.0      1   \n",
       "4                           Allen, Mr. William Henry    male  35.0      0   \n",
       "\n",
       "   Parch            Ticket     Fare Cabin Embarked  \n",
       "0      0         A/5 21171   7.2500   NaN        S  \n",
       "1      0          PC 17599  71.2833   C85        C  \n",
       "2      0  STON/O2. 3101282   7.9250   NaN        S  \n",
       "3      0            113803  53.1000  C123        S  \n",
       "4      0            373450   8.0500   NaN        S  "
      ]
     },
     "execution_count": 5,
     "metadata": {},
     "output_type": "execute_result"
    }
   ],
   "source": [
    "data.head()"
   ]
  },
  {
   "cell_type": "markdown",
   "id": "a2e48106",
   "metadata": {},
   "source": [
    "### 2. Types of Features\n",
    "#### Categorical Features\n",
    "- Sex, Embarked\n",
    "\n",
    "#### Ordinal Features\n",
    "- Pclass\n",
    "\n",
    "#### Continous Feature\n",
    "- Age"
   ]
  },
  {
   "cell_type": "markdown",
   "id": "07d4e7f1",
   "metadata": {},
   "source": [
    "### 1.1 Analysing the Features\n",
    "### Sex (Categorical)"
   ]
  },
  {
   "cell_type": "code",
   "execution_count": 6,
   "id": "69de83b0",
   "metadata": {},
   "outputs": [
    {
     "data": {
      "text/plain": [
       "Sex     Survived\n",
       "female  0            81\n",
       "        1           233\n",
       "male    0           468\n",
       "        1           109\n",
       "Name: Survived, dtype: int64"
      ]
     },
     "execution_count": 6,
     "metadata": {},
     "output_type": "execute_result"
    }
   ],
   "source": [
    "data.groupby(['Sex', 'Survived'])['Survived'].count()"
   ]
  },
  {
   "cell_type": "code",
   "execution_count": 7,
   "id": "afcb0980",
   "metadata": {},
   "outputs": [
    {
     "data": {
      "image/png": "[encoded data removed]",
      "text/plain": [
       "<Figure size 1296x576 with 2 Axes>"
      ]
     },
     "metadata": {
      "needs_background": "light"
     },
     "output_type": "display_data"
    }
   ],
   "source": [
    "f, ax = plt.subplots(1, 2, figsize=(18, 8))\n",
    "\n",
    "data[['Sex', 'Survived']].groupby(['Sex']).mean().plot.bar(ax=ax[0])\n",
    "ax[0].set_title('Survived vs. Sex')\n",
    "\n",
    "sns.countplot('Sex', hue='Survived', data=data, ax=ax[1])\n",
    "ax[1].set_title('Sex: Survived vs. Dead')\n",
    "\n",
    "plt.show()"
   ]
  },
  {
   "cell_type": "markdown",
   "id": "c618e104",
   "metadata": {},
   "source": [
    "> - 여자의 생존률이 굉장히 높음: `Sex`라는 feature이 모델에 중요한 변수처럼 보인다."
   ]
  },
  {
   "cell_type": "markdown",
   "id": "3c9cd79b",
   "metadata": {},
   "source": [
    "### Pclass (Ordinal)"
   ]
  },
  {
   "cell_type": "code",
   "execution_count": 8,
   "id": "eab8018d",
   "metadata": {},
   "outputs": [
    {
     "data": {
      "text/html": [
       "<style  type=\"text/css\" >\n",
       "#T_34ea8_row0_col0,#T_34ea8_row1_col1,#T_34ea8_row1_col2{\n",
       "            background-color:  #ffff66;\n",
       "            color:  #000000;\n",
       "        }#T_34ea8_row0_col1{\n",
       "            background-color:  #cee666;\n",
       "            color:  #000000;\n",
       "        }#T_34ea8_row0_col2{\n",
       "            background-color:  #f4fa66;\n",
       "            color:  #000000;\n",
       "        }#T_34ea8_row1_col0{\n",
       "            background-color:  #f6fa66;\n",
       "            color:  #000000;\n",
       "        }#T_34ea8_row2_col0{\n",
       "            background-color:  #60b066;\n",
       "            color:  #000000;\n",
       "        }#T_34ea8_row2_col1{\n",
       "            background-color:  #dfef66;\n",
       "            color:  #000000;\n",
       "        }#T_34ea8_row2_col2{\n",
       "            background-color:  #90c866;\n",
       "            color:  #000000;\n",
       "        }#T_34ea8_row3_col0,#T_34ea8_row3_col1,#T_34ea8_row3_col2{\n",
       "            background-color:  #008066;\n",
       "            color:  #f1f1f1;\n",
       "        }</style><table id=\"T_34ea8_\" ><thead>    <tr>        <th class=\"index_name level0\" >Survived</th>        <th class=\"col_heading level0 col0\" >0</th>        <th class=\"col_heading level0 col1\" >1</th>        <th class=\"col_heading level0 col2\" >All</th>    </tr>    <tr>        <th class=\"index_name level0\" >Pclass</th>        <th class=\"blank\" ></th>        <th class=\"blank\" ></th>        <th class=\"blank\" ></th>    </tr></thead><tbody>\n",
       "                <tr>\n",
       "                        <th id=\"T_34ea8_level0_row0\" class=\"row_heading level0 row0\" >1</th>\n",
       "                        <td id=\"T_34ea8_row0_col0\" class=\"data row0 col0\" >80</td>\n",
       "                        <td id=\"T_34ea8_row0_col1\" class=\"data row0 col1\" >136</td>\n",
       "                        <td id=\"T_34ea8_row0_col2\" class=\"data row0 col2\" >216</td>\n",
       "            </tr>\n",
       "            <tr>\n",
       "                        <th id=\"T_34ea8_level0_row1\" class=\"row_heading level0 row1\" >2</th>\n",
       "                        <td id=\"T_34ea8_row1_col0\" class=\"data row1 col0\" >97</td>\n",
       "                        <td id=\"T_34ea8_row1_col1\" class=\"data row1 col1\" >87</td>\n",
       "                        <td id=\"T_34ea8_row1_col2\" class=\"data row1 col2\" >184</td>\n",
       "            </tr>\n",
       "            <tr>\n",
       "                        <th id=\"T_34ea8_level0_row2\" class=\"row_heading level0 row2\" >3</th>\n",
       "                        <td id=\"T_34ea8_row2_col0\" class=\"data row2 col0\" >372</td>\n",
       "                        <td id=\"T_34ea8_row2_col1\" class=\"data row2 col1\" >119</td>\n",
       "                        <td id=\"T_34ea8_row2_col2\" class=\"data row2 col2\" >491</td>\n",
       "            </tr>\n",
       "            <tr>\n",
       "                        <th id=\"T_34ea8_level0_row3\" class=\"row_heading level0 row3\" >All</th>\n",
       "                        <td id=\"T_34ea8_row3_col0\" class=\"data row3 col0\" >549</td>\n",
       "                        <td id=\"T_34ea8_row3_col1\" class=\"data row3 col1\" >342</td>\n",
       "                        <td id=\"T_34ea8_row3_col2\" class=\"data row3 col2\" >891</td>\n",
       "            </tr>\n",
       "    </tbody></table>"
      ],
      "text/plain": [
       "<pandas.io.formats.style.Styler at 0x7fcfe6bd3a30>"
      ]
     },
     "execution_count": 8,
     "metadata": {},
     "output_type": "execute_result"
    }
   ],
   "source": [
    "pd.crosstab(data['Pclass'], data['Survived'], margins=True).style.background_gradient(cmap='summer_r')"
   ]
  },
  {
   "cell_type": "code",
   "execution_count": 9,
   "id": "b9d4a771",
   "metadata": {},
   "outputs": [
    {
     "data": {
      "image/png": "[encoded data removed]",
      "text/plain": [
       "<Figure size 430.5x360 with 1 Axes>"
      ]
     },
     "metadata": {
      "needs_background": "light"
     },
     "output_type": "display_data"
    }
   ],
   "source": [
    "sns.factorplot('Pclass', 'Survived', hue='Sex', data=data)\n",
    "plt.show()"
   ]
  },
  {
   "cell_type": "markdown",
   "id": "4fbe8cd3",
   "metadata": {},
   "source": [
    "**FactorPlot**: 범주형 데이터를 쉽게 분리해 그릴 수 있음\n",
    "> - Pclass1의 여자가 거의 95%"
   ]
  },
  {
   "cell_type": "markdown",
   "id": "8b2a0d84",
   "metadata": {},
   "source": [
    "### Age (Continuous)"
   ]
  },
  {
   "cell_type": "code",
   "execution_count": 11,
   "id": "6242f211",
   "metadata": {},
   "outputs": [
    {
     "name": "stdout",
     "output_type": "stream",
     "text": [
      "Oldest Passenger was of:  80.0 Years\n",
      "Youngest Passenger was of:  0.42 Years\n",
      "Average Age on the ship:  29.69911764705882 Years\n"
     ]
    }
   ],
   "source": [
    "print('Oldest Passenger was of: ', data['Age'].max(), 'Years')\n",
    "print('Youngest Passenger was of: ', data['Age'].min(), 'Years')\n",
    "print('Average Age on the ship: ', data['Age'].mean(), 'Years')"
   ]
  },
  {
   "cell_type": "code",
   "execution_count": 13,
   "id": "a80b572c",
   "metadata": {},
   "outputs": [
    {
     "data": {
      "image/png": "[encoded data removed]",
      "text/plain": [
       "<Figure size 1296x576 with 2 Axes>"
      ]
     },
     "metadata": {
      "needs_background": "light"
     },
     "output_type": "display_data"
    }
   ],
   "source": [
    "f, ax = plt.subplots(1, 2, figsize=(18, 8))\n",
    "\n",
    "sns.violinplot('Pclass', 'Age', hue='Survived', data=data, split=True, ax=ax[0])\n",
    "ax[0].set_title('Pclass and Age vs. Survived')\n",
    "ax[0].set_yticks(range(0, 110, 10))\n",
    "\n",
    "sns.violinplot('Sex', 'Age', hue='Survived', data=data, split=True, ax=ax[1])\n",
    "ax[1].set_title('Sex and Age vs. Survived')\n",
    "ax[1].set_yticks(range(0, 110, 10))\n",
    "\n",
    "plt.show()"
   ]
  },
  {
   "cell_type": "markdown",
   "id": "9e9b805d",
   "metadata": {},
   "source": [
    "> - Pclass를 보면 age 10 아래 아이들의 생존률이 꽤 높다.\n",
    "> - Pclass 1에서 여자의 생존률이 20-50세에 높음\n",
    "> - 남자는 나이가 들수록 생존률이 낮아짐"
   ]
  },
  {
   "cell_type": "markdown",
   "id": "e781fa98",
   "metadata": {},
   "source": [
    "### Age Null Data\n",
    "- NaN을 단순히 평균으로 채워버리면 4살 아이와 29살에게 같은 나이를 부여함이 되는데 옳지 않다.\n",
    "- `.`을 기준으로 Salutations 추출하기"
   ]
  },
  {
   "cell_type": "code",
   "execution_count": 14,
   "id": "3390b603",
   "metadata": {},
   "outputs": [
    {
     "data": {
      "text/plain": [
       "PassengerId      0\n",
       "Survived         0\n",
       "Pclass           0\n",
       "Name             0\n",
       "Sex              0\n",
       "Age            177\n",
       "SibSp            0\n",
       "Parch            0\n",
       "Ticket           0\n",
       "Fare             0\n",
       "Cabin          687\n",
       "Embarked         2\n",
       "dtype: int64"
      ]
     },
     "execution_count": 14,
     "metadata": {},
     "output_type": "execute_result"
    }
   ],
   "source": [
    "data.isnull().sum()"
   ]
  },
  {
   "cell_type": "code",
   "execution_count": 15,
   "id": "55921482",
   "metadata": {},
   "outputs": [],
   "source": [
    "data['Initial'] = 0\n",
    "for i in data:\n",
    "    data['Initial'] = data.Name.str.extract('([A-Za-z]+)\\.') # extrcat Salutations"
   ]
  },
  {
   "cell_type": "code",
   "execution_count": 16,
   "id": "6a13a905",
   "metadata": {},
   "outputs": [
    {
     "data": {
      "text/html": [
       "<div>\n",
       "<style scoped>\n",
       "    .dataframe tbody tr th:only-of-type {\n",
       "        vertical-align: middle;\n",
       "    }\n",
       "\n",
       "    .dataframe tbody tr th {\n",
       "        vertical-align: top;\n",
       "    }\n",
       "\n",
       "    .dataframe thead th {\n",
       "        text-align: right;\n",
       "    }\n",
       "</style>\n",
       "<table border=\"1\" class=\"dataframe\">\n",
       "  <thead>\n",
       "    <tr style=\"text-align: right;\">\n",
       "      <th></th>\n",
       "      <th>PassengerId</th>\n",
       "      <th>Survived</th>\n",
       "      <th>Pclass</th>\n",
       "      <th>Name</th>\n",
       "      <th>Sex</th>\n",
       "      <th>Age</th>\n",
       "      <th>SibSp</th>\n",
       "      <th>Parch</th>\n",
       "      <th>Ticket</th>\n",
       "      <th>Fare</th>\n",
       "      <th>Cabin</th>\n",
       "      <th>Embarked</th>\n",
       "      <th>Initial</th>\n",
       "    </tr>\n",
       "  </thead>\n",
       "  <tbody>\n",
       "    <tr>\n",
       "      <th>0</th>\n",
       "      <td>1</td>\n",
       "      <td>0</td>\n",
       "      <td>3</td>\n",
       "      <td>Braund, Mr. Owen Harris</td>\n",
       "      <td>male</td>\n",
       "      <td>22.0</td>\n",
       "      <td>1</td>\n",
       "      <td>0</td>\n",
       "      <td>A/5 21171</td>\n",
       "      <td>7.2500</td>\n",
       "      <td>NaN</td>\n",
       "      <td>S</td>\n",
       "      <td>Mr</td>\n",
       "    </tr>\n",
       "    <tr>\n",
       "      <th>1</th>\n",
       "      <td>2</td>\n",
       "      <td>1</td>\n",
       "      <td>1</td>\n",
       "      <td>Cumings, Mrs. John Bradley (Florence Briggs Th...</td>\n",
       "      <td>female</td>\n",
       "      <td>38.0</td>\n",
       "      <td>1</td>\n",
       "      <td>0</td>\n",
       "      <td>PC 17599</td>\n",
       "      <td>71.2833</td>\n",
       "      <td>C85</td>\n",
       "      <td>C</td>\n",
       "      <td>Mrs</td>\n",
       "    </tr>\n",
       "    <tr>\n",
       "      <th>2</th>\n",
       "      <td>3</td>\n",
       "      <td>1</td>\n",
       "      <td>3</td>\n",
       "      <td>Heikkinen, Miss. Laina</td>\n",
       "      <td>female</td>\n",
       "      <td>26.0</td>\n",
       "      <td>0</td>\n",
       "      <td>0</td>\n",
       "      <td>STON/O2. 3101282</td>\n",
       "      <td>7.9250</td>\n",
       "      <td>NaN</td>\n",
       "      <td>S</td>\n",
       "      <td>Miss</td>\n",
       "    </tr>\n",
       "    <tr>\n",
       "      <th>3</th>\n",
       "      <td>4</td>\n",
       "      <td>1</td>\n",
       "      <td>1</td>\n",
       "      <td>Futrelle, Mrs. Jacques Heath (Lily May Peel)</td>\n",
       "      <td>female</td>\n",
       "      <td>35.0</td>\n",
       "      <td>1</td>\n",
       "      <td>0</td>\n",
       "      <td>113803</td>\n",
       "      <td>53.1000</td>\n",
       "      <td>C123</td>\n",
       "      <td>S</td>\n",
       "      <td>Mrs</td>\n",
       "    </tr>\n",
       "    <tr>\n",
       "      <th>4</th>\n",
       "      <td>5</td>\n",
       "      <td>0</td>\n",
       "      <td>3</td>\n",
       "      <td>Allen, Mr. William Henry</td>\n",
       "      <td>male</td>\n",
       "      <td>35.0</td>\n",
       "      <td>0</td>\n",
       "      <td>0</td>\n",
       "      <td>373450</td>\n",
       "      <td>8.0500</td>\n",
       "      <td>NaN</td>\n",
       "      <td>S</td>\n",
       "      <td>Mr</td>\n",
       "    </tr>\n",
       "  </tbody>\n",
       "</table>\n",
       "</div>"
      ],
      "text/plain": [
       "   PassengerId  Survived  Pclass  \\\n",
       "0            1         0       3   \n",
       "1            2         1       1   \n",
       "2            3         1       3   \n",
       "3            4         1       1   \n",
       "4            5         0       3   \n",
       "\n",
       "                                                Name     Sex   Age  SibSp  \\\n",
       "0                            Braund, Mr. Owen Harris    male  22.0      1   \n",
       "1  Cumings, Mrs. John Bradley (Florence Briggs Th...  female  38.0      1   \n",
       "2                             Heikkinen, Miss. Laina  female  26.0      0   \n",
       "3       Futrelle, Mrs. Jacques Heath (Lily May Peel)  female  35.0      1   \n",
       "4                           Allen, Mr. William Henry    male  35.0      0   \n",
       "\n",
       "   Parch            Ticket     Fare Cabin Embarked Initial  \n",
       "0      0         A/5 21171   7.2500   NaN        S      Mr  \n",
       "1      0          PC 17599  71.2833   C85        C     Mrs  \n",
       "2      0  STON/O2. 3101282   7.9250   NaN        S    Miss  \n",
       "3      0            113803  53.1000  C123        S     Mrs  \n",
       "4      0            373450   8.0500   NaN        S      Mr  "
      ]
     },
     "execution_count": 16,
     "metadata": {},
     "output_type": "execute_result"
    }
   ],
   "source": [
    "data.head()"
   ]
  },
  {
   "cell_type": "code",
   "execution_count": 19,
   "id": "6c17e15c",
   "metadata": {},
   "outputs": [
    {
     "data": {
      "text/html": [
       "<style  type=\"text/css\" >\n",
       "#T_b5fd0_row0_col0,#T_b5fd0_row0_col1,#T_b5fd0_row0_col3,#T_b5fd0_row0_col4,#T_b5fd0_row0_col5,#T_b5fd0_row0_col7,#T_b5fd0_row0_col8,#T_b5fd0_row0_col12,#T_b5fd0_row0_col15,#T_b5fd0_row0_col16,#T_b5fd0_row1_col2,#T_b5fd0_row1_col6,#T_b5fd0_row1_col9,#T_b5fd0_row1_col10,#T_b5fd0_row1_col11,#T_b5fd0_row1_col13,#T_b5fd0_row1_col14{\n",
       "            background-color:  #ffff66;\n",
       "            color:  #000000;\n",
       "        }#T_b5fd0_row0_col2,#T_b5fd0_row0_col6,#T_b5fd0_row0_col9,#T_b5fd0_row0_col10,#T_b5fd0_row0_col11,#T_b5fd0_row0_col13,#T_b5fd0_row0_col14,#T_b5fd0_row1_col0,#T_b5fd0_row1_col1,#T_b5fd0_row1_col3,#T_b5fd0_row1_col4,#T_b5fd0_row1_col5,#T_b5fd0_row1_col7,#T_b5fd0_row1_col8,#T_b5fd0_row1_col12,#T_b5fd0_row1_col15,#T_b5fd0_row1_col16{\n",
       "            background-color:  #008066;\n",
       "            color:  #f1f1f1;\n",
       "        }</style><table id=\"T_b5fd0_\" ><thead>    <tr>        <th class=\"index_name level0\" >Initial</th>        <th class=\"col_heading level0 col0\" >Capt</th>        <th class=\"col_heading level0 col1\" >Col</th>        <th class=\"col_heading level0 col2\" >Countess</th>        <th class=\"col_heading level0 col3\" >Don</th>        <th class=\"col_heading level0 col4\" >Dr</th>        <th class=\"col_heading level0 col5\" >Jonkheer</th>        <th class=\"col_heading level0 col6\" >Lady</th>        <th class=\"col_heading level0 col7\" >Major</th>        <th class=\"col_heading level0 col8\" >Master</th>        <th class=\"col_heading level0 col9\" >Miss</th>        <th class=\"col_heading level0 col10\" >Mlle</th>        <th class=\"col_heading level0 col11\" >Mme</th>        <th class=\"col_heading level0 col12\" >Mr</th>        <th class=\"col_heading level0 col13\" >Mrs</th>        <th class=\"col_heading level0 col14\" >Ms</th>        <th class=\"col_heading level0 col15\" >Rev</th>        <th class=\"col_heading level0 col16\" >Sir</th>    </tr>    <tr>        <th class=\"index_name level0\" >Sex</th>        <th class=\"blank\" ></th>        <th class=\"blank\" ></th>        <th class=\"blank\" ></th>        <th class=\"blank\" ></th>        <th class=\"blank\" ></th>        <th class=\"blank\" ></th>        <th class=\"blank\" ></th>        <th class=\"blank\" ></th>        <th class=\"blank\" ></th>        <th class=\"blank\" ></th>        <th class=\"blank\" ></th>        <th class=\"blank\" ></th>        <th class=\"blank\" ></th>        <th class=\"blank\" ></th>        <th class=\"blank\" ></th>        <th class=\"blank\" ></th>        <th class=\"blank\" ></th>    </tr></thead><tbody>\n",
       "                <tr>\n",
       "                        <th id=\"T_b5fd0_level0_row0\" class=\"row_heading level0 row0\" >female</th>\n",
       "                        <td id=\"T_b5fd0_row0_col0\" class=\"data row0 col0\" >0</td>\n",
       "                        <td id=\"T_b5fd0_row0_col1\" class=\"data row0 col1\" >0</td>\n",
       "                        <td id=\"T_b5fd0_row0_col2\" class=\"data row0 col2\" >1</td>\n",
       "                        <td id=\"T_b5fd0_row0_col3\" class=\"data row0 col3\" >0</td>\n",
       "                        <td id=\"T_b5fd0_row0_col4\" class=\"data row0 col4\" >1</td>\n",
       "                        <td id=\"T_b5fd0_row0_col5\" class=\"data row0 col5\" >0</td>\n",
       "                        <td id=\"T_b5fd0_row0_col6\" class=\"data row0 col6\" >1</td>\n",
       "                        <td id=\"T_b5fd0_row0_col7\" class=\"data row0 col7\" >0</td>\n",
       "                        <td id=\"T_b5fd0_row0_col8\" class=\"data row0 col8\" >0</td>\n",
       "                        <td id=\"T_b5fd0_row0_col9\" class=\"data row0 col9\" >182</td>\n",
       "                        <td id=\"T_b5fd0_row0_col10\" class=\"data row0 col10\" >2</td>\n",
       "                        <td id=\"T_b5fd0_row0_col11\" class=\"data row0 col11\" >1</td>\n",
       "                        <td id=\"T_b5fd0_row0_col12\" class=\"data row0 col12\" >0</td>\n",
       "                        <td id=\"T_b5fd0_row0_col13\" class=\"data row0 col13\" >125</td>\n",
       "                        <td id=\"T_b5fd0_row0_col14\" class=\"data row0 col14\" >1</td>\n",
       "                        <td id=\"T_b5fd0_row0_col15\" class=\"data row0 col15\" >0</td>\n",
       "                        <td id=\"T_b5fd0_row0_col16\" class=\"data row0 col16\" >0</td>\n",
       "            </tr>\n",
       "            <tr>\n",
       "                        <th id=\"T_b5fd0_level0_row1\" class=\"row_heading level0 row1\" >male</th>\n",
       "                        <td id=\"T_b5fd0_row1_col0\" class=\"data row1 col0\" >1</td>\n",
       "                        <td id=\"T_b5fd0_row1_col1\" class=\"data row1 col1\" >2</td>\n",
       "                        <td id=\"T_b5fd0_row1_col2\" class=\"data row1 col2\" >0</td>\n",
       "                        <td id=\"T_b5fd0_row1_col3\" class=\"data row1 col3\" >1</td>\n",
       "                        <td id=\"T_b5fd0_row1_col4\" class=\"data row1 col4\" >6</td>\n",
       "                        <td id=\"T_b5fd0_row1_col5\" class=\"data row1 col5\" >1</td>\n",
       "                        <td id=\"T_b5fd0_row1_col6\" class=\"data row1 col6\" >0</td>\n",
       "                        <td id=\"T_b5fd0_row1_col7\" class=\"data row1 col7\" >2</td>\n",
       "                        <td id=\"T_b5fd0_row1_col8\" class=\"data row1 col8\" >40</td>\n",
       "                        <td id=\"T_b5fd0_row1_col9\" class=\"data row1 col9\" >0</td>\n",
       "                        <td id=\"T_b5fd0_row1_col10\" class=\"data row1 col10\" >0</td>\n",
       "                        <td id=\"T_b5fd0_row1_col11\" class=\"data row1 col11\" >0</td>\n",
       "                        <td id=\"T_b5fd0_row1_col12\" class=\"data row1 col12\" >517</td>\n",
       "                        <td id=\"T_b5fd0_row1_col13\" class=\"data row1 col13\" >0</td>\n",
       "                        <td id=\"T_b5fd0_row1_col14\" class=\"data row1 col14\" >0</td>\n",
       "                        <td id=\"T_b5fd0_row1_col15\" class=\"data row1 col15\" >6</td>\n",
       "                        <td id=\"T_b5fd0_row1_col16\" class=\"data row1 col16\" >1</td>\n",
       "            </tr>\n",
       "    </tbody></table>"
      ],
      "text/plain": [
       "<pandas.io.formats.style.Styler at 0x7fcfe6c293a0>"
      ]
     },
     "execution_count": 19,
     "metadata": {},
     "output_type": "execute_result"
    }
   ],
   "source": [
    "pd.crosstab(data['Initial'], data['Sex']).T.style.background_gradient(cmap='summer_r')"
   ]
  },
  {
   "cell_type": "markdown",
   "id": "a1edaf91",
   "metadata": {},
   "source": [
    "> `Mlle`, `Mmme`과 같은 Initial은 오타처럼 보인다.\n",
    "> - replace하기"
   ]
  },
  {
   "cell_type": "code",
   "execution_count": 20,
   "id": "611fe08c",
   "metadata": {},
   "outputs": [],
   "source": [
    "data['Initial'].replace(['Mlle','Mme','Ms','Dr','Major','Lady','Countess','Jonkheer','Col','Rev','Capt','Sir','Don'],\n",
    "                        ['Miss','Miss','Miss','Mr','Mr','Mrs','Mrs','Other','Other','Other','Mr','Mr','Mr'],inplace=True)"
   ]
  },
  {
   "cell_type": "code",
   "execution_count": 21,
   "id": "804b999e",
   "metadata": {},
   "outputs": [
    {
     "data": {
      "text/plain": [
       "Initial\n",
       "Master     4.574167\n",
       "Miss      21.860000\n",
       "Mr        32.739609\n",
       "Mrs       35.981818\n",
       "Other     45.888889\n",
       "Name: Age, dtype: float64"
      ]
     },
     "execution_count": 21,
     "metadata": {},
     "output_type": "execute_result"
    }
   ],
   "source": [
    "data.groupby('Initial')['Age'].mean() # average age by Initials"
   ]
  },
  {
   "cell_type": "markdown",
   "id": "89390a02",
   "metadata": {},
   "source": [
    "### Filling NaN Ages"
   ]
  },
  {
   "cell_type": "code",
   "execution_count": 26,
   "id": "e66ac79d",
   "metadata": {},
   "outputs": [],
   "source": [
    "data.loc[(data.Age.isnull()) & (data.Initial=='Mr'), 'Age'] = 33\n",
    "data.loc[(data.Age.isnull()) & (data.Initial=='Master'), 'Age'] = 5\n",
    "data.loc[(data.Age.isnull()) & (data.Initial=='Miss'), 'Age'] = 22\n",
    "data.loc[(data.Age.isnull()) & (data.Initial=='Mrs'), 'Age'] = 36\n",
    "data.loc[(data.Age.isnull()) & (data.Initial=='Other'), 'Age'] = 46"
   ]
  },
  {
   "cell_type": "code",
   "execution_count": 27,
   "id": "3309f033",
   "metadata": {},
   "outputs": [
    {
     "data": {
      "text/plain": [
       "False"
      ]
     },
     "execution_count": 27,
     "metadata": {},
     "output_type": "execute_result"
    }
   ],
   "source": [
    "data.Age.isnull().any() # no null left"
   ]
  },
  {
   "cell_type": "code",
   "execution_count": 36,
   "id": "1ea53bee",
   "metadata": {},
   "outputs": [
    {
     "data": {
      "image/png": "[encoded data removed]",
      "text/plain": [
       "<Figure size 1440x720 with 2 Axes>"
      ]
     },
     "metadata": {
      "needs_background": "light"
     },
     "output_type": "display_data"
    }
   ],
   "source": [
    "f, ax = plt.subplots(1, 2, figsize=(20, 10))\n",
    "data[data['Survived'] == 0].Age.plot.hist(ax=ax[0], bins=20, edgecolor='b', color='r')\n",
    "ax[0].set_title('Survived == 0')\n",
    "x1 = list(range(0, 85, 5)) # 굳이 list로 묶어주는 이유는?\n",
    "# x1 = range(0, 85, 5)\n",
    "ax[0].set_xticks(x1)\n",
    "\n",
    "data[data['Survived'] == 1].Age.plot.hist(ax=ax[1], bins=20, edgecolor='b', color='g')\n",
    "ax[1].set_title('Survived == 1')\n",
    "x2 = list(range(0, 85, 5))\n",
    "ax[1].set_xticks(x2)\n",
    "\n",
    "plt.show()"
   ]
  },
  {
   "cell_type": "markdown",
   "id": "398e4470",
   "metadata": {},
   "source": [
    "> - 5살 이하의 생존률이 높다.\n",
    "> - 탑승자 중 가장 연장자(80세)는 생존자\n",
    "> - 최대 사망자 수는 30~40세에 가장 많다."
   ]
  },
  {
   "cell_type": "code",
   "execution_count": 41,
   "id": "fedb35c2",
   "metadata": {},
   "outputs": [
    {
     "data": {
      "image/png": "[encoded data removed]",
      "text/plain": [
       "<Figure size 1800x360 with 5 Axes>"
      ]
     },
     "metadata": {
      "needs_background": "light"
     },
     "output_type": "display_data"
    }
   ],
   "source": [
    "sns.factorplot('Pclass', 'Survived', col='Initial', data=data)\n",
    "plt.show()"
   ]
  },
  {
   "cell_type": "markdown",
   "id": "4b521e54",
   "metadata": {},
   "source": [
    "> - Mrs. Miss, Master(5)에서 생존률이 높은 것을 봐서 여자와 아이의 생존이 우선시된다."
   ]
  },
  {
   "cell_type": "markdown",
   "id": "07fdf2ef",
   "metadata": {},
   "source": [
    "### Embarked (Categorical)"
   ]
  },
  {
   "cell_type": "code",
   "execution_count": 49,
   "id": "4e79aade",
   "metadata": {},
   "outputs": [
    {
     "data": {
      "text/html": [
       "<style  type=\"text/css\" >\n",
       "#T_c47d7_row0_col0,#T_c47d7_row1_col2{\n",
       "            background-color:  #fcfe66;\n",
       "            color:  #000000;\n",
       "        }#T_c47d7_row0_col1{\n",
       "            background-color:  #d2e866;\n",
       "            color:  #000000;\n",
       "        }#T_c47d7_row0_col2{\n",
       "            background-color:  #f2f866;\n",
       "            color:  #000000;\n",
       "        }#T_c47d7_row0_col3{\n",
       "            background-color:  #d8ec66;\n",
       "            color:  #000000;\n",
       "        }#T_c47d7_row0_col4,#T_c47d7_row2_col3{\n",
       "            background-color:  #e8f466;\n",
       "            color:  #000000;\n",
       "        }#T_c47d7_row1_col0,#T_c47d7_row3_col0,#T_c47d7_row3_col1,#T_c47d7_row3_col2,#T_c47d7_row3_col3,#T_c47d7_row3_col4,#T_c47d7_row4_col0,#T_c47d7_row4_col2,#T_c47d7_row4_col3,#T_c47d7_row4_col4{\n",
       "            background-color:  #ffff66;\n",
       "            color:  #000000;\n",
       "        }#T_c47d7_row1_col1,#T_c47d7_row6_col0{\n",
       "            background-color:  #f9fc66;\n",
       "            color:  #000000;\n",
       "        }#T_c47d7_row1_col3,#T_c47d7_row1_col4{\n",
       "            background-color:  #fbfd66;\n",
       "            color:  #000000;\n",
       "        }#T_c47d7_row2_col0,#T_c47d7_row5_col1{\n",
       "            background-color:  #e6f266;\n",
       "            color:  #000000;\n",
       "        }#T_c47d7_row2_col1{\n",
       "            background-color:  #f0f866;\n",
       "            color:  #000000;\n",
       "        }#T_c47d7_row2_col2{\n",
       "            background-color:  #eef666;\n",
       "            color:  #000000;\n",
       "        }#T_c47d7_row2_col4,#T_c47d7_row7_col0{\n",
       "            background-color:  #edf666;\n",
       "            color:  #000000;\n",
       "        }#T_c47d7_row4_col1{\n",
       "            background-color:  #fefe66;\n",
       "            color:  #000000;\n",
       "        }#T_c47d7_row5_col0{\n",
       "            background-color:  #e3f166;\n",
       "            color:  #000000;\n",
       "        }#T_c47d7_row5_col2{\n",
       "            background-color:  #ecf666;\n",
       "            color:  #000000;\n",
       "        }#T_c47d7_row5_col3{\n",
       "            background-color:  #f8fc66;\n",
       "            color:  #000000;\n",
       "        }#T_c47d7_row5_col4{\n",
       "            background-color:  #ebf566;\n",
       "            color:  #000000;\n",
       "        }#T_c47d7_row6_col1{\n",
       "            background-color:  #cde666;\n",
       "            color:  #000000;\n",
       "        }#T_c47d7_row6_col2{\n",
       "            background-color:  #e4f266;\n",
       "            color:  #000000;\n",
       "        }#T_c47d7_row6_col3{\n",
       "            background-color:  #bede66;\n",
       "            color:  #000000;\n",
       "        }#T_c47d7_row6_col4{\n",
       "            background-color:  #dbed66;\n",
       "            color:  #000000;\n",
       "        }#T_c47d7_row7_col1{\n",
       "            background-color:  #bdde66;\n",
       "            color:  #000000;\n",
       "        }#T_c47d7_row7_col2{\n",
       "            background-color:  #d3e966;\n",
       "            color:  #000000;\n",
       "        }#T_c47d7_row7_col3,#T_c47d7_row8_col1{\n",
       "            background-color:  #dcee66;\n",
       "            color:  #000000;\n",
       "        }#T_c47d7_row7_col4{\n",
       "            background-color:  #d1e866;\n",
       "            color:  #000000;\n",
       "        }#T_c47d7_row8_col0{\n",
       "            background-color:  #52a866;\n",
       "            color:  #000000;\n",
       "        }#T_c47d7_row8_col2{\n",
       "            background-color:  #81c066;\n",
       "            color:  #000000;\n",
       "        }#T_c47d7_row8_col3{\n",
       "            background-color:  #b0d866;\n",
       "            color:  #000000;\n",
       "        }#T_c47d7_row8_col4{\n",
       "            background-color:  #9acc66;\n",
       "            color:  #000000;\n",
       "        }#T_c47d7_row9_col0,#T_c47d7_row9_col1,#T_c47d7_row9_col2,#T_c47d7_row9_col3,#T_c47d7_row9_col4{\n",
       "            background-color:  #008066;\n",
       "            color:  #f1f1f1;\n",
       "        }</style><table id=\"T_c47d7_\" ><thead>    <tr>        <th class=\"blank\" ></th>        <th class=\"index_name level0\" >Sex</th>        <th class=\"col_heading level0 col0\" colspan=\"2\">female</th>        <th class=\"col_heading level0 col2\" colspan=\"2\">male</th>        <th class=\"col_heading level0 col4\" >All</th>    </tr>    <tr>        <th class=\"blank\" ></th>        <th class=\"index_name level1\" >Survived</th>        <th class=\"col_heading level1 col0\" >0</th>        <th class=\"col_heading level1 col1\" >1</th>        <th class=\"col_heading level1 col2\" >0</th>        <th class=\"col_heading level1 col3\" >1</th>        <th class=\"col_heading level1 col4\" ></th>    </tr>    <tr>        <th class=\"index_name level0\" >Embarked</th>        <th class=\"index_name level1\" >Pclass</th>        <th class=\"blank\" ></th>        <th class=\"blank\" ></th>        <th class=\"blank\" ></th>        <th class=\"blank\" ></th>        <th class=\"blank\" ></th>    </tr></thead><tbody>\n",
       "                <tr>\n",
       "                        <th id=\"T_c47d7_level0_row0\" class=\"row_heading level0 row0\" rowspan=\"3\">C</th>\n",
       "                        <th id=\"T_c47d7_level1_row0\" class=\"row_heading level1 row0\" >1</th>\n",
       "                        <td id=\"T_c47d7_row0_col0\" class=\"data row0 col0\" >1</td>\n",
       "                        <td id=\"T_c47d7_row0_col1\" class=\"data row0 col1\" >42</td>\n",
       "                        <td id=\"T_c47d7_row0_col2\" class=\"data row0 col2\" >25</td>\n",
       "                        <td id=\"T_c47d7_row0_col3\" class=\"data row0 col3\" >17</td>\n",
       "                        <td id=\"T_c47d7_row0_col4\" class=\"data row0 col4\" >85</td>\n",
       "            </tr>\n",
       "            <tr>\n",
       "                                <th id=\"T_c47d7_level1_row1\" class=\"row_heading level1 row1\" >2</th>\n",
       "                        <td id=\"T_c47d7_row1_col0\" class=\"data row1 col0\" >0</td>\n",
       "                        <td id=\"T_c47d7_row1_col1\" class=\"data row1 col1\" >7</td>\n",
       "                        <td id=\"T_c47d7_row1_col2\" class=\"data row1 col2\" >8</td>\n",
       "                        <td id=\"T_c47d7_row1_col3\" class=\"data row1 col3\" >2</td>\n",
       "                        <td id=\"T_c47d7_row1_col4\" class=\"data row1 col4\" >17</td>\n",
       "            </tr>\n",
       "            <tr>\n",
       "                                <th id=\"T_c47d7_level1_row2\" class=\"row_heading level1 row2\" >3</th>\n",
       "                        <td id=\"T_c47d7_row2_col0\" class=\"data row2 col0\" >8</td>\n",
       "                        <td id=\"T_c47d7_row2_col1\" class=\"data row2 col1\" >15</td>\n",
       "                        <td id=\"T_c47d7_row2_col2\" class=\"data row2 col2\" >33</td>\n",
       "                        <td id=\"T_c47d7_row2_col3\" class=\"data row2 col3\" >10</td>\n",
       "                        <td id=\"T_c47d7_row2_col4\" class=\"data row2 col4\" >66</td>\n",
       "            </tr>\n",
       "            <tr>\n",
       "                        <th id=\"T_c47d7_level0_row3\" class=\"row_heading level0 row3\" rowspan=\"3\">Q</th>\n",
       "                        <th id=\"T_c47d7_level1_row3\" class=\"row_heading level1 row3\" >1</th>\n",
       "                        <td id=\"T_c47d7_row3_col0\" class=\"data row3 col0\" >0</td>\n",
       "                        <td id=\"T_c47d7_row3_col1\" class=\"data row3 col1\" >1</td>\n",
       "                        <td id=\"T_c47d7_row3_col2\" class=\"data row3 col2\" >1</td>\n",
       "                        <td id=\"T_c47d7_row3_col3\" class=\"data row3 col3\" >0</td>\n",
       "                        <td id=\"T_c47d7_row3_col4\" class=\"data row3 col4\" >2</td>\n",
       "            </tr>\n",
       "            <tr>\n",
       "                                <th id=\"T_c47d7_level1_row4\" class=\"row_heading level1 row4\" >2</th>\n",
       "                        <td id=\"T_c47d7_row4_col0\" class=\"data row4 col0\" >0</td>\n",
       "                        <td id=\"T_c47d7_row4_col1\" class=\"data row4 col1\" >2</td>\n",
       "                        <td id=\"T_c47d7_row4_col2\" class=\"data row4 col2\" >1</td>\n",
       "                        <td id=\"T_c47d7_row4_col3\" class=\"data row4 col3\" >0</td>\n",
       "                        <td id=\"T_c47d7_row4_col4\" class=\"data row4 col4\" >3</td>\n",
       "            </tr>\n",
       "            <tr>\n",
       "                                <th id=\"T_c47d7_level1_row5\" class=\"row_heading level1 row5\" >3</th>\n",
       "                        <td id=\"T_c47d7_row5_col0\" class=\"data row5 col0\" >9</td>\n",
       "                        <td id=\"T_c47d7_row5_col1\" class=\"data row5 col1\" >24</td>\n",
       "                        <td id=\"T_c47d7_row5_col2\" class=\"data row5 col2\" >36</td>\n",
       "                        <td id=\"T_c47d7_row5_col3\" class=\"data row5 col3\" >3</td>\n",
       "                        <td id=\"T_c47d7_row5_col4\" class=\"data row5 col4\" >72</td>\n",
       "            </tr>\n",
       "            <tr>\n",
       "                        <th id=\"T_c47d7_level0_row6\" class=\"row_heading level0 row6\" rowspan=\"3\">S</th>\n",
       "                        <th id=\"T_c47d7_level1_row6\" class=\"row_heading level1 row6\" >1</th>\n",
       "                        <td id=\"T_c47d7_row6_col0\" class=\"data row6 col0\" >2</td>\n",
       "                        <td id=\"T_c47d7_row6_col1\" class=\"data row6 col1\" >46</td>\n",
       "                        <td id=\"T_c47d7_row6_col2\" class=\"data row6 col2\" >51</td>\n",
       "                        <td id=\"T_c47d7_row6_col3\" class=\"data row6 col3\" >28</td>\n",
       "                        <td id=\"T_c47d7_row6_col4\" class=\"data row6 col4\" >127</td>\n",
       "            </tr>\n",
       "            <tr>\n",
       "                                <th id=\"T_c47d7_level1_row7\" class=\"row_heading level1 row7\" >2</th>\n",
       "                        <td id=\"T_c47d7_row7_col0\" class=\"data row7 col0\" >6</td>\n",
       "                        <td id=\"T_c47d7_row7_col1\" class=\"data row7 col1\" >61</td>\n",
       "                        <td id=\"T_c47d7_row7_col2\" class=\"data row7 col2\" >82</td>\n",
       "                        <td id=\"T_c47d7_row7_col3\" class=\"data row7 col3\" >15</td>\n",
       "                        <td id=\"T_c47d7_row7_col4\" class=\"data row7 col4\" >164</td>\n",
       "            </tr>\n",
       "            <tr>\n",
       "                                <th id=\"T_c47d7_level1_row8\" class=\"row_heading level1 row8\" >3</th>\n",
       "                        <td id=\"T_c47d7_row8_col0\" class=\"data row8 col0\" >55</td>\n",
       "                        <td id=\"T_c47d7_row8_col1\" class=\"data row8 col1\" >33</td>\n",
       "                        <td id=\"T_c47d7_row8_col2\" class=\"data row8 col2\" >231</td>\n",
       "                        <td id=\"T_c47d7_row8_col3\" class=\"data row8 col3\" >34</td>\n",
       "                        <td id=\"T_c47d7_row8_col4\" class=\"data row8 col4\" >353</td>\n",
       "            </tr>\n",
       "            <tr>\n",
       "                        <th id=\"T_c47d7_level0_row9\" class=\"row_heading level0 row9\" >All</th>\n",
       "                        <th id=\"T_c47d7_level1_row9\" class=\"row_heading level1 row9\" ></th>\n",
       "                        <td id=\"T_c47d7_row9_col0\" class=\"data row9 col0\" >81</td>\n",
       "                        <td id=\"T_c47d7_row9_col1\" class=\"data row9 col1\" >231</td>\n",
       "                        <td id=\"T_c47d7_row9_col2\" class=\"data row9 col2\" >468</td>\n",
       "                        <td id=\"T_c47d7_row9_col3\" class=\"data row9 col3\" >109</td>\n",
       "                        <td id=\"T_c47d7_row9_col4\" class=\"data row9 col4\" >889</td>\n",
       "            </tr>\n",
       "    </tbody></table>"
      ],
      "text/plain": [
       "<pandas.io.formats.style.Styler at 0x7fcfe66da7f0>"
      ]
     },
     "execution_count": 49,
     "metadata": {},
     "output_type": "execute_result"
    }
   ],
   "source": [
    "pd.crosstab([data.Embarked, data.Pclass],[data.Sex, data.Survived], margins=True).style.background_gradient(cmap='summer_r')"
   ]
  },
  {
   "cell_type": "code",
   "execution_count": 54,
   "id": "a74566b9",
   "metadata": {},
   "outputs": [
    {
     "data": {
      "text/html": [
       "<style  type=\"text/css\" >\n",
       "#T_07d28_row0_col0{\n",
       "            background-color:  #edf666;\n",
       "            color:  #000000;\n",
       "        }#T_07d28_row0_col1{\n",
       "            background-color:  #a9d466;\n",
       "            color:  #000000;\n",
       "        }#T_07d28_row1_col0,#T_07d28_row1_col1{\n",
       "            background-color:  #ffff66;\n",
       "            color:  #000000;\n",
       "        }#T_07d28_row2_col0,#T_07d28_row2_col1{\n",
       "            background-color:  #008066;\n",
       "            color:  #f1f1f1;\n",
       "        }</style><table id=\"T_07d28_\" ><thead>    <tr>        <th class=\"index_name level0\" >Survived</th>        <th class=\"col_heading level0 col0\" >0</th>        <th class=\"col_heading level0 col1\" >1</th>    </tr>    <tr>        <th class=\"index_name level0\" >Embarked</th>        <th class=\"blank\" ></th>        <th class=\"blank\" ></th>    </tr></thead><tbody>\n",
       "                <tr>\n",
       "                        <th id=\"T_07d28_level0_row0\" class=\"row_heading level0 row0\" >C</th>\n",
       "                        <td id=\"T_07d28_row0_col0\" class=\"data row0 col0\" >75</td>\n",
       "                        <td id=\"T_07d28_row0_col1\" class=\"data row0 col1\" >93</td>\n",
       "            </tr>\n",
       "            <tr>\n",
       "                        <th id=\"T_07d28_level0_row1\" class=\"row_heading level0 row1\" >Q</th>\n",
       "                        <td id=\"T_07d28_row1_col0\" class=\"data row1 col0\" >47</td>\n",
       "                        <td id=\"T_07d28_row1_col1\" class=\"data row1 col1\" >30</td>\n",
       "            </tr>\n",
       "            <tr>\n",
       "                        <th id=\"T_07d28_level0_row2\" class=\"row_heading level0 row2\" >S</th>\n",
       "                        <td id=\"T_07d28_row2_col0\" class=\"data row2 col0\" >427</td>\n",
       "                        <td id=\"T_07d28_row2_col1\" class=\"data row2 col1\" >217</td>\n",
       "            </tr>\n",
       "    </tbody></table>"
      ],
      "text/plain": [
       "<pandas.io.formats.style.Styler at 0x7fcfe663c430>"
      ]
     },
     "execution_count": 54,
     "metadata": {},
     "output_type": "execute_result"
    }
   ],
   "source": [
    "pd.crosstab(data['Embarked'], data['Survived']).style.background_gradient(cmap='summer_r')"
   ]
  },
  {
   "cell_type": "markdown",
   "id": "b2c153ea",
   "metadata": {},
   "source": [
    "### Change for Survival by Port of Embarkation\n",
    "- `gcf()`: 이미 생성된 figure를 대상으로 멤버 함수 호출하기"
   ]
  },
  {
   "cell_type": "code",
   "execution_count": 56,
   "id": "4d623180",
   "metadata": {},
   "outputs": [
    {
     "data": {
      "image/png": "[encoded data removed]",
      "text/plain": [
       "<Figure size 360x216 with 1 Axes>"
      ]
     },
     "metadata": {
      "needs_background": "light"
     },
     "output_type": "display_data"
    }
   ],
   "source": [
    "sns.factorplot('Embarked', 'Survived', data=data)\n",
    "fig = plt.gcf()\n",
    "fig.set_size_inches(5, 3)\n",
    "plt.show()"
   ]
  },
  {
   "cell_type": "markdown",
   "id": "ac0989a7",
   "metadata": {},
   "source": [
    "> `C` 항구의 생존률이 0.55 가량으로 가장 높고, `S`가 가장 낮다."
   ]
  },
  {
   "cell_type": "code",
   "execution_count": 61,
   "id": "96c60a0e",
   "metadata": {},
   "outputs": [
    {
     "data": {
      "text/plain": [
       "Text(0.5, 1.0, 'Embarked vs. Pclass')"
      ]
     },
     "execution_count": 61,
     "metadata": {},
     "output_type": "execute_result"
    },
    {
     "data": {
      "image/png": "[encoded data removed]",
      "text/plain": [
       "<Figure size 1440x1080 with 4 Axes>"
      ]
     },
     "metadata": {
      "needs_background": "light"
     },
     "output_type": "display_data"
    }
   ],
   "source": [
    "f, ax = plt.subplots(2, 2, figsize=(20, 15))\n",
    "sns.countplot('Embarked', data=data, ax=ax[0, 0])\n",
    "ax[0, 0].set_title('No. of Passengers Boarded')\n",
    "\n",
    "sns.countplot('Embarked', hue='Sex', data=data, ax=ax[0, 1])\n",
    "ax[0, 1].set_title('Male-Female Split for Embarked')\n",
    "\n",
    "sns.countplot('Embarked', hue='Survived', data=data, ax=ax[1, 0])\n",
    "ax[1, 0].set_title('Embarked vs. Survived')\n",
    "\n",
    "sns.countplot('Embarked', hue='Pclass', data=data, ax=ax[1, 1])\n",
    "ax[1, 1].set_title('Embarked vs. Pclass')"
   ]
  },
  {
   "cell_type": "markdown",
   "id": "65e961b5",
   "metadata": {},
   "source": [
    "> - 항구 `S`의 탑승자 수가 가장 많은데, 대부분 Pclass3 탑승자라고 판단된다.\n",
    "> - `C`의 생존률이 가장 높아 보인다.\n",
    "> - `S` 항구의 사망률이 가장 높은 것은 Pclass3의 대부분이 사망했기 때문\n",
    "> - `Q`항구는 거의 대부분이 Pclass3 탑승자였다."
   ]
  },
  {
   "cell_type": "code",
   "execution_count": 64,
   "id": "7e6cb5f2",
   "metadata": {},
   "outputs": [
    {
     "data": {
      "text/plain": [
       "<seaborn.axisgrid.FacetGrid at 0x7fcfe60e2f40>"
      ]
     },
     "execution_count": 64,
     "metadata": {},
     "output_type": "execute_result"
    },
    {
     "data": {
      "image/png": "[encoded data removed]",
      "text/plain": [
       "<Figure size 360x360 with 1 Axes>"
      ]
     },
     "metadata": {
      "needs_background": "light"
     },
     "output_type": "display_data"
    }
   ],
   "source": [
    "# Pclass별 사망자수\n",
    "sns.factorplot('Pclass', 'Survived', data=data)"
   ]
  },
  {
   "cell_type": "code",
   "execution_count": null,
   "id": "3678bd5b",
   "metadata": {},
   "outputs": [],
   "source": []
  },
  {
   "cell_type": "code",
   "execution_count": null,
   "id": "66da6c67",
   "metadata": {},
   "outputs": [],
   "source": []
  },
  {
   "cell_type": "code",
   "execution_count": null,
   "id": "2f6b61b3",
   "metadata": {},
   "outputs": [],
   "source": []
  },
  {
   "cell_type": "code",
   "execution_count": null,
   "id": "e9a6b809",
   "metadata": {},
   "outputs": [],
   "source": []
  },
  {
   "cell_type": "code",
   "execution_count": null,
   "id": "d96494de",
   "metadata": {},
   "outputs": [],
   "source": []
  },
  {
   "cell_type": "code",
   "execution_count": null,
   "id": "8627f091",
   "metadata": {},
   "outputs": [],
   "source": []
  },
  {
   "cell_type": "code",
   "execution_count": null,
   "id": "4b6a615e",
   "metadata": {},
   "outputs": [],
   "source": []
  },
  {
   "cell_type": "code",
   "execution_count": null,
   "id": "76010ab3",
   "metadata": {},
   "outputs": [],
   "source": []
  },
  {
   "cell_type": "code",
   "execution_count": null,
   "id": "7024eb4e",
   "metadata": {},
   "outputs": [],
   "source": []
  },
  {
   "cell_type": "code",
   "execution_count": null,
   "id": "c3455c01",
   "metadata": {},
   "outputs": [],
   "source": []
  },
  {
   "cell_type": "code",
   "execution_count": null,
   "id": "c6678593",
   "metadata": {},
   "outputs": [],
   "source": []
  },
  {
   "cell_type": "code",
   "execution_count": null,
   "id": "d50a0091",
   "metadata": {},
   "outputs": [],
   "source": []
  },
  {
   "cell_type": "code",
   "execution_count": null,
   "id": "8d2cdd7f",
   "metadata": {},
   "outputs": [],
   "source": []
  },
  {
   "cell_type": "code",
   "execution_count": null,
   "id": "e8084317",
   "metadata": {},
   "outputs": [],
   "source": []
  },
  {
   "cell_type": "code",
   "execution_count": null,
   "id": "e5dead5b",
   "metadata": {},
   "outputs": [],
   "source": []
  },
  {
   "cell_type": "code",
   "execution_count": null,
   "id": "9123ee61",
   "metadata": {},
   "outputs": [],
   "source": []
  },
  {
   "cell_type": "code",
   "execution_count": null,
   "id": "44d87805",
   "metadata": {},
   "outputs": [],
   "source": []
  },
  {
   "cell_type": "code",
   "execution_count": null,
   "id": "0f8bb3f2",
   "metadata": {},
   "outputs": [],
   "source": []
  },
  {
   "cell_type": "code",
   "execution_count": null,
   "id": "cf0d5841",
   "metadata": {},
   "outputs": [],
   "source": []
  },
  {
   "cell_type": "code",
   "execution_count": null,
   "id": "1ba70a84",
   "metadata": {},
   "outputs": [],
   "source": []
  },
  {
   "cell_type": "code",
   "execution_count": null,
   "id": "22a52d91",
   "metadata": {},
   "outputs": [],
   "source": []
  },
  {
   "cell_type": "code",
   "execution_count": null,
   "id": "63708d44",
   "metadata": {},
   "outputs": [],
   "source": []
  },
  {
   "cell_type": "code",
   "execution_count": null,
   "id": "84aff206",
   "metadata": {},
   "outputs": [],
   "source": []
  },
  {
   "cell_type": "code",
   "execution_count": null,
   "id": "a02b2c9f",
   "metadata": {},
   "outputs": [],
   "source": []
  },
  {
   "cell_type": "code",
   "execution_count": null,
   "id": "8496c4d3",
   "metadata": {},
   "outputs": [],
   "source": []
  },
  {
   "cell_type": "code",
   "execution_count": null,
   "id": "65349491",
   "metadata": {},
   "outputs": [],
   "source": []
  },
  {
   "cell_type": "code",
   "execution_count": null,
   "id": "aa0196e5",
   "metadata": {},
   "outputs": [],
   "source": []
  },
  {
   "cell_type": "code",
   "execution_count": null,
   "id": "6d8dcc0a",
   "metadata": {},
   "outputs": [],
   "source": []
  },
  {
   "cell_type": "code",
   "execution_count": null,
   "id": "2d7d6b1f",
   "metadata": {},
   "outputs": [],
   "source": []
  },
  {
   "cell_type": "code",
   "execution_count": null,
   "id": "baf55565",
   "metadata": {},
   "outputs": [],
   "source": []
  },
  {
   "cell_type": "code",
   "execution_count": null,
   "id": "fbdf27c0",
   "metadata": {},
   "outputs": [],
   "source": []
  },
  {
   "cell_type": "code",
   "execution_count": null,
   "id": "e2255c52",
   "metadata": {},
   "outputs": [],
   "source": []
  },
  {
   "cell_type": "code",
   "execution_count": null,
   "id": "8a27a2b7",
   "metadata": {},
   "outputs": [],
   "source": []
  },
  {
   "cell_type": "code",
   "execution_count": null,
   "id": "c409f6d3",
   "metadata": {},
   "outputs": [],
   "source": []
  },
  {
   "cell_type": "code",
   "execution_count": null,
   "id": "098c7552",
   "metadata": {},
   "outputs": [],
   "source": []
  },
  {
   "cell_type": "code",
   "execution_count": null,
   "id": "48f5ddb6",
   "metadata": {},
   "outputs": [],
   "source": []
  },
  {
   "cell_type": "code",
   "execution_count": null,
   "id": "5f579b3d",
   "metadata": {},
   "outputs": [],
   "source": []
  },
  {
   "cell_type": "code",
   "execution_count": null,
   "id": "113be58c",
   "metadata": {},
   "outputs": [],
   "source": []
  }
 ],
 "metadata": {
  "kernelspec": {
   "display_name": "Python 3",
   "language": "python",
   "name": "python3"
  },
  "language_info": {
   "codemirror_mode": {
    "name": "ipython",
    "version": 3
   },
   "file_extension": ".py",
   "mimetype": "text/x-python",
   "name": "python",
   "nbconvert_exporter": "python",
   "pygments_lexer": "ipython3",
   "version": "3.8.8"
  },
  "toc": {
   "base_numbering": 1,
   "nav_menu": {},
   "number_sections": true,
   "sideBar": true,
   "skip_h1_title": false,
   "title_cell": "Table of Contents",
   "title_sidebar": "Contents",
   "toc_cell": false,
   "toc_position": {},
   "toc_section_display": true,
   "toc_window_display": false
  },
  "varInspector": {
   "cols": {
    "lenName": 16,
    "lenType": 16,
    "lenVar": 40
   },
   "kernels_config": {
    "python": {
     "delete_cmd_postfix": "",
     "delete_cmd_prefix": "del ",
     "library": "var_list.py",
     "varRefreshCmd": "print(var_dic_list())"
    },
    "r": {
     "delete_cmd_postfix": ") ",
     "delete_cmd_prefix": "rm(",
     "library": "var_list.r",
     "varRefreshCmd": "cat(var_dic_list()) "
    }
   },
   "types_to_exclude": [
    "module",
    "function",
    "builtin_function_or_method",
    "instance",
    "_Feature"
   ],
   "window_display": false
  }
 },
 "nbformat": 4,
 "nbformat_minor": 5
}
