{
 "cells": [
  {
   "cell_type": "code",
   "execution_count": 1,
   "id": "9daf7fc0",
   "metadata": {
    "_cell_guid": "b1076dfc-b9ad-4769-8c92-a6c4dae69d19",
    "_uuid": "8f2839f25d086af736a60e9eeb907d3b93b6e0e5",
    "execution": {
     "iopub.execute_input": "2021-08-19T07:37:57.329046Z",
     "iopub.status.busy": "2021-08-19T07:37:57.327852Z",
     "iopub.status.idle": "2021-08-19T07:37:58.439583Z",
     "shell.execute_reply": "2021-08-19T07:37:58.438700Z",
     "shell.execute_reply.started": "2021-08-19T07:19:28.422444Z"
    },
    "papermill": {
     "duration": 1.140444,
     "end_time": "2021-08-19T07:37:58.439765",
     "exception": false,
     "start_time": "2021-08-19T07:37:57.299321",
     "status": "completed"
    },
    "tags": []
   },
   "outputs": [],
   "source": [
    "import pandas as pd\n",
    "import numpy as np\n",
    "import matplotlib as mpl\n",
    "import matplotlib.pyplot as plt\n",
    "import seaborn as sns\n",
    "from scipy import stats\n",
    "\n",
    "# 노트북 안에 그래프를 그리기 위해\n",
    "%matplotlib inline\n",
    "\n",
    "# 그래프에서 격자로 숫자 범위가 눈에 잘 띄도록 ggplot 스타일을 사용\n",
    "plt.style.use('ggplot')\n",
    "\n",
    "import warnings\n",
    "warnings.filterwarnings('ignore')"
   ]
  },
  {
   "cell_type": "code",
   "execution_count": 2,
   "id": "3f69dcc5",
   "metadata": {
    "execution": {
     "iopub.execute_input": "2021-08-19T07:37:58.495463Z",
     "iopub.status.busy": "2021-08-19T07:37:58.494536Z",
     "iopub.status.idle": "2021-08-19T07:37:58.613839Z",
     "shell.execute_reply": "2021-08-19T07:37:58.614620Z",
     "shell.execute_reply.started": "2021-08-19T07:19:28.435358Z"
    },
    "papermill": {
     "duration": 0.149391,
     "end_time": "2021-08-19T07:37:58.614893",
     "exception": false,
     "start_time": "2021-08-19T07:37:58.465502",
     "status": "completed"
    },
    "tags": []
   },
   "outputs": [
    {
     "name": "stdout",
     "output_type": "stream",
     "text": [
      "(10886, 12)\n",
      "(6493, 9)\n"
     ]
    }
   ],
   "source": [
    "df_train = pd.read_csv(\"../input/bike-sharing-demand/train.csv\", parse_dates=[\"datetime\"])\n",
    "df_test = pd.read_csv(\"../input/bike-sharing-demand/test.csv\", parse_dates=[\"datetime\"])\n",
    "\n",
    "print(df_train.shape)\n",
    "print(df_test.shape)"
   ]
  },
  {
   "cell_type": "code",
   "execution_count": 3,
   "id": "32ab5351",
   "metadata": {
    "execution": {
     "iopub.execute_input": "2021-08-19T07:37:58.667834Z",
     "iopub.status.busy": "2021-08-19T07:37:58.667127Z",
     "iopub.status.idle": "2021-08-19T07:37:58.695012Z",
     "shell.execute_reply": "2021-08-19T07:37:58.694476Z",
     "shell.execute_reply.started": "2021-08-19T07:19:28.505833Z"
    },
    "papermill": {
     "duration": 0.054924,
     "end_time": "2021-08-19T07:37:58.695189",
     "exception": false,
     "start_time": "2021-08-19T07:37:58.640265",
     "status": "completed"
    },
    "tags": []
   },
   "outputs": [
    {
     "data": {
      "text/plain": [
       "(10886, 16)"
      ]
     },
     "execution_count": 3,
     "metadata": {},
     "output_type": "execute_result"
    }
   ],
   "source": [
    "df_train[\"year\"] = df_train[\"datetime\"].dt.year\n",
    "df_train[\"month\"] = df_train[\"datetime\"].dt.month\n",
    "df_train[\"hour\"] = df_train[\"datetime\"].dt.hour\n",
    "df_train[\"weekday\"] = df_train[\"datetime\"].dt.dayofweek\n",
    "\n",
    "df_train.shape"
   ]
  },
  {
   "cell_type": "code",
   "execution_count": 4,
   "id": "e96e051e",
   "metadata": {
    "execution": {
     "iopub.execute_input": "2021-08-19T07:37:58.750481Z",
     "iopub.status.busy": "2021-08-19T07:37:58.749754Z",
     "iopub.status.idle": "2021-08-19T07:37:58.760605Z",
     "shell.execute_reply": "2021-08-19T07:37:58.761051Z",
     "shell.execute_reply.started": "2021-08-19T07:19:28.526589Z"
    },
    "papermill": {
     "duration": 0.041838,
     "end_time": "2021-08-19T07:37:58.761257",
     "exception": false,
     "start_time": "2021-08-19T07:37:58.719419",
     "status": "completed"
    },
    "tags": []
   },
   "outputs": [
    {
     "data": {
      "text/plain": [
       "(6493, 13)"
      ]
     },
     "execution_count": 4,
     "metadata": {},
     "output_type": "execute_result"
    }
   ],
   "source": [
    "df_test[\"year\"] = df_test[\"datetime\"].dt.year\n",
    "df_test[\"month\"] = df_test[\"datetime\"].dt.month\n",
    "df_test[\"hour\"] = df_test[\"datetime\"].dt.hour\n",
    "df_test[\"weekday\"] = df_test[\"datetime\"].dt.dayofweek\n",
    "\n",
    "df_test.shape"
   ]
  },
  {
   "cell_type": "markdown",
   "id": "ad20faaa",
   "metadata": {
    "papermill": {
     "duration": 0.023608,
     "end_time": "2021-08-19T07:37:58.808909",
     "exception": false,
     "start_time": "2021-08-19T07:37:58.785301",
     "status": "completed"
    },
    "tags": []
   },
   "source": [
    "#### 범주형 feature을 category로 변경해주기"
   ]
  },
  {
   "cell_type": "code",
   "execution_count": 5,
   "id": "7a7a0aab",
   "metadata": {
    "execution": {
     "iopub.execute_input": "2021-08-19T07:37:58.861944Z",
     "iopub.status.busy": "2021-08-19T07:37:58.861280Z",
     "iopub.status.idle": "2021-08-19T07:37:58.864858Z",
     "shell.execute_reply": "2021-08-19T07:37:58.864226Z",
     "shell.execute_reply.started": "2021-08-19T07:19:28.546566Z"
    },
    "papermill": {
     "duration": 0.032347,
     "end_time": "2021-08-19T07:37:58.865006",
     "exception": false,
     "start_time": "2021-08-19T07:37:58.832659",
     "status": "completed"
    },
    "tags": []
   },
   "outputs": [],
   "source": [
    "categorical_feature_names = [\"season\", \"holiday\", \"workingday\",\n",
    "                            \"weather\", \"weekday\", \"year\", \"hour\"]"
   ]
  },
  {
   "cell_type": "code",
   "execution_count": 6,
   "id": "267072ec",
   "metadata": {
    "execution": {
     "iopub.execute_input": "2021-08-19T07:37:58.923143Z",
     "iopub.status.busy": "2021-08-19T07:37:58.922406Z",
     "iopub.status.idle": "2021-08-19T07:37:58.938454Z",
     "shell.execute_reply": "2021-08-19T07:37:58.937858Z",
     "shell.execute_reply.started": "2021-08-19T07:19:28.553025Z"
    },
    "papermill": {
     "duration": 0.048924,
     "end_time": "2021-08-19T07:37:58.938605",
     "exception": false,
     "start_time": "2021-08-19T07:37:58.889681",
     "status": "completed"
    },
    "tags": []
   },
   "outputs": [],
   "source": [
    "for var in categorical_feature_names:\n",
    "    df_train[var] = df_train[var].astype(\"category\")\n",
    "    df_test[var] = df_test[var].astype(\"category\")"
   ]
  },
  {
   "cell_type": "code",
   "execution_count": 7,
   "id": "73f50696",
   "metadata": {
    "execution": {
     "iopub.execute_input": "2021-08-19T07:37:58.994932Z",
     "iopub.status.busy": "2021-08-19T07:37:58.994000Z",
     "iopub.status.idle": "2021-08-19T07:37:58.999107Z",
     "shell.execute_reply": "2021-08-19T07:37:58.998537Z",
     "shell.execute_reply.started": "2021-08-19T07:19:28.579360Z"
    },
    "papermill": {
     "duration": 0.0365,
     "end_time": "2021-08-19T07:37:58.999259",
     "exception": false,
     "start_time": "2021-08-19T07:37:58.962759",
     "status": "completed"
    },
    "tags": []
   },
   "outputs": [
    {
     "data": {
      "text/plain": [
       "['season',\n",
       " 'weather',\n",
       " 'temp',\n",
       " 'atemp',\n",
       " 'humidity',\n",
       " 'year',\n",
       " 'hour',\n",
       " 'weekday',\n",
       " 'holiday',\n",
       " 'workingday']"
      ]
     },
     "execution_count": 7,
     "metadata": {},
     "output_type": "execute_result"
    }
   ],
   "source": [
    "feature_names = [\"season\", \"weather\", \"temp\", \"atemp\", \"humidity\",\n",
    "                 \"year\", \"hour\", \"weekday\", \"holiday\", \"workingday\"]\n",
    "feature_names"
   ]
  },
  {
   "cell_type": "code",
   "execution_count": 8,
   "id": "f9ac708b",
   "metadata": {
    "execution": {
     "iopub.execute_input": "2021-08-19T07:37:59.054313Z",
     "iopub.status.busy": "2021-08-19T07:37:59.053631Z",
     "iopub.status.idle": "2021-08-19T07:37:59.081156Z",
     "shell.execute_reply": "2021-08-19T07:37:59.080585Z",
     "shell.execute_reply.started": "2021-08-19T07:19:28.589066Z"
    },
    "papermill": {
     "duration": 0.057522,
     "end_time": "2021-08-19T07:37:59.081339",
     "exception": false,
     "start_time": "2021-08-19T07:37:59.023817",
     "status": "completed"
    },
    "tags": []
   },
   "outputs": [
    {
     "name": "stdout",
     "output_type": "stream",
     "text": [
      "(10886, 10)\n"
     ]
    },
    {
     "data": {
      "text/html": [
       "<div>\n",
       "<style scoped>\n",
       "    .dataframe tbody tr th:only-of-type {\n",
       "        vertical-align: middle;\n",
       "    }\n",
       "\n",
       "    .dataframe tbody tr th {\n",
       "        vertical-align: top;\n",
       "    }\n",
       "\n",
       "    .dataframe thead th {\n",
       "        text-align: right;\n",
       "    }\n",
       "</style>\n",
       "<table border=\"1\" class=\"dataframe\">\n",
       "  <thead>\n",
       "    <tr style=\"text-align: right;\">\n",
       "      <th></th>\n",
       "      <th>season</th>\n",
       "      <th>weather</th>\n",
       "      <th>temp</th>\n",
       "      <th>atemp</th>\n",
       "      <th>humidity</th>\n",
       "      <th>year</th>\n",
       "      <th>hour</th>\n",
       "      <th>weekday</th>\n",
       "      <th>holiday</th>\n",
       "      <th>workingday</th>\n",
       "    </tr>\n",
       "  </thead>\n",
       "  <tbody>\n",
       "    <tr>\n",
       "      <th>0</th>\n",
       "      <td>1</td>\n",
       "      <td>1</td>\n",
       "      <td>9.84</td>\n",
       "      <td>14.395</td>\n",
       "      <td>81</td>\n",
       "      <td>2011</td>\n",
       "      <td>0</td>\n",
       "      <td>5</td>\n",
       "      <td>0</td>\n",
       "      <td>0</td>\n",
       "    </tr>\n",
       "    <tr>\n",
       "      <th>1</th>\n",
       "      <td>1</td>\n",
       "      <td>1</td>\n",
       "      <td>9.02</td>\n",
       "      <td>13.635</td>\n",
       "      <td>80</td>\n",
       "      <td>2011</td>\n",
       "      <td>1</td>\n",
       "      <td>5</td>\n",
       "      <td>0</td>\n",
       "      <td>0</td>\n",
       "    </tr>\n",
       "    <tr>\n",
       "      <th>2</th>\n",
       "      <td>1</td>\n",
       "      <td>1</td>\n",
       "      <td>9.02</td>\n",
       "      <td>13.635</td>\n",
       "      <td>80</td>\n",
       "      <td>2011</td>\n",
       "      <td>2</td>\n",
       "      <td>5</td>\n",
       "      <td>0</td>\n",
       "      <td>0</td>\n",
       "    </tr>\n",
       "    <tr>\n",
       "      <th>3</th>\n",
       "      <td>1</td>\n",
       "      <td>1</td>\n",
       "      <td>9.84</td>\n",
       "      <td>14.395</td>\n",
       "      <td>75</td>\n",
       "      <td>2011</td>\n",
       "      <td>3</td>\n",
       "      <td>5</td>\n",
       "      <td>0</td>\n",
       "      <td>0</td>\n",
       "    </tr>\n",
       "    <tr>\n",
       "      <th>4</th>\n",
       "      <td>1</td>\n",
       "      <td>1</td>\n",
       "      <td>9.84</td>\n",
       "      <td>14.395</td>\n",
       "      <td>75</td>\n",
       "      <td>2011</td>\n",
       "      <td>4</td>\n",
       "      <td>5</td>\n",
       "      <td>0</td>\n",
       "      <td>0</td>\n",
       "    </tr>\n",
       "  </tbody>\n",
       "</table>\n",
       "</div>"
      ],
      "text/plain": [
       "  season weather  temp   atemp  humidity  year hour weekday holiday workingday\n",
       "0      1       1  9.84  14.395        81  2011    0       5       0          0\n",
       "1      1       1  9.02  13.635        80  2011    1       5       0          0\n",
       "2      1       1  9.02  13.635        80  2011    2       5       0          0\n",
       "3      1       1  9.84  14.395        75  2011    3       5       0          0\n",
       "4      1       1  9.84  14.395        75  2011    4       5       0          0"
      ]
     },
     "execution_count": 8,
     "metadata": {},
     "output_type": "execute_result"
    }
   ],
   "source": [
    "X_train = df_train[feature_names]\n",
    "\n",
    "print(X_train.shape)\n",
    "X_train.head()"
   ]
  },
  {
   "cell_type": "code",
   "execution_count": 9,
   "id": "a992f172",
   "metadata": {
    "execution": {
     "iopub.execute_input": "2021-08-19T07:37:59.141200Z",
     "iopub.status.busy": "2021-08-19T07:37:59.140555Z",
     "iopub.status.idle": "2021-08-19T07:37:59.157136Z",
     "shell.execute_reply": "2021-08-19T07:37:59.156502Z",
     "shell.execute_reply.started": "2021-08-19T07:19:28.618549Z"
    },
    "papermill": {
     "duration": 0.049612,
     "end_time": "2021-08-19T07:37:59.157310",
     "exception": false,
     "start_time": "2021-08-19T07:37:59.107698",
     "status": "completed"
    },
    "tags": []
   },
   "outputs": [
    {
     "name": "stdout",
     "output_type": "stream",
     "text": [
      "(6493, 10)\n"
     ]
    },
    {
     "data": {
      "text/html": [
       "<div>\n",
       "<style scoped>\n",
       "    .dataframe tbody tr th:only-of-type {\n",
       "        vertical-align: middle;\n",
       "    }\n",
       "\n",
       "    .dataframe tbody tr th {\n",
       "        vertical-align: top;\n",
       "    }\n",
       "\n",
       "    .dataframe thead th {\n",
       "        text-align: right;\n",
       "    }\n",
       "</style>\n",
       "<table border=\"1\" class=\"dataframe\">\n",
       "  <thead>\n",
       "    <tr style=\"text-align: right;\">\n",
       "      <th></th>\n",
       "      <th>season</th>\n",
       "      <th>weather</th>\n",
       "      <th>temp</th>\n",
       "      <th>atemp</th>\n",
       "      <th>humidity</th>\n",
       "      <th>year</th>\n",
       "      <th>hour</th>\n",
       "      <th>weekday</th>\n",
       "      <th>holiday</th>\n",
       "      <th>workingday</th>\n",
       "    </tr>\n",
       "  </thead>\n",
       "  <tbody>\n",
       "    <tr>\n",
       "      <th>0</th>\n",
       "      <td>1</td>\n",
       "      <td>1</td>\n",
       "      <td>10.66</td>\n",
       "      <td>11.365</td>\n",
       "      <td>56</td>\n",
       "      <td>2011</td>\n",
       "      <td>0</td>\n",
       "      <td>3</td>\n",
       "      <td>0</td>\n",
       "      <td>1</td>\n",
       "    </tr>\n",
       "    <tr>\n",
       "      <th>1</th>\n",
       "      <td>1</td>\n",
       "      <td>1</td>\n",
       "      <td>10.66</td>\n",
       "      <td>13.635</td>\n",
       "      <td>56</td>\n",
       "      <td>2011</td>\n",
       "      <td>1</td>\n",
       "      <td>3</td>\n",
       "      <td>0</td>\n",
       "      <td>1</td>\n",
       "    </tr>\n",
       "    <tr>\n",
       "      <th>2</th>\n",
       "      <td>1</td>\n",
       "      <td>1</td>\n",
       "      <td>10.66</td>\n",
       "      <td>13.635</td>\n",
       "      <td>56</td>\n",
       "      <td>2011</td>\n",
       "      <td>2</td>\n",
       "      <td>3</td>\n",
       "      <td>0</td>\n",
       "      <td>1</td>\n",
       "    </tr>\n",
       "    <tr>\n",
       "      <th>3</th>\n",
       "      <td>1</td>\n",
       "      <td>1</td>\n",
       "      <td>10.66</td>\n",
       "      <td>12.880</td>\n",
       "      <td>56</td>\n",
       "      <td>2011</td>\n",
       "      <td>3</td>\n",
       "      <td>3</td>\n",
       "      <td>0</td>\n",
       "      <td>1</td>\n",
       "    </tr>\n",
       "    <tr>\n",
       "      <th>4</th>\n",
       "      <td>1</td>\n",
       "      <td>1</td>\n",
       "      <td>10.66</td>\n",
       "      <td>12.880</td>\n",
       "      <td>56</td>\n",
       "      <td>2011</td>\n",
       "      <td>4</td>\n",
       "      <td>3</td>\n",
       "      <td>0</td>\n",
       "      <td>1</td>\n",
       "    </tr>\n",
       "  </tbody>\n",
       "</table>\n",
       "</div>"
      ],
      "text/plain": [
       "  season weather   temp   atemp  humidity  year hour weekday holiday  \\\n",
       "0      1       1  10.66  11.365        56  2011    0       3       0   \n",
       "1      1       1  10.66  13.635        56  2011    1       3       0   \n",
       "2      1       1  10.66  13.635        56  2011    2       3       0   \n",
       "3      1       1  10.66  12.880        56  2011    3       3       0   \n",
       "4      1       1  10.66  12.880        56  2011    4       3       0   \n",
       "\n",
       "  workingday  \n",
       "0          1  \n",
       "1          1  \n",
       "2          1  \n",
       "3          1  \n",
       "4          1  "
      ]
     },
     "execution_count": 9,
     "metadata": {},
     "output_type": "execute_result"
    }
   ],
   "source": [
    "X_test = df_test[feature_names]\n",
    "\n",
    "print(X_test.shape)\n",
    "X_test.head()"
   ]
  },
  {
   "cell_type": "code",
   "execution_count": 10,
   "id": "c40e1e28",
   "metadata": {
    "execution": {
     "iopub.execute_input": "2021-08-19T07:37:59.213734Z",
     "iopub.status.busy": "2021-08-19T07:37:59.213066Z",
     "iopub.status.idle": "2021-08-19T07:37:59.220629Z",
     "shell.execute_reply": "2021-08-19T07:37:59.221151Z",
     "shell.execute_reply.started": "2021-08-19T07:19:28.644207Z"
    },
    "papermill": {
     "duration": 0.037621,
     "end_time": "2021-08-19T07:37:59.221362",
     "exception": false,
     "start_time": "2021-08-19T07:37:59.183741",
     "status": "completed"
    },
    "tags": []
   },
   "outputs": [
    {
     "name": "stdout",
     "output_type": "stream",
     "text": [
      "(10886,)\n"
     ]
    },
    {
     "data": {
      "text/plain": [
       "0    16\n",
       "1    40\n",
       "2    32\n",
       "3    13\n",
       "4     1\n",
       "Name: count, dtype: int64"
      ]
     },
     "execution_count": 10,
     "metadata": {},
     "output_type": "execute_result"
    }
   ],
   "source": [
    "label_name = \"count\"\n",
    "\n",
    "y_train = df_train[label_name]\n",
    "\n",
    "print(y_train.shape)\n",
    "y_train.head()"
   ]
  },
  {
   "cell_type": "code",
   "execution_count": 11,
   "id": "44e8555a",
   "metadata": {
    "execution": {
     "iopub.execute_input": "2021-08-19T07:37:59.279572Z",
     "iopub.status.busy": "2021-08-19T07:37:59.278852Z",
     "iopub.status.idle": "2021-08-19T07:37:59.468216Z",
     "shell.execute_reply": "2021-08-19T07:37:59.468757Z",
     "shell.execute_reply.started": "2021-08-19T07:19:57.709788Z"
    },
    "papermill": {
     "duration": 0.220188,
     "end_time": "2021-08-19T07:37:59.468930",
     "exception": false,
     "start_time": "2021-08-19T07:37:59.248742",
     "status": "completed"
    },
    "tags": []
   },
   "outputs": [
    {
     "data": {
      "text/plain": [
       "make_scorer(rmsle)"
      ]
     },
     "execution_count": 11,
     "metadata": {},
     "output_type": "execute_result"
    }
   ],
   "source": [
    "from sklearn.metrics import make_scorer\n",
    "\n",
    "def rmsle(predicted_values, actual_values, convertExp=True):\n",
    "    \n",
    "    if convertExp:\n",
    "        predicted_values = np.exp(predicted_values),\n",
    "        actual_values = np.exp(actual_values)\n",
    "    \n",
    "    # 넘파이로 배열 형태로 바꿔준다.\n",
    "    predicted_values = np.array(predicted_values)\n",
    "    actual_values = np.array(actual_values)\n",
    "    \n",
    "    # 예측값, 실제값에 +1하고 로그를 씌우기\n",
    "    log_predict = np.log(predicted_values + 1)\n",
    "    log_actual = np.log(actual_values + 1)\n",
    "    \n",
    "    # (예측값 - 실제값)의 제곱\n",
    "    difference = log_predict - log_actual\n",
    "    # difference = (log_predict - log_actual) ** 2\n",
    "    difference = np.square(difference)\n",
    "    \n",
    "    # 평균\n",
    "    mean_difference = difference.mean()\n",
    "    \n",
    "    # 루트\n",
    "    score = np.sqrt(mean_difference)\n",
    "    \n",
    "    return score\n",
    "\n",
    "rmsle_scorer = make_scorer(rmsle)\n",
    "rmsle_scorer"
   ]
  },
  {
   "attachments": {
    "355854c7-65f4-428f-b4b4-af19fb8094ee.png": {
     "image/png": "[encoded data removed]"
    }
   },
   "cell_type": "markdown",
   "id": "0c4d05ee",
   "metadata": {
    "papermill": {
     "duration": 0.026903,
     "end_time": "2021-08-19T07:37:59.523695",
     "exception": false,
     "start_time": "2021-08-19T07:37:59.496792",
     "status": "completed"
    },
    "tags": []
   },
   "source": [
    "## 선형 회귀 모델 (Linear Regression Model)\n",
    "\n",
    "- 예측과 훈련 세트에 있는 타깃y 사이의 평균제곱오차(MSE)를 최소화하는 파라미터 w와 b를 찾는다.\n",
    "\n",
    "![image.png](attachment:355854c7-65f4-428f-b4b4-af19fb8094ee.png)\n",
    "\n",
    "- 파란선: 선형회귀 모델\n",
    "- 빨간점 : 훈련 데이터"
   ]
  },
  {
   "cell_type": "code",
   "execution_count": 12,
   "id": "0ce7f7bd",
   "metadata": {
    "execution": {
     "iopub.execute_input": "2021-08-19T07:37:59.583734Z",
     "iopub.status.busy": "2021-08-19T07:37:59.583032Z",
     "iopub.status.idle": "2021-08-19T07:37:59.893666Z",
     "shell.execute_reply": "2021-08-19T07:37:59.894569Z",
     "shell.execute_reply.started": "2021-08-19T07:19:59.696510Z"
    },
    "papermill": {
     "duration": 0.343073,
     "end_time": "2021-08-19T07:37:59.894887",
     "exception": false,
     "start_time": "2021-08-19T07:37:59.551814",
     "status": "completed"
    },
    "tags": []
   },
   "outputs": [
    {
     "name": "stdout",
     "output_type": "stream",
     "text": [
      "RMSLE Value for Linear Regression:  0.9803697923313527\n"
     ]
    }
   ],
   "source": [
    "from sklearn.linear_model import LinearRegression, Ridge, Lasso\n",
    "from sklearn.model_selection import GridSearchCV\n",
    "from sklearn import metrics\n",
    "import warnings\n",
    "pd.options.mode.chained_assignment = None\n",
    "warnings.filterwarnings(\"ignore\", category=DeprecationWarning)\n",
    "\n",
    "# 선형 모델 초기화\n",
    "lModel = LinearRegression()\n",
    "\n",
    "# 모델 학습\n",
    "y_train_log = np.log1p(y_train)\n",
    "lModel.fit(X_train, y_train_log)\n",
    "\n",
    "# 예측하고 정확도 평가\n",
    "preds = lModel.predict(X_train)\n",
    "print (\"RMSLE Value for Linear Regression: \",\n",
    "      rmsle(np.exp(y_train_log), np.exp(preds), False))"
   ]
  },
  {
   "cell_type": "markdown",
   "id": "9bec2877",
   "metadata": {
    "papermill": {
     "duration": 0.04948,
     "end_time": "2021-08-19T07:37:59.994571",
     "exception": false,
     "start_time": "2021-08-19T07:37:59.945091",
     "status": "completed"
    },
    "tags": []
   },
   "source": [
    "## 릿지 (Regularization Model - Ridge)\n",
    "\n",
    "- 회귀를 위한 선형모델\n",
    "- 가중치(w)의 모든 원소가 0에 가깝게 만들어, 모든 feature가 주는 영향을 최소화\n",
    "    - 기울기를 작게 만듬\n",
    "- 정규화(Regularization)는 오버피팅(과대적합)이 되지 않도록 모델을 강제로 제한한다는 의미\n",
    "- max_iter: 최대 반복 실행하는 횟수"
   ]
  },
  {
   "cell_type": "code",
   "execution_count": 13,
   "id": "ca73b2cf",
   "metadata": {
    "execution": {
     "iopub.execute_input": "2021-08-19T07:38:00.063411Z",
     "iopub.status.busy": "2021-08-19T07:38:00.062697Z",
     "iopub.status.idle": "2021-08-19T07:38:01.560554Z",
     "shell.execute_reply": "2021-08-19T07:38:01.561393Z",
     "shell.execute_reply.started": "2021-08-19T07:24:40.401465Z"
    },
    "papermill": {
     "duration": 1.535838,
     "end_time": "2021-08-19T07:38:01.561670",
     "exception": false,
     "start_time": "2021-08-19T07:38:00.025832",
     "status": "completed"
    },
    "tags": []
   },
   "outputs": [
    {
     "name": "stdout",
     "output_type": "stream",
     "text": [
      "{'alpha': 0.01, 'max_iter': 3000}\n",
      "RMSLE Value for Ridge Regression:  0.9803697902780836\n"
     ]
    },
    {
     "data": {
      "text/html": [
       "<div>\n",
       "<style scoped>\n",
       "    .dataframe tbody tr th:only-of-type {\n",
       "        vertical-align: middle;\n",
       "    }\n",
       "\n",
       "    .dataframe tbody tr th {\n",
       "        vertical-align: top;\n",
       "    }\n",
       "\n",
       "    .dataframe thead th {\n",
       "        text-align: right;\n",
       "    }\n",
       "</style>\n",
       "<table border=\"1\" class=\"dataframe\">\n",
       "  <thead>\n",
       "    <tr style=\"text-align: right;\">\n",
       "      <th></th>\n",
       "      <th>mean_fit_time</th>\n",
       "      <th>std_fit_time</th>\n",
       "      <th>mean_score_time</th>\n",
       "      <th>std_score_time</th>\n",
       "      <th>param_alpha</th>\n",
       "      <th>param_max_iter</th>\n",
       "      <th>params</th>\n",
       "      <th>split0_test_score</th>\n",
       "      <th>split1_test_score</th>\n",
       "      <th>split2_test_score</th>\n",
       "      <th>split3_test_score</th>\n",
       "      <th>split4_test_score</th>\n",
       "      <th>mean_test_score</th>\n",
       "      <th>std_test_score</th>\n",
       "      <th>rank_test_score</th>\n",
       "    </tr>\n",
       "  </thead>\n",
       "  <tbody>\n",
       "    <tr>\n",
       "      <th>0</th>\n",
       "      <td>0.014029</td>\n",
       "      <td>0.004274</td>\n",
       "      <td>0.007571</td>\n",
       "      <td>0.002727</td>\n",
       "      <td>0.01</td>\n",
       "      <td>3000</td>\n",
       "      <td>{'alpha': 0.01, 'max_iter': 3000}</td>\n",
       "      <td>-1.003138</td>\n",
       "      <td>-0.906726</td>\n",
       "      <td>-1.029928</td>\n",
       "      <td>-1.016631</td>\n",
       "      <td>-0.982313</td>\n",
       "      <td>-0.987747</td>\n",
       "      <td>0.043461</td>\n",
       "      <td>1</td>\n",
       "    </tr>\n",
       "    <tr>\n",
       "      <th>1</th>\n",
       "      <td>0.011846</td>\n",
       "      <td>0.000077</td>\n",
       "      <td>0.006137</td>\n",
       "      <td>0.000051</td>\n",
       "      <td>0.1</td>\n",
       "      <td>3000</td>\n",
       "      <td>{'alpha': 0.1, 'max_iter': 3000}</td>\n",
       "      <td>-1.003140</td>\n",
       "      <td>-0.906726</td>\n",
       "      <td>-1.029928</td>\n",
       "      <td>-1.016630</td>\n",
       "      <td>-0.982315</td>\n",
       "      <td>-0.987748</td>\n",
       "      <td>0.043461</td>\n",
       "      <td>2</td>\n",
       "    </tr>\n",
       "    <tr>\n",
       "      <th>2</th>\n",
       "      <td>0.011752</td>\n",
       "      <td>0.000086</td>\n",
       "      <td>0.006190</td>\n",
       "      <td>0.000075</td>\n",
       "      <td>1</td>\n",
       "      <td>3000</td>\n",
       "      <td>{'alpha': 1, 'max_iter': 3000}</td>\n",
       "      <td>-1.003167</td>\n",
       "      <td>-0.906727</td>\n",
       "      <td>-1.029927</td>\n",
       "      <td>-1.016621</td>\n",
       "      <td>-0.982331</td>\n",
       "      <td>-0.987755</td>\n",
       "      <td>0.043461</td>\n",
       "      <td>3</td>\n",
       "    </tr>\n",
       "    <tr>\n",
       "      <th>3</th>\n",
       "      <td>0.011673</td>\n",
       "      <td>0.000114</td>\n",
       "      <td>0.006110</td>\n",
       "      <td>0.000036</td>\n",
       "      <td>2</td>\n",
       "      <td>3000</td>\n",
       "      <td>{'alpha': 2, 'max_iter': 3000}</td>\n",
       "      <td>-1.003196</td>\n",
       "      <td>-0.906728</td>\n",
       "      <td>-1.029926</td>\n",
       "      <td>-1.016612</td>\n",
       "      <td>-0.982349</td>\n",
       "      <td>-0.987762</td>\n",
       "      <td>0.043461</td>\n",
       "      <td>4</td>\n",
       "    </tr>\n",
       "    <tr>\n",
       "      <th>4</th>\n",
       "      <td>0.011651</td>\n",
       "      <td>0.000117</td>\n",
       "      <td>0.006063</td>\n",
       "      <td>0.000027</td>\n",
       "      <td>3</td>\n",
       "      <td>3000</td>\n",
       "      <td>{'alpha': 3, 'max_iter': 3000}</td>\n",
       "      <td>-1.003226</td>\n",
       "      <td>-0.906729</td>\n",
       "      <td>-1.029925</td>\n",
       "      <td>-1.016602</td>\n",
       "      <td>-0.982366</td>\n",
       "      <td>-0.987770</td>\n",
       "      <td>0.043460</td>\n",
       "      <td>5</td>\n",
       "    </tr>\n",
       "  </tbody>\n",
       "</table>\n",
       "</div>"
      ],
      "text/plain": [
       "   mean_fit_time  std_fit_time  mean_score_time  std_score_time param_alpha  \\\n",
       "0       0.014029      0.004274         0.007571        0.002727        0.01   \n",
       "1       0.011846      0.000077         0.006137        0.000051         0.1   \n",
       "2       0.011752      0.000086         0.006190        0.000075           1   \n",
       "3       0.011673      0.000114         0.006110        0.000036           2   \n",
       "4       0.011651      0.000117         0.006063        0.000027           3   \n",
       "\n",
       "  param_max_iter                             params  split0_test_score  \\\n",
       "0           3000  {'alpha': 0.01, 'max_iter': 3000}          -1.003138   \n",
       "1           3000   {'alpha': 0.1, 'max_iter': 3000}          -1.003140   \n",
       "2           3000     {'alpha': 1, 'max_iter': 3000}          -1.003167   \n",
       "3           3000     {'alpha': 2, 'max_iter': 3000}          -1.003196   \n",
       "4           3000     {'alpha': 3, 'max_iter': 3000}          -1.003226   \n",
       "\n",
       "   split1_test_score  split2_test_score  split3_test_score  split4_test_score  \\\n",
       "0          -0.906726          -1.029928          -1.016631          -0.982313   \n",
       "1          -0.906726          -1.029928          -1.016630          -0.982315   \n",
       "2          -0.906727          -1.029927          -1.016621          -0.982331   \n",
       "3          -0.906728          -1.029926          -1.016612          -0.982349   \n",
       "4          -0.906729          -1.029925          -1.016602          -0.982366   \n",
       "\n",
       "   mean_test_score  std_test_score  rank_test_score  \n",
       "0        -0.987747        0.043461                1  \n",
       "1        -0.987748        0.043461                2  \n",
       "2        -0.987755        0.043461                3  \n",
       "3        -0.987762        0.043461                4  \n",
       "4        -0.987770        0.043460                5  "
      ]
     },
     "execution_count": 13,
     "metadata": {},
     "output_type": "execute_result"
    }
   ],
   "source": [
    "ridge_m_ = Ridge()\n",
    "ridge_params = {'max_iter': [3000], \n",
    "                'alpha': [0.01, 0.1, 1, 2, 3, 4, 10, 30, 100, 200, 300, 400, 800, 900, 1000]}\n",
    "rmsle_scorer = metrics.make_scorer(rmsle, greater_is_better=False)\n",
    "grid_ridge_m = GridSearchCV(ridge_m_,\n",
    "                           ridge_params,\n",
    "                           scoring=rmsle_scorer,\n",
    "                           cv=5)\n",
    "y_train_log = np.log1p(y_train)\n",
    "grid_ridge_m.fit(X_train, y_train_log)\n",
    "preds = grid_ridge_m.predict(X_train)\n",
    "print(grid_ridge_m.best_params_)\n",
    "print(\"RMSLE Value for Ridge Regression: \", rmsle(np.exp(y_train_log), np.exp(preds), False))\n",
    "\n",
    "df = pd.DataFrame(grid_ridge_m.cv_results_)\n",
    "df.head()\n",
    "      "
   ]
  },
  {
   "cell_type": "code",
   "execution_count": 14,
   "id": "140e9cc9",
   "metadata": {
    "execution": {
     "iopub.execute_input": "2021-08-19T07:38:01.669647Z",
     "iopub.status.busy": "2021-08-19T07:38:01.668721Z",
     "iopub.status.idle": "2021-08-19T07:38:01.673404Z",
     "shell.execute_reply": "2021-08-19T07:38:01.672891Z",
     "shell.execute_reply.started": "2021-08-19T07:25:31.168070Z"
    },
    "papermill": {
     "duration": 0.060589,
     "end_time": "2021-08-19T07:38:01.673557",
     "exception": false,
     "start_time": "2021-08-19T07:38:01.612968",
     "status": "completed"
    },
    "tags": []
   },
   "outputs": [
    {
     "data": {
      "text/html": [
       "<div>\n",
       "<style scoped>\n",
       "    .dataframe tbody tr th:only-of-type {\n",
       "        vertical-align: middle;\n",
       "    }\n",
       "\n",
       "    .dataframe tbody tr th {\n",
       "        vertical-align: top;\n",
       "    }\n",
       "\n",
       "    .dataframe thead th {\n",
       "        text-align: right;\n",
       "    }\n",
       "</style>\n",
       "<table border=\"1\" class=\"dataframe\">\n",
       "  <thead>\n",
       "    <tr style=\"text-align: right;\">\n",
       "      <th></th>\n",
       "      <th>alpha</th>\n",
       "      <th>rmsle</th>\n",
       "    </tr>\n",
       "  </thead>\n",
       "  <tbody>\n",
       "    <tr>\n",
       "      <th>0</th>\n",
       "      <td>0.01</td>\n",
       "      <td>0.987747</td>\n",
       "    </tr>\n",
       "    <tr>\n",
       "      <th>1</th>\n",
       "      <td>0.10</td>\n",
       "      <td>0.987748</td>\n",
       "    </tr>\n",
       "    <tr>\n",
       "      <th>2</th>\n",
       "      <td>1.00</td>\n",
       "      <td>0.987755</td>\n",
       "    </tr>\n",
       "    <tr>\n",
       "      <th>3</th>\n",
       "      <td>2.00</td>\n",
       "      <td>0.987762</td>\n",
       "    </tr>\n",
       "    <tr>\n",
       "      <th>4</th>\n",
       "      <td>3.00</td>\n",
       "      <td>0.987770</td>\n",
       "    </tr>\n",
       "  </tbody>\n",
       "</table>\n",
       "</div>"
      ],
      "text/plain": [
       "   alpha     rmsle\n",
       "0   0.01  0.987747\n",
       "1   0.10  0.987748\n",
       "2   1.00  0.987755\n",
       "3   2.00  0.987762\n",
       "4   3.00  0.987770"
      ]
     },
     "execution_count": 14,
     "metadata": {},
     "output_type": "execute_result"
    }
   ],
   "source": [
    "df[\"alpha\"] = df[\"params\"].apply(lambda x: x[\"alpha\"])\n",
    "df[\"rmsle\"] = df[\"mean_test_score\"].apply(lambda x: -x)\n",
    "df[[\"alpha\", \"rmsle\"]].head()"
   ]
  },
  {
   "cell_type": "code",
   "execution_count": 15,
   "id": "4e1c0228",
   "metadata": {
    "execution": {
     "iopub.execute_input": "2021-08-19T07:38:01.754652Z",
     "iopub.status.busy": "2021-08-19T07:38:01.739004Z",
     "iopub.status.idle": "2021-08-19T07:38:02.076623Z",
     "shell.execute_reply": "2021-08-19T07:38:02.075791Z",
     "shell.execute_reply.started": "2021-08-19T07:25:55.833533Z"
    },
    "papermill": {
     "duration": 0.374034,
     "end_time": "2021-08-19T07:38:02.076873",
     "exception": false,
     "start_time": "2021-08-19T07:38:01.702839",
     "status": "completed"
    },
    "tags": []
   },
   "outputs": [
    {
     "data": {
      "text/plain": [
       "<AxesSubplot:xlabel='alpha', ylabel='rmsle'>"
      ]
     },
     "execution_count": 15,
     "metadata": {},
     "output_type": "execute_result"
    },
    {
     "data": {
      "image/png": "[encoded data removed]",
      "text/plain": [
       "<Figure size 864x360 with 1 Axes>"
      ]
     },
     "metadata": {},
     "output_type": "display_data"
    }
   ],
   "source": [
    "fig, ax = plt.subplots(figsize=(12, 5))\n",
    "plt.xticks(rotation=30, ha='right')\n",
    "sns.pointplot(data=df, x=\"alpha\", y=\"rmsle\", ax=ax)"
   ]
  },
  {
   "cell_type": "markdown",
   "id": "620462f9",
   "metadata": {
    "papermill": {
     "duration": 0.036719,
     "end_time": "2021-08-19T07:38:02.150497",
     "exception": false,
     "start_time": "2021-08-19T07:38:02.113778",
     "status": "completed"
    },
    "tags": []
   },
   "source": [
    "## 라쏘 (Regularization Model - Lasso)\n",
    "\n",
    "- 선형 회귀의 Regularization(규제)를 적용하는 대안\n",
    "- 계수를 0에 가깝게 만들려하며 이를 L1규제라고 하며, 어떤 계수는 0이 되기도 하는데, 이는 완전히 제외하는 피처가 생긴다는 의미\n",
    "- 피처 선택이 자동으로 이루어진다고 볼 수도 있다.\n",
    "- alpha 값의 기본 값은 1.0이며, 과소 적합을 줄이기 위해서는 이 값을 줄여야 함\n",
    "\n",
    "\n",
    "- 그리드 서치로 아래 라쏘 모델을 실행했을 때 베스트 alpha 값은 0.0025\n"
   ]
  },
  {
   "cell_type": "code",
   "execution_count": 16,
   "id": "c762fe05",
   "metadata": {
    "execution": {
     "iopub.execute_input": "2021-08-19T07:38:02.233162Z",
     "iopub.status.busy": "2021-08-19T07:38:02.232221Z",
     "iopub.status.idle": "2021-08-19T07:38:05.304774Z",
     "shell.execute_reply": "2021-08-19T07:38:05.305618Z",
     "shell.execute_reply.started": "2021-08-19T07:30:25.566174Z"
    },
    "papermill": {
     "duration": 3.119813,
     "end_time": "2021-08-19T07:38:05.305904",
     "exception": false,
     "start_time": "2021-08-19T07:38:02.186091",
     "status": "completed"
    },
    "tags": []
   },
   "outputs": [
    {
     "name": "stdout",
     "output_type": "stream",
     "text": [
      "{'alpha': 0.00125, 'max_iter': 3000}\n",
      "RMSLE Value for Lasso Regression:  0.980372782145765\n"
     ]
    },
    {
     "data": {
      "text/html": [
       "<div>\n",
       "<style scoped>\n",
       "    .dataframe tbody tr th:only-of-type {\n",
       "        vertical-align: middle;\n",
       "    }\n",
       "\n",
       "    .dataframe tbody tr th {\n",
       "        vertical-align: top;\n",
       "    }\n",
       "\n",
       "    .dataframe thead th {\n",
       "        text-align: right;\n",
       "    }\n",
       "</style>\n",
       "<table border=\"1\" class=\"dataframe\">\n",
       "  <thead>\n",
       "    <tr style=\"text-align: right;\">\n",
       "      <th></th>\n",
       "      <th>alpha</th>\n",
       "      <th>rmsle</th>\n",
       "    </tr>\n",
       "  </thead>\n",
       "  <tbody>\n",
       "    <tr>\n",
       "      <th>0</th>\n",
       "      <td>10.000000</td>\n",
       "      <td>1.397124</td>\n",
       "    </tr>\n",
       "    <tr>\n",
       "      <th>1</th>\n",
       "      <td>1.000000</td>\n",
       "      <td>1.071947</td>\n",
       "    </tr>\n",
       "    <tr>\n",
       "      <th>2</th>\n",
       "      <td>0.500000</td>\n",
       "      <td>1.062110</td>\n",
       "    </tr>\n",
       "    <tr>\n",
       "      <th>3</th>\n",
       "      <td>0.333333</td>\n",
       "      <td>1.060815</td>\n",
       "    </tr>\n",
       "    <tr>\n",
       "      <th>4</th>\n",
       "      <td>0.250000</td>\n",
       "      <td>1.061139</td>\n",
       "    </tr>\n",
       "  </tbody>\n",
       "</table>\n",
       "</div>"
      ],
      "text/plain": [
       "       alpha     rmsle\n",
       "0  10.000000  1.397124\n",
       "1   1.000000  1.071947\n",
       "2   0.500000  1.062110\n",
       "3   0.333333  1.060815\n",
       "4   0.250000  1.061139"
      ]
     },
     "execution_count": 16,
     "metadata": {},
     "output_type": "execute_result"
    }
   ],
   "source": [
    "lasso_m_ = Lasso()\n",
    "\n",
    "alpha = 1/np.array([0.1, 1, 2, 3, 4, 10, 30, 100, 200, 300, 400, 800, 900, 1000])\n",
    "lasso_params_ = {'max_iter': [3000], 'alpha': alpha}\n",
    "\n",
    "grid_lasso_m = GridSearchCV(lasso_m_, lasso_params_, scoring=rmsle_scorer, cv=5)\n",
    "y_train_log = np.log1p(y_train)\n",
    "grid_lasso_m.fit(X_train, y_train_log)\n",
    "preds = grid_lasso_m.predict(X_train)\n",
    "print(grid_lasso_m.best_params_)\n",
    "print(\"RMSLE Value for Lasso Regression: \", rmsle(np.exp(y_train_log), np.exp(preds), False))\n",
    "\n",
    "df = pd.DataFrame(grid_lasso_m.cv_results_)\n",
    "df[\"alpha\"] = df[\"params\"].apply(lambda x: x[\"alpha\"])\n",
    "df[\"rmsle\"] = df[\"mean_test_score\"].apply(lambda x: -x)\n",
    "\n",
    "df[[\"alpha\", \"rmsle\"]].head()"
   ]
  },
  {
   "cell_type": "code",
   "execution_count": 17,
   "id": "3c2b9077",
   "metadata": {
    "execution": {
     "iopub.execute_input": "2021-08-19T07:38:05.434972Z",
     "iopub.status.busy": "2021-08-19T07:38:05.434237Z",
     "iopub.status.idle": "2021-08-19T07:38:05.677369Z",
     "shell.execute_reply": "2021-08-19T07:38:05.676804Z",
     "shell.execute_reply.started": "2021-08-19T07:30:40.941403Z"
    },
    "papermill": {
     "duration": 0.316018,
     "end_time": "2021-08-19T07:38:05.677515",
     "exception": false,
     "start_time": "2021-08-19T07:38:05.361497",
     "status": "completed"
    },
    "tags": []
   },
   "outputs": [
    {
     "data": {
      "text/plain": [
       "<AxesSubplot:xlabel='alpha', ylabel='rmsle'>"
      ]
     },
     "execution_count": 17,
     "metadata": {},
     "output_type": "execute_result"
    },
    {
     "data": {
      "image/png": "[encoded data removed]",
      "text/plain": [
       "<Figure size 864x360 with 1 Axes>"
      ]
     },
     "metadata": {},
     "output_type": "display_data"
    }
   ],
   "source": [
    "fig,ax= plt.subplots()\n",
    "fig.set_size_inches(12,5)\n",
    "plt.xticks(rotation=30, ha='right')\n",
    "sns.pointplot(data=df,x=\"alpha\",y=\"rmsle\",ax=ax)"
   ]
  },
  {
   "cell_type": "markdown",
   "id": "fcac565b",
   "metadata": {
    "papermill": {
     "duration": 0.033455,
     "end_time": "2021-08-19T07:38:05.744292",
     "exception": false,
     "start_time": "2021-08-19T07:38:05.710837",
     "status": "completed"
    },
    "tags": []
   },
   "source": [
    "## 앙상블 모델 - 랜덤포레스트\n",
    "\n",
    "### Ensemble Models - Random Forest"
   ]
  },
  {
   "cell_type": "code",
   "execution_count": 18,
   "id": "3cfae394",
   "metadata": {
    "execution": {
     "iopub.execute_input": "2021-08-19T07:38:05.817727Z",
     "iopub.status.busy": "2021-08-19T07:38:05.816928Z",
     "iopub.status.idle": "2021-08-19T07:38:09.660731Z",
     "shell.execute_reply": "2021-08-19T07:38:09.659872Z",
     "shell.execute_reply.started": "2021-08-19T07:31:51.316915Z"
    },
    "papermill": {
     "duration": 3.883215,
     "end_time": "2021-08-19T07:38:09.660958",
     "exception": false,
     "start_time": "2021-08-19T07:38:05.777743",
     "status": "completed"
    },
    "tags": []
   },
   "outputs": [
    {
     "name": "stdout",
     "output_type": "stream",
     "text": [
      "RMSLE Value for Random Forest:  0.1071960921101382\n"
     ]
    }
   ],
   "source": [
    "from sklearn.ensemble import RandomForestRegressor\n",
    "\n",
    "rfModel = RandomForestRegressor(n_estimators=100)\n",
    "\n",
    "y_train_log = np.log1p(y_train)\n",
    "rfModel.fit(X_train, y_train_log)\n",
    "\n",
    "preds = rfModel.predict(X_train)\n",
    "score = rmsle(np.exp(y_train_log), np.exp(preds), False)\n",
    "print(\"RMSLE Value for Random Forest: \", score)"
   ]
  },
  {
   "cell_type": "markdown",
   "id": "c0649d10",
   "metadata": {
    "papermill": {
     "duration": 0.033316,
     "end_time": "2021-08-19T07:38:09.728546",
     "exception": false,
     "start_time": "2021-08-19T07:38:09.695230",
     "status": "completed"
    },
    "tags": []
   },
   "source": [
    "## 앙상블 모델 - 그라디언트 부스트\n",
    "\n",
    "### Ensemble Model - Gradient Boost\n",
    "\n",
    "- 여러 개의 결정트리를 묶어 강력한 모델을 만드는 또 다른 앙상블 기법\n",
    "- 회귀와 분류 모두에 사용할 수 있음\n",
    "- 랜덤포레스트와 달리 이진트리의 오차를 보완하는 방식으로 순차적으로 트리 만듬\n",
    "- 무작위성이 없고 강력한 사전 가지치기가 사용됨\n",
    "- 1~5개의 깊지 않은 트리를 사용하기 때문에 메모리를 적게 사용하고 예측이 빠름\n",
    "\n",
    "\n",
    "- learning_rate : 오차를 얼마나 강하게 보정할 것인지 제어\n",
    "- n_estimator의 값 키우면 앙상블에 트리가 더 많이 추가되어 모델의 복잡도가 커지고 훈련 세트에서의 실수를 바로잡을 기회가 많아지지만 / 너무 크면 모델이 복잡해지고 오버피팅(과대적합)이 될 수 있음\n",
    "- max_depth(max_leaf_nodes) 복잡도를 너무 높이지 말고 트리의 깊이가 5보다 깊어지지 않게 한다."
   ]
  },
  {
   "cell_type": "code",
   "execution_count": 19,
   "id": "198d8c58",
   "metadata": {
    "execution": {
     "iopub.execute_input": "2021-08-19T07:38:09.807234Z",
     "iopub.status.busy": "2021-08-19T07:38:09.806514Z",
     "iopub.status.idle": "2021-08-19T07:38:44.543881Z",
     "shell.execute_reply": "2021-08-19T07:38:44.544415Z",
     "shell.execute_reply.started": "2021-08-19T07:36:34.529746Z"
    },
    "papermill": {
     "duration": 34.781544,
     "end_time": "2021-08-19T07:38:44.544614",
     "exception": false,
     "start_time": "2021-08-19T07:38:09.763070",
     "status": "completed"
    },
    "tags": []
   },
   "outputs": [
    {
     "name": "stdout",
     "output_type": "stream",
     "text": [
      "RMSLE Value for Gradient Boost:  0.21357403727840335\n"
     ]
    }
   ],
   "source": [
    "from sklearn.ensemble import GradientBoostingRegressor\n",
    "gbm = GradientBoostingRegressor(n_estimators=4000, alpha=0.01);\n",
    "\n",
    "y_train_log = np.log1p(y_train)\n",
    "gbm.fit(X_train, y_train_log)\n",
    "\n",
    "preds = gbm.predict(X_train)\n",
    "score = rmsle(np.exp(y_train_log), np.exp(preds), False)\n",
    "print(\"RMSLE Value for Gradient Boost: \", score)"
   ]
  },
  {
   "cell_type": "code",
   "execution_count": 20,
   "id": "eeee83e1",
   "metadata": {
    "execution": {
     "iopub.execute_input": "2021-08-19T07:38:44.624401Z",
     "iopub.status.busy": "2021-08-19T07:38:44.623224Z",
     "iopub.status.idle": "2021-08-19T07:38:45.570867Z",
     "shell.execute_reply": "2021-08-19T07:38:45.570101Z",
     "shell.execute_reply.started": "2021-08-19T07:37:16.447887Z"
    },
    "papermill": {
     "duration": 0.9924,
     "end_time": "2021-08-19T07:38:45.571028",
     "exception": false,
     "start_time": "2021-08-19T07:38:44.578628",
     "status": "completed"
    },
    "tags": []
   },
   "outputs": [
    {
     "data": {
      "text/plain": [
       "<AxesSubplot:ylabel='Density'>"
      ]
     },
     "execution_count": 20,
     "metadata": {},
     "output_type": "execute_result"
    },
    {
     "data": {
      "image/png": "[encoded data removed]",
      "text/plain": [
       "<Figure size 864x360 with 2 Axes>"
      ]
     },
     "metadata": {},
     "output_type": "display_data"
    }
   ],
   "source": [
    "predsTest = gbm.predict(X_test)\n",
    "\n",
    "fig,(ax1,ax2)= plt.subplots(ncols=2, figsize=(12, 5))\n",
    "sns.distplot(y_train,ax=ax1,bins=50)\n",
    "sns.distplot(np.exp(predsTest), ax=ax2,bins=50)"
   ]
  },
  {
   "cell_type": "markdown",
   "id": "0c1c825c",
   "metadata": {
    "papermill": {
     "duration": 0.035925,
     "end_time": "2021-08-19T07:38:45.642835",
     "exception": false,
     "start_time": "2021-08-19T07:38:45.606910",
     "status": "completed"
    },
    "tags": []
   },
   "source": [
    "# Submit"
   ]
  },
  {
   "cell_type": "code",
   "execution_count": 21,
   "id": "34034960",
   "metadata": {
    "execution": {
     "iopub.execute_input": "2021-08-19T07:38:45.720673Z",
     "iopub.status.busy": "2021-08-19T07:38:45.720006Z",
     "iopub.status.idle": "2021-08-19T07:38:45.744045Z",
     "shell.execute_reply": "2021-08-19T07:38:45.743387Z",
     "shell.execute_reply.started": "2021-08-19T07:37:34.803073Z"
    },
    "papermill": {
     "duration": 0.06422,
     "end_time": "2021-08-19T07:38:45.744209",
     "exception": false,
     "start_time": "2021-08-19T07:38:45.679989",
     "status": "completed"
    },
    "tags": []
   },
   "outputs": [
    {
     "name": "stdout",
     "output_type": "stream",
     "text": [
      "(6493, 2)\n"
     ]
    },
    {
     "data": {
      "text/html": [
       "<div>\n",
       "<style scoped>\n",
       "    .dataframe tbody tr th:only-of-type {\n",
       "        vertical-align: middle;\n",
       "    }\n",
       "\n",
       "    .dataframe tbody tr th {\n",
       "        vertical-align: top;\n",
       "    }\n",
       "\n",
       "    .dataframe thead th {\n",
       "        text-align: right;\n",
       "    }\n",
       "</style>\n",
       "<table border=\"1\" class=\"dataframe\">\n",
       "  <thead>\n",
       "    <tr style=\"text-align: right;\">\n",
       "      <th></th>\n",
       "      <th>datetime</th>\n",
       "      <th>count</th>\n",
       "    </tr>\n",
       "  </thead>\n",
       "  <tbody>\n",
       "    <tr>\n",
       "      <th>0</th>\n",
       "      <td>2011-01-20 00:00:00</td>\n",
       "      <td>11.227543</td>\n",
       "    </tr>\n",
       "    <tr>\n",
       "      <th>1</th>\n",
       "      <td>2011-01-20 01:00:00</td>\n",
       "      <td>6.296610</td>\n",
       "    </tr>\n",
       "    <tr>\n",
       "      <th>2</th>\n",
       "      <td>2011-01-20 02:00:00</td>\n",
       "      <td>4.259238</td>\n",
       "    </tr>\n",
       "    <tr>\n",
       "      <th>3</th>\n",
       "      <td>2011-01-20 03:00:00</td>\n",
       "      <td>2.666615</td>\n",
       "    </tr>\n",
       "    <tr>\n",
       "      <th>4</th>\n",
       "      <td>2011-01-20 04:00:00</td>\n",
       "      <td>2.295918</td>\n",
       "    </tr>\n",
       "  </tbody>\n",
       "</table>\n",
       "</div>"
      ],
      "text/plain": [
       "              datetime      count\n",
       "0  2011-01-20 00:00:00  11.227543\n",
       "1  2011-01-20 01:00:00   6.296610\n",
       "2  2011-01-20 02:00:00   4.259238\n",
       "3  2011-01-20 03:00:00   2.666615\n",
       "4  2011-01-20 04:00:00   2.295918"
      ]
     },
     "execution_count": 21,
     "metadata": {},
     "output_type": "execute_result"
    }
   ],
   "source": [
    "submission = pd.read_csv(\"../input/bike-sharing-demand/sampleSubmission.csv\")\n",
    "submission\n",
    "\n",
    "submission[\"count\"] = np.exp(predsTest)\n",
    "\n",
    "print(submission.shape)\n",
    "submission.head()"
   ]
  },
  {
   "cell_type": "code",
   "execution_count": 22,
   "id": "dede7239",
   "metadata": {
    "execution": {
     "iopub.execute_input": "2021-08-19T07:38:45.822979Z",
     "iopub.status.busy": "2021-08-19T07:38:45.822337Z",
     "iopub.status.idle": "2021-08-19T07:38:45.857634Z",
     "shell.execute_reply": "2021-08-19T07:38:45.856417Z",
     "shell.execute_reply.started": "2021-08-19T07:37:37.071352Z"
    },
    "papermill": {
     "duration": 0.076698,
     "end_time": "2021-08-19T07:38:45.857814",
     "exception": false,
     "start_time": "2021-08-19T07:38:45.781116",
     "status": "completed"
    },
    "tags": []
   },
   "outputs": [],
   "source": [
    "submission.to_csv(f\"Score_{score:.5f}_submission.csv\", index=False)"
   ]
  },
  {
   "cell_type": "code",
   "execution_count": null,
   "id": "f2566d37",
   "metadata": {
    "papermill": {
     "duration": 0.035943,
     "end_time": "2021-08-19T07:38:45.929861",
     "exception": false,
     "start_time": "2021-08-19T07:38:45.893918",
     "status": "completed"
    },
    "tags": []
   },
   "outputs": [],
   "source": []
  }
 ],
 "metadata": {
  "kernelspec": {
   "display_name": "Python 3",
   "language": "python",
   "name": "python3"
  },
  "language_info": {
   "codemirror_mode": {
    "name": "ipython",
    "version": 3
   },
   "file_extension": ".py",
   "mimetype": "text/x-python",
   "name": "python",
   "nbconvert_exporter": "python",
   "pygments_lexer": "ipython3",
   "version": "3.7.10"
  },
  "papermill": {
   "default_parameters": {},
   "duration": 58.90285,
   "end_time": "2021-08-19T07:38:47.772940",
   "environment_variables": {},
   "exception": null,
   "input_path": "__notebook__.ipynb",
   "output_path": "__notebook__.ipynb",
   "parameters": {},
   "start_time": "2021-08-19T07:37:48.870090",
   "version": "2.3.3"
  }
 },
 "nbformat": 4,
 "nbformat_minor": 5
}
