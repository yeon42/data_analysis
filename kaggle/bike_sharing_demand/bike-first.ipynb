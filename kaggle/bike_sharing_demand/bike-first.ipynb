{
 "cells": [
  {
   "cell_type": "code",
   "execution_count": 1,
   "id": "907ee84e",
   "metadata": {
    "_cell_guid": "b1076dfc-b9ad-4769-8c92-a6c4dae69d19",
    "_uuid": "8f2839f25d086af736a60e9eeb907d3b93b6e0e5",
    "execution": {
     "iopub.execute_input": "2021-08-18T08:49:55.418328Z",
     "iopub.status.busy": "2021-08-18T08:49:55.417722Z",
     "iopub.status.idle": "2021-08-18T08:49:55.420519Z",
     "shell.execute_reply": "2021-08-18T08:49:55.419797Z",
     "shell.execute_reply.started": "2021-08-18T08:35:54.719701Z"
    },
    "papermill": {
     "duration": 0.051362,
     "end_time": "2021-08-18T08:49:55.420682",
     "exception": false,
     "start_time": "2021-08-18T08:49:55.369320",
     "status": "completed"
    },
    "tags": []
   },
   "outputs": [],
   "source": [
    "import pandas as pd\n",
    "import numpy as np\n",
    "import matplotlib.pyplot as plt"
   ]
  },
  {
   "cell_type": "code",
   "execution_count": 2,
   "id": "9551b758",
   "metadata": {
    "execution": {
     "iopub.execute_input": "2021-08-18T08:49:55.503165Z",
     "iopub.status.busy": "2021-08-18T08:49:55.502567Z",
     "iopub.status.idle": "2021-08-18T08:49:55.651564Z",
     "shell.execute_reply": "2021-08-18T08:49:55.650921Z",
     "shell.execute_reply.started": "2021-08-18T08:35:54.727409Z"
    },
    "papermill": {
     "duration": 0.192317,
     "end_time": "2021-08-18T08:49:55.651698",
     "exception": false,
     "start_time": "2021-08-18T08:49:55.459381",
     "status": "completed"
    },
    "tags": []
   },
   "outputs": [],
   "source": [
    "test_df = pd.read_csv(\"../input/bike-sharing-demand/test.csv\", parse_dates=[\"datetime\"])\n",
    "train_df = pd.read_csv(\"../input/bike-sharing-demand/train.csv\", parse_dates=[\"datetime\"])\n",
    "\n",
    "# parse_dates를 통해 string으로 저장된 데이터를 datetime으로 바꿔줌 (형변환)"
   ]
  },
  {
   "cell_type": "code",
   "execution_count": 3,
   "id": "71705800",
   "metadata": {
    "execution": {
     "iopub.execute_input": "2021-08-18T08:49:55.737845Z",
     "iopub.status.busy": "2021-08-18T08:49:55.737186Z",
     "iopub.status.idle": "2021-08-18T08:49:55.769475Z",
     "shell.execute_reply": "2021-08-18T08:49:55.769930Z",
     "shell.execute_reply.started": "2021-08-18T08:35:54.788383Z"
    },
    "papermill": {
     "duration": 0.079778,
     "end_time": "2021-08-18T08:49:55.770086",
     "exception": false,
     "start_time": "2021-08-18T08:49:55.690308",
     "status": "completed"
    },
    "tags": []
   },
   "outputs": [
    {
     "data": {
      "text/html": [
       "<div>\n",
       "<style scoped>\n",
       "    .dataframe tbody tr th:only-of-type {\n",
       "        vertical-align: middle;\n",
       "    }\n",
       "\n",
       "    .dataframe tbody tr th {\n",
       "        vertical-align: top;\n",
       "    }\n",
       "\n",
       "    .dataframe thead th {\n",
       "        text-align: right;\n",
       "    }\n",
       "</style>\n",
       "<table border=\"1\" class=\"dataframe\">\n",
       "  <thead>\n",
       "    <tr style=\"text-align: right;\">\n",
       "      <th></th>\n",
       "      <th>index</th>\n",
       "      <th>datetime</th>\n",
       "      <th>season</th>\n",
       "      <th>holiday</th>\n",
       "      <th>workingday</th>\n",
       "      <th>weather</th>\n",
       "      <th>temp</th>\n",
       "      <th>atemp</th>\n",
       "      <th>humidity</th>\n",
       "      <th>windspeed</th>\n",
       "      <th>casual</th>\n",
       "      <th>registered</th>\n",
       "      <th>count</th>\n",
       "    </tr>\n",
       "  </thead>\n",
       "  <tbody>\n",
       "    <tr>\n",
       "      <th>0</th>\n",
       "      <td>0</td>\n",
       "      <td>2011-01-01 00:00:00</td>\n",
       "      <td>1</td>\n",
       "      <td>0</td>\n",
       "      <td>0</td>\n",
       "      <td>1</td>\n",
       "      <td>9.84</td>\n",
       "      <td>14.395</td>\n",
       "      <td>81</td>\n",
       "      <td>0.0</td>\n",
       "      <td>3.0</td>\n",
       "      <td>13.0</td>\n",
       "      <td>16.0</td>\n",
       "    </tr>\n",
       "    <tr>\n",
       "      <th>1</th>\n",
       "      <td>1</td>\n",
       "      <td>2011-01-01 01:00:00</td>\n",
       "      <td>1</td>\n",
       "      <td>0</td>\n",
       "      <td>0</td>\n",
       "      <td>1</td>\n",
       "      <td>9.02</td>\n",
       "      <td>13.635</td>\n",
       "      <td>80</td>\n",
       "      <td>0.0</td>\n",
       "      <td>8.0</td>\n",
       "      <td>32.0</td>\n",
       "      <td>40.0</td>\n",
       "    </tr>\n",
       "    <tr>\n",
       "      <th>2</th>\n",
       "      <td>2</td>\n",
       "      <td>2011-01-01 02:00:00</td>\n",
       "      <td>1</td>\n",
       "      <td>0</td>\n",
       "      <td>0</td>\n",
       "      <td>1</td>\n",
       "      <td>9.02</td>\n",
       "      <td>13.635</td>\n",
       "      <td>80</td>\n",
       "      <td>0.0</td>\n",
       "      <td>5.0</td>\n",
       "      <td>27.0</td>\n",
       "      <td>32.0</td>\n",
       "    </tr>\n",
       "    <tr>\n",
       "      <th>3</th>\n",
       "      <td>3</td>\n",
       "      <td>2011-01-01 03:00:00</td>\n",
       "      <td>1</td>\n",
       "      <td>0</td>\n",
       "      <td>0</td>\n",
       "      <td>1</td>\n",
       "      <td>9.84</td>\n",
       "      <td>14.395</td>\n",
       "      <td>75</td>\n",
       "      <td>0.0</td>\n",
       "      <td>3.0</td>\n",
       "      <td>10.0</td>\n",
       "      <td>13.0</td>\n",
       "    </tr>\n",
       "    <tr>\n",
       "      <th>4</th>\n",
       "      <td>4</td>\n",
       "      <td>2011-01-01 04:00:00</td>\n",
       "      <td>1</td>\n",
       "      <td>0</td>\n",
       "      <td>0</td>\n",
       "      <td>1</td>\n",
       "      <td>9.84</td>\n",
       "      <td>14.395</td>\n",
       "      <td>75</td>\n",
       "      <td>0.0</td>\n",
       "      <td>0.0</td>\n",
       "      <td>1.0</td>\n",
       "      <td>1.0</td>\n",
       "    </tr>\n",
       "  </tbody>\n",
       "</table>\n",
       "</div>"
      ],
      "text/plain": [
       "   index            datetime  season  holiday  workingday  weather  temp  \\\n",
       "0      0 2011-01-01 00:00:00       1        0           0        1  9.84   \n",
       "1      1 2011-01-01 01:00:00       1        0           0        1  9.02   \n",
       "2      2 2011-01-01 02:00:00       1        0           0        1  9.02   \n",
       "3      3 2011-01-01 03:00:00       1        0           0        1  9.84   \n",
       "4      4 2011-01-01 04:00:00       1        0           0        1  9.84   \n",
       "\n",
       "    atemp  humidity  windspeed  casual  registered  count  \n",
       "0  14.395        81        0.0     3.0        13.0   16.0  \n",
       "1  13.635        80        0.0     8.0        32.0   40.0  \n",
       "2  13.635        80        0.0     5.0        27.0   32.0  \n",
       "3  14.395        75        0.0     3.0        10.0   13.0  \n",
       "4  14.395        75        0.0     0.0         1.0    1.0  "
      ]
     },
     "execution_count": 3,
     "metadata": {},
     "output_type": "execute_result"
    }
   ],
   "source": [
    "all_df = pd.concat((train_df, test_df), axis=0).reset_index()\n",
    "all_df.head()\n",
    "\n",
    "# 그냥 concat 하면 index 중복이 일어남\n",
    "# 처음은 train_df"
   ]
  },
  {
   "cell_type": "code",
   "execution_count": 4,
   "id": "cff409a9",
   "metadata": {
    "execution": {
     "iopub.execute_input": "2021-08-18T08:49:55.850932Z",
     "iopub.status.busy": "2021-08-18T08:49:55.850307Z",
     "iopub.status.idle": "2021-08-18T08:49:55.864804Z",
     "shell.execute_reply": "2021-08-18T08:49:55.865232Z",
     "shell.execute_reply.started": "2021-08-18T08:35:54.817767Z"
    },
    "papermill": {
     "duration": 0.056165,
     "end_time": "2021-08-18T08:49:55.865409",
     "exception": false,
     "start_time": "2021-08-18T08:49:55.809244",
     "status": "completed"
    },
    "tags": []
   },
   "outputs": [
    {
     "data": {
      "text/html": [
       "<div>\n",
       "<style scoped>\n",
       "    .dataframe tbody tr th:only-of-type {\n",
       "        vertical-align: middle;\n",
       "    }\n",
       "\n",
       "    .dataframe tbody tr th {\n",
       "        vertical-align: top;\n",
       "    }\n",
       "\n",
       "    .dataframe thead th {\n",
       "        text-align: right;\n",
       "    }\n",
       "</style>\n",
       "<table border=\"1\" class=\"dataframe\">\n",
       "  <thead>\n",
       "    <tr style=\"text-align: right;\">\n",
       "      <th></th>\n",
       "      <th>index</th>\n",
       "      <th>datetime</th>\n",
       "      <th>season</th>\n",
       "      <th>holiday</th>\n",
       "      <th>workingday</th>\n",
       "      <th>weather</th>\n",
       "      <th>temp</th>\n",
       "      <th>atemp</th>\n",
       "      <th>humidity</th>\n",
       "      <th>windspeed</th>\n",
       "      <th>casual</th>\n",
       "      <th>registered</th>\n",
       "      <th>count</th>\n",
       "    </tr>\n",
       "  </thead>\n",
       "  <tbody>\n",
       "    <tr>\n",
       "      <th>17374</th>\n",
       "      <td>6488</td>\n",
       "      <td>2012-12-31 19:00:00</td>\n",
       "      <td>1</td>\n",
       "      <td>0</td>\n",
       "      <td>1</td>\n",
       "      <td>2</td>\n",
       "      <td>10.66</td>\n",
       "      <td>12.880</td>\n",
       "      <td>60</td>\n",
       "      <td>11.0014</td>\n",
       "      <td>NaN</td>\n",
       "      <td>NaN</td>\n",
       "      <td>NaN</td>\n",
       "    </tr>\n",
       "    <tr>\n",
       "      <th>17375</th>\n",
       "      <td>6489</td>\n",
       "      <td>2012-12-31 20:00:00</td>\n",
       "      <td>1</td>\n",
       "      <td>0</td>\n",
       "      <td>1</td>\n",
       "      <td>2</td>\n",
       "      <td>10.66</td>\n",
       "      <td>12.880</td>\n",
       "      <td>60</td>\n",
       "      <td>11.0014</td>\n",
       "      <td>NaN</td>\n",
       "      <td>NaN</td>\n",
       "      <td>NaN</td>\n",
       "    </tr>\n",
       "    <tr>\n",
       "      <th>17376</th>\n",
       "      <td>6490</td>\n",
       "      <td>2012-12-31 21:00:00</td>\n",
       "      <td>1</td>\n",
       "      <td>0</td>\n",
       "      <td>1</td>\n",
       "      <td>1</td>\n",
       "      <td>10.66</td>\n",
       "      <td>12.880</td>\n",
       "      <td>60</td>\n",
       "      <td>11.0014</td>\n",
       "      <td>NaN</td>\n",
       "      <td>NaN</td>\n",
       "      <td>NaN</td>\n",
       "    </tr>\n",
       "    <tr>\n",
       "      <th>17377</th>\n",
       "      <td>6491</td>\n",
       "      <td>2012-12-31 22:00:00</td>\n",
       "      <td>1</td>\n",
       "      <td>0</td>\n",
       "      <td>1</td>\n",
       "      <td>1</td>\n",
       "      <td>10.66</td>\n",
       "      <td>13.635</td>\n",
       "      <td>56</td>\n",
       "      <td>8.9981</td>\n",
       "      <td>NaN</td>\n",
       "      <td>NaN</td>\n",
       "      <td>NaN</td>\n",
       "    </tr>\n",
       "    <tr>\n",
       "      <th>17378</th>\n",
       "      <td>6492</td>\n",
       "      <td>2012-12-31 23:00:00</td>\n",
       "      <td>1</td>\n",
       "      <td>0</td>\n",
       "      <td>1</td>\n",
       "      <td>1</td>\n",
       "      <td>10.66</td>\n",
       "      <td>13.635</td>\n",
       "      <td>65</td>\n",
       "      <td>8.9981</td>\n",
       "      <td>NaN</td>\n",
       "      <td>NaN</td>\n",
       "      <td>NaN</td>\n",
       "    </tr>\n",
       "  </tbody>\n",
       "</table>\n",
       "</div>"
      ],
      "text/plain": [
       "       index            datetime  season  holiday  workingday  weather   temp  \\\n",
       "17374   6488 2012-12-31 19:00:00       1        0           1        2  10.66   \n",
       "17375   6489 2012-12-31 20:00:00       1        0           1        2  10.66   \n",
       "17376   6490 2012-12-31 21:00:00       1        0           1        1  10.66   \n",
       "17377   6491 2012-12-31 22:00:00       1        0           1        1  10.66   \n",
       "17378   6492 2012-12-31 23:00:00       1        0           1        1  10.66   \n",
       "\n",
       "        atemp  humidity  windspeed  casual  registered  count  \n",
       "17374  12.880        60    11.0014     NaN         NaN    NaN  \n",
       "17375  12.880        60    11.0014     NaN         NaN    NaN  \n",
       "17376  12.880        60    11.0014     NaN         NaN    NaN  \n",
       "17377  13.635        56     8.9981     NaN         NaN    NaN  \n",
       "17378  13.635        65     8.9981     NaN         NaN    NaN  "
      ]
     },
     "execution_count": 4,
     "metadata": {},
     "output_type": "execute_result"
    }
   ],
   "source": [
    "all_df.tail()\n",
    "# 마지막은 test_set"
   ]
  },
  {
   "cell_type": "markdown",
   "id": "3c83eaba",
   "metadata": {
    "papermill": {
     "duration": 0.038879,
     "end_time": "2021-08-18T08:49:55.943260",
     "exception": false,
     "start_time": "2021-08-18T08:49:55.904381",
     "status": "completed"
    },
    "tags": []
   },
   "source": [
    "- casual : 그냥 빌리는 사람\n",
    "- registered : 등록을 하고 빌리는 사람"
   ]
  },
  {
   "cell_type": "markdown",
   "id": "fb5dd712",
   "metadata": {
    "papermill": {
     "duration": 0.038616,
     "end_time": "2021-08-18T08:49:56.020764",
     "exception": false,
     "start_time": "2021-08-18T08:49:55.982148",
     "status": "completed"
    },
    "tags": []
   },
   "source": [
    "- train 값으로 처음에 학습, test 값으로 체크를 해야함\n",
    "- 먼저 concat으로 합침 (똑같은 기준으로 feature engineering을 해야하므로)"
   ]
  },
  {
   "cell_type": "code",
   "execution_count": 5,
   "id": "014260b1",
   "metadata": {
    "execution": {
     "iopub.execute_input": "2021-08-18T08:49:56.114599Z",
     "iopub.status.busy": "2021-08-18T08:49:56.113988Z",
     "iopub.status.idle": "2021-08-18T08:49:56.121904Z",
     "shell.execute_reply": "2021-08-18T08:49:56.120984Z",
     "shell.execute_reply.started": "2021-08-18T08:35:54.837062Z"
    },
    "papermill": {
     "duration": 0.060181,
     "end_time": "2021-08-18T08:49:56.122153",
     "exception": false,
     "start_time": "2021-08-18T08:49:56.061972",
     "status": "completed"
    },
    "tags": []
   },
   "outputs": [
    {
     "data": {
      "text/plain": [
       "10886"
      ]
     },
     "execution_count": 5,
     "metadata": {},
     "output_type": "execute_result"
    }
   ],
   "source": [
    "# train data의 size만큼의 index 만들기\n",
    "train_index = list(range(len(train_df)))\n",
    "\n",
    "# test data는 train data 이후부터 모두\n",
    "test_index = list(range(len(train_df), len(all_df)))\n",
    "test_index[0]"
   ]
  },
  {
   "cell_type": "code",
   "execution_count": 6,
   "id": "5ccfddd3",
   "metadata": {
    "execution": {
     "iopub.execute_input": "2021-08-18T08:49:56.213368Z",
     "iopub.status.busy": "2021-08-18T08:49:56.212709Z",
     "iopub.status.idle": "2021-08-18T08:49:56.219939Z",
     "shell.execute_reply": "2021-08-18T08:49:56.219379Z",
     "shell.execute_reply.started": "2021-08-18T08:35:54.849904Z"
    },
    "papermill": {
     "duration": 0.05093,
     "end_time": "2021-08-18T08:49:56.220077",
     "exception": false,
     "start_time": "2021-08-18T08:49:56.169147",
     "status": "completed"
    },
    "tags": []
   },
   "outputs": [
    {
     "data": {
      "text/plain": [
       "index            0\n",
       "datetime         0\n",
       "season           0\n",
       "holiday          0\n",
       "workingday       0\n",
       "weather          0\n",
       "temp             0\n",
       "atemp            0\n",
       "humidity         0\n",
       "windspeed        0\n",
       "casual        6493\n",
       "registered    6493\n",
       "count         6493\n",
       "dtype: int64"
      ]
     },
     "execution_count": 6,
     "metadata": {},
     "output_type": "execute_result"
    }
   ],
   "source": [
    "# 결측치 찾기\n",
    "all_df.isnull().sum()"
   ]
  },
  {
   "cell_type": "markdown",
   "id": "cf953390",
   "metadata": {
    "papermill": {
     "duration": 0.039367,
     "end_time": "2021-08-18T08:49:56.299318",
     "exception": false,
     "start_time": "2021-08-18T08:49:56.259951",
     "status": "completed"
    },
    "tags": []
   },
   "source": [
    "- casual, registered, count\n",
    "  - test에는 존재하지 않고 train data에만 존재함\n",
    "  - 사실상 null 값이 존재하지 않는다라고 생각하면 됨! (다 같으므로)"
   ]
  },
  {
   "cell_type": "code",
   "execution_count": 7,
   "id": "baa59b51",
   "metadata": {
    "execution": {
     "iopub.execute_input": "2021-08-18T08:49:56.382212Z",
     "iopub.status.busy": "2021-08-18T08:49:56.381636Z",
     "iopub.status.idle": "2021-08-18T08:49:56.387251Z",
     "shell.execute_reply": "2021-08-18T08:49:56.387748Z",
     "shell.execute_reply.started": "2021-08-18T08:35:54.865457Z"
    },
    "papermill": {
     "duration": 0.048477,
     "end_time": "2021-08-18T08:49:56.387914",
     "exception": false,
     "start_time": "2021-08-18T08:49:56.339437",
     "status": "completed"
    },
    "tags": []
   },
   "outputs": [
    {
     "data": {
      "text/plain": [
       "array([  inf,  -inf,   nan, -128.,  128.])"
      ]
     },
     "execution_count": 7,
     "metadata": {},
     "output_type": "execute_result"
    }
   ],
   "source": [
    "x = np.array([np.inf, -np.inf, np.nan, -128, 128])\n",
    "x"
   ]
  },
  {
   "cell_type": "code",
   "execution_count": 8,
   "id": "a9901970",
   "metadata": {
    "execution": {
     "iopub.execute_input": "2021-08-18T08:49:56.484957Z",
     "iopub.status.busy": "2021-08-18T08:49:56.484301Z",
     "iopub.status.idle": "2021-08-18T08:49:56.491794Z",
     "shell.execute_reply": "2021-08-18T08:49:56.491294Z",
     "shell.execute_reply.started": "2021-08-18T08:35:54.873923Z"
    },
    "papermill": {
     "duration": 0.057274,
     "end_time": "2021-08-18T08:49:56.491934",
     "exception": false,
     "start_time": "2021-08-18T08:49:56.434660",
     "status": "completed"
    },
    "tags": []
   },
   "outputs": [
    {
     "data": {
      "text/plain": [
       "array([ 1.79769313e+308, -1.79769313e+308,  0.00000000e+000,\n",
       "       -1.28000000e+002,  1.28000000e+002])"
      ]
     },
     "execution_count": 8,
     "metadata": {},
     "output_type": "execute_result"
    }
   ],
   "source": [
    "np.nan_to_num(x)\n",
    "\n",
    "# na_to_num : nan값을 숫자로 만들어줌\n",
    "\n",
    "# inf number은 가장 큰 값으로\n",
    "# nan 값은 굉장히 작은 값으로"
   ]
  },
  {
   "cell_type": "markdown",
   "id": "622cba3a",
   "metadata": {
    "papermill": {
     "duration": 0.042692,
     "end_time": "2021-08-18T08:49:56.575071",
     "exception": false,
     "start_time": "2021-08-18T08:49:56.532379",
     "status": "completed"
    },
    "tags": []
   },
   "source": [
    "$$\n",
    "\\sqrt{\\frac{1}{n} \\sum_{i=1}^n (\\log(p_i + 1) - \\log(a_i+1))^2 }\n",
    "$$"
   ]
  },
  {
   "cell_type": "code",
   "execution_count": 9,
   "id": "0984e19d",
   "metadata": {
    "execution": {
     "iopub.execute_input": "2021-08-18T08:49:56.661420Z",
     "iopub.status.busy": "2021-08-18T08:49:56.660810Z",
     "iopub.status.idle": "2021-08-18T08:49:56.662834Z",
     "shell.execute_reply": "2021-08-18T08:49:56.663296Z",
     "shell.execute_reply.started": "2021-08-18T08:35:54.886204Z"
    },
    "papermill": {
     "duration": 0.047848,
     "end_time": "2021-08-18T08:49:56.663562",
     "exception": false,
     "start_time": "2021-08-18T08:49:56.615714",
     "status": "completed"
    },
    "tags": []
   },
   "outputs": [],
   "source": [
    "def rmsle(y, y_):\n",
    "    log1 = np.nan_to_num(np.log(y + 1))\n",
    "    log2 = np.nan_to_num(np.log(y_ + 1))\n",
    "    calc = (log1 - log2) ** 2\n",
    "    return np.sqrt(np.mean(calc))\n",
    "\n",
    "\n",
    "# y: 실제값 / y_: 예측치\n",
    "# 0보다 작을 때는 nan_to_num을 이용해 0보다는 조금 큰 값으로 만들기"
   ]
  },
  {
   "cell_type": "code",
   "execution_count": 10,
   "id": "77a7a423",
   "metadata": {
    "execution": {
     "iopub.execute_input": "2021-08-18T08:49:56.748477Z",
     "iopub.status.busy": "2021-08-18T08:49:56.747878Z",
     "iopub.status.idle": "2021-08-18T08:49:56.772354Z",
     "shell.execute_reply": "2021-08-18T08:49:56.772858Z",
     "shell.execute_reply.started": "2021-08-18T08:35:54.896424Z"
    },
    "papermill": {
     "duration": 0.068503,
     "end_time": "2021-08-18T08:49:56.773025",
     "exception": false,
     "start_time": "2021-08-18T08:49:56.704522",
     "status": "completed"
    },
    "tags": []
   },
   "outputs": [
    {
     "data": {
      "text/html": [
       "<div>\n",
       "<style scoped>\n",
       "    .dataframe tbody tr th:only-of-type {\n",
       "        vertical-align: middle;\n",
       "    }\n",
       "\n",
       "    .dataframe tbody tr th {\n",
       "        vertical-align: top;\n",
       "    }\n",
       "\n",
       "    .dataframe thead th {\n",
       "        text-align: right;\n",
       "    }\n",
       "</style>\n",
       "<table border=\"1\" class=\"dataframe\">\n",
       "  <thead>\n",
       "    <tr style=\"text-align: right;\">\n",
       "      <th></th>\n",
       "      <th>datetime</th>\n",
       "      <th>count</th>\n",
       "    </tr>\n",
       "  </thead>\n",
       "  <tbody>\n",
       "    <tr>\n",
       "      <th>0</th>\n",
       "      <td>2011-01-20 00:00:00</td>\n",
       "      <td>0</td>\n",
       "    </tr>\n",
       "    <tr>\n",
       "      <th>1</th>\n",
       "      <td>2011-01-20 01:00:00</td>\n",
       "      <td>0</td>\n",
       "    </tr>\n",
       "    <tr>\n",
       "      <th>2</th>\n",
       "      <td>2011-01-20 02:00:00</td>\n",
       "      <td>0</td>\n",
       "    </tr>\n",
       "    <tr>\n",
       "      <th>3</th>\n",
       "      <td>2011-01-20 03:00:00</td>\n",
       "      <td>0</td>\n",
       "    </tr>\n",
       "    <tr>\n",
       "      <th>4</th>\n",
       "      <td>2011-01-20 04:00:00</td>\n",
       "      <td>0</td>\n",
       "    </tr>\n",
       "  </tbody>\n",
       "</table>\n",
       "</div>"
      ],
      "text/plain": [
       "              datetime  count\n",
       "0  2011-01-20 00:00:00      0\n",
       "1  2011-01-20 01:00:00      0\n",
       "2  2011-01-20 02:00:00      0\n",
       "3  2011-01-20 03:00:00      0\n",
       "4  2011-01-20 04:00:00      0"
      ]
     },
     "execution_count": 10,
     "metadata": {},
     "output_type": "execute_result"
    }
   ],
   "source": [
    "# 제출 형식 보기\n",
    "submission_df = pd.read_csv(\"../input/bike-sharing-demand/sampleSubmission.csv\")\n",
    "submission_df.head()"
   ]
  },
  {
   "cell_type": "code",
   "execution_count": 11,
   "id": "b24a8bf3",
   "metadata": {
    "execution": {
     "iopub.execute_input": "2021-08-18T08:49:56.865828Z",
     "iopub.status.busy": "2021-08-18T08:49:56.865145Z",
     "iopub.status.idle": "2021-08-18T08:49:56.874724Z",
     "shell.execute_reply": "2021-08-18T08:49:56.875400Z",
     "shell.execute_reply.started": "2021-08-18T08:35:54.920678Z"
    },
    "papermill": {
     "duration": 0.060985,
     "end_time": "2021-08-18T08:49:56.875661",
     "exception": false,
     "start_time": "2021-08-18T08:49:56.814676",
     "status": "completed"
    },
    "tags": []
   },
   "outputs": [
    {
     "data": {
      "text/plain": [
       "3.759491186539689"
      ]
     },
     "execution_count": 11,
     "metadata": {},
     "output_type": "execute_result"
    }
   ],
   "source": [
    "# 구해지는구나~\n",
    "rmsle(submission_df[\"count\"].values,\n",
    "     np.random.randint(0, 100, size=len(submission_df)))"
   ]
  },
  {
   "cell_type": "code",
   "execution_count": 12,
   "id": "e570d21c",
   "metadata": {
    "execution": {
     "iopub.execute_input": "2021-08-18T08:49:56.972509Z",
     "iopub.status.busy": "2021-08-18T08:49:56.971665Z",
     "iopub.status.idle": "2021-08-18T08:49:56.975380Z",
     "shell.execute_reply": "2021-08-18T08:49:56.974923Z",
     "shell.execute_reply.started": "2021-08-18T08:35:54.927937Z"
    },
    "papermill": {
     "duration": 0.049637,
     "end_time": "2021-08-18T08:49:56.975539",
     "exception": false,
     "start_time": "2021-08-18T08:49:56.925902",
     "status": "completed"
    },
    "tags": []
   },
   "outputs": [],
   "source": [
    "# 쓸모 없는 값 날려주기\n",
    "del all_df[\"casual\"]\n",
    "del all_df[\"registered\"]\n",
    "del all_df[\"index\"]"
   ]
  },
  {
   "cell_type": "code",
   "execution_count": 13,
   "id": "a1cddee0",
   "metadata": {
    "execution": {
     "iopub.execute_input": "2021-08-18T08:49:57.063901Z",
     "iopub.status.busy": "2021-08-18T08:49:57.063239Z",
     "iopub.status.idle": "2021-08-18T08:49:57.075770Z",
     "shell.execute_reply": "2021-08-18T08:49:57.075286Z",
     "shell.execute_reply.started": "2021-08-18T08:35:54.938242Z"
    },
    "papermill": {
     "duration": 0.059589,
     "end_time": "2021-08-18T08:49:57.075909",
     "exception": false,
     "start_time": "2021-08-18T08:49:57.016320",
     "status": "completed"
    },
    "tags": []
   },
   "outputs": [
    {
     "data": {
      "text/html": [
       "<div>\n",
       "<style scoped>\n",
       "    .dataframe tbody tr th:only-of-type {\n",
       "        vertical-align: middle;\n",
       "    }\n",
       "\n",
       "    .dataframe tbody tr th {\n",
       "        vertical-align: top;\n",
       "    }\n",
       "\n",
       "    .dataframe thead th {\n",
       "        text-align: right;\n",
       "    }\n",
       "</style>\n",
       "<table border=\"1\" class=\"dataframe\">\n",
       "  <thead>\n",
       "    <tr style=\"text-align: right;\">\n",
       "      <th></th>\n",
       "      <th>1</th>\n",
       "      <th>2</th>\n",
       "      <th>3</th>\n",
       "      <th>4</th>\n",
       "    </tr>\n",
       "  </thead>\n",
       "  <tbody>\n",
       "    <tr>\n",
       "      <th>0</th>\n",
       "      <td>1</td>\n",
       "      <td>0</td>\n",
       "      <td>0</td>\n",
       "      <td>0</td>\n",
       "    </tr>\n",
       "    <tr>\n",
       "      <th>1</th>\n",
       "      <td>1</td>\n",
       "      <td>0</td>\n",
       "      <td>0</td>\n",
       "      <td>0</td>\n",
       "    </tr>\n",
       "    <tr>\n",
       "      <th>2</th>\n",
       "      <td>1</td>\n",
       "      <td>0</td>\n",
       "      <td>0</td>\n",
       "      <td>0</td>\n",
       "    </tr>\n",
       "    <tr>\n",
       "      <th>3</th>\n",
       "      <td>1</td>\n",
       "      <td>0</td>\n",
       "      <td>0</td>\n",
       "      <td>0</td>\n",
       "    </tr>\n",
       "    <tr>\n",
       "      <th>4</th>\n",
       "      <td>1</td>\n",
       "      <td>0</td>\n",
       "      <td>0</td>\n",
       "      <td>0</td>\n",
       "    </tr>\n",
       "    <tr>\n",
       "      <th>...</th>\n",
       "      <td>...</td>\n",
       "      <td>...</td>\n",
       "      <td>...</td>\n",
       "      <td>...</td>\n",
       "    </tr>\n",
       "    <tr>\n",
       "      <th>17374</th>\n",
       "      <td>1</td>\n",
       "      <td>0</td>\n",
       "      <td>0</td>\n",
       "      <td>0</td>\n",
       "    </tr>\n",
       "    <tr>\n",
       "      <th>17375</th>\n",
       "      <td>1</td>\n",
       "      <td>0</td>\n",
       "      <td>0</td>\n",
       "      <td>0</td>\n",
       "    </tr>\n",
       "    <tr>\n",
       "      <th>17376</th>\n",
       "      <td>1</td>\n",
       "      <td>0</td>\n",
       "      <td>0</td>\n",
       "      <td>0</td>\n",
       "    </tr>\n",
       "    <tr>\n",
       "      <th>17377</th>\n",
       "      <td>1</td>\n",
       "      <td>0</td>\n",
       "      <td>0</td>\n",
       "      <td>0</td>\n",
       "    </tr>\n",
       "    <tr>\n",
       "      <th>17378</th>\n",
       "      <td>1</td>\n",
       "      <td>0</td>\n",
       "      <td>0</td>\n",
       "      <td>0</td>\n",
       "    </tr>\n",
       "  </tbody>\n",
       "</table>\n",
       "<p>17379 rows × 4 columns</p>\n",
       "</div>"
      ],
      "text/plain": [
       "       1  2  3  4\n",
       "0      1  0  0  0\n",
       "1      1  0  0  0\n",
       "2      1  0  0  0\n",
       "3      1  0  0  0\n",
       "4      1  0  0  0\n",
       "...   .. .. .. ..\n",
       "17374  1  0  0  0\n",
       "17375  1  0  0  0\n",
       "17376  1  0  0  0\n",
       "17377  1  0  0  0\n",
       "17378  1  0  0  0\n",
       "\n",
       "[17379 rows x 4 columns]"
      ]
     },
     "execution_count": 13,
     "metadata": {},
     "output_type": "execute_result"
    }
   ],
   "source": [
    "# **\n",
    "pd.get_dummies(\n",
    "    all_df[\"season\"])\n",
    "\n",
    "# 이렇게 나오면 뭔지 모르므로 prefix를 정해주는 것!"
   ]
  },
  {
   "cell_type": "code",
   "execution_count": 14,
   "id": "06e8715f",
   "metadata": {
    "execution": {
     "iopub.execute_input": "2021-08-18T08:49:57.164672Z",
     "iopub.status.busy": "2021-08-18T08:49:57.164033Z",
     "iopub.status.idle": "2021-08-18T08:49:57.175351Z",
     "shell.execute_reply": "2021-08-18T08:49:57.174889Z",
     "shell.execute_reply.started": "2021-08-18T08:35:54.958741Z"
    },
    "papermill": {
     "duration": 0.057211,
     "end_time": "2021-08-18T08:49:57.175509",
     "exception": false,
     "start_time": "2021-08-18T08:49:57.118298",
     "status": "completed"
    },
    "tags": []
   },
   "outputs": [
    {
     "data": {
      "text/html": [
       "<div>\n",
       "<style scoped>\n",
       "    .dataframe tbody tr th:only-of-type {\n",
       "        vertical-align: middle;\n",
       "    }\n",
       "\n",
       "    .dataframe tbody tr th {\n",
       "        vertical-align: top;\n",
       "    }\n",
       "\n",
       "    .dataframe thead th {\n",
       "        text-align: right;\n",
       "    }\n",
       "</style>\n",
       "<table border=\"1\" class=\"dataframe\">\n",
       "  <thead>\n",
       "    <tr style=\"text-align: right;\">\n",
       "      <th></th>\n",
       "      <th>season_1</th>\n",
       "      <th>season_2</th>\n",
       "      <th>season_3</th>\n",
       "      <th>season_4</th>\n",
       "    </tr>\n",
       "  </thead>\n",
       "  <tbody>\n",
       "    <tr>\n",
       "      <th>0</th>\n",
       "      <td>1</td>\n",
       "      <td>0</td>\n",
       "      <td>0</td>\n",
       "      <td>0</td>\n",
       "    </tr>\n",
       "    <tr>\n",
       "      <th>1</th>\n",
       "      <td>1</td>\n",
       "      <td>0</td>\n",
       "      <td>0</td>\n",
       "      <td>0</td>\n",
       "    </tr>\n",
       "    <tr>\n",
       "      <th>2</th>\n",
       "      <td>1</td>\n",
       "      <td>0</td>\n",
       "      <td>0</td>\n",
       "      <td>0</td>\n",
       "    </tr>\n",
       "    <tr>\n",
       "      <th>3</th>\n",
       "      <td>1</td>\n",
       "      <td>0</td>\n",
       "      <td>0</td>\n",
       "      <td>0</td>\n",
       "    </tr>\n",
       "    <tr>\n",
       "      <th>4</th>\n",
       "      <td>1</td>\n",
       "      <td>0</td>\n",
       "      <td>0</td>\n",
       "      <td>0</td>\n",
       "    </tr>\n",
       "    <tr>\n",
       "      <th>...</th>\n",
       "      <td>...</td>\n",
       "      <td>...</td>\n",
       "      <td>...</td>\n",
       "      <td>...</td>\n",
       "    </tr>\n",
       "    <tr>\n",
       "      <th>17374</th>\n",
       "      <td>1</td>\n",
       "      <td>0</td>\n",
       "      <td>0</td>\n",
       "      <td>0</td>\n",
       "    </tr>\n",
       "    <tr>\n",
       "      <th>17375</th>\n",
       "      <td>1</td>\n",
       "      <td>0</td>\n",
       "      <td>0</td>\n",
       "      <td>0</td>\n",
       "    </tr>\n",
       "    <tr>\n",
       "      <th>17376</th>\n",
       "      <td>1</td>\n",
       "      <td>0</td>\n",
       "      <td>0</td>\n",
       "      <td>0</td>\n",
       "    </tr>\n",
       "    <tr>\n",
       "      <th>17377</th>\n",
       "      <td>1</td>\n",
       "      <td>0</td>\n",
       "      <td>0</td>\n",
       "      <td>0</td>\n",
       "    </tr>\n",
       "    <tr>\n",
       "      <th>17378</th>\n",
       "      <td>1</td>\n",
       "      <td>0</td>\n",
       "      <td>0</td>\n",
       "      <td>0</td>\n",
       "    </tr>\n",
       "  </tbody>\n",
       "</table>\n",
       "<p>17379 rows × 4 columns</p>\n",
       "</div>"
      ],
      "text/plain": [
       "       season_1  season_2  season_3  season_4\n",
       "0             1         0         0         0\n",
       "1             1         0         0         0\n",
       "2             1         0         0         0\n",
       "3             1         0         0         0\n",
       "4             1         0         0         0\n",
       "...         ...       ...       ...       ...\n",
       "17374         1         0         0         0\n",
       "17375         1         0         0         0\n",
       "17376         1         0         0         0\n",
       "17377         1         0         0         0\n",
       "17378         1         0         0         0\n",
       "\n",
       "[17379 rows x 4 columns]"
      ]
     },
     "execution_count": 14,
     "metadata": {},
     "output_type": "execute_result"
    }
   ],
   "source": [
    "# **\n",
    "pd.get_dummies(all_df[\"season\"], prefix=\"season\")"
   ]
  },
  {
   "cell_type": "code",
   "execution_count": 15,
   "id": "59693e20",
   "metadata": {
    "execution": {
     "iopub.execute_input": "2021-08-18T08:49:57.264696Z",
     "iopub.status.busy": "2021-08-18T08:49:57.264055Z",
     "iopub.status.idle": "2021-08-18T08:49:57.283657Z",
     "shell.execute_reply": "2021-08-18T08:49:57.283161Z",
     "shell.execute_reply.started": "2021-08-18T08:35:54.974560Z"
    },
    "papermill": {
     "duration": 0.065995,
     "end_time": "2021-08-18T08:49:57.283788",
     "exception": false,
     "start_time": "2021-08-18T08:49:57.217793",
     "status": "completed"
    },
    "tags": []
   },
   "outputs": [
    {
     "data": {
      "text/html": [
       "<div>\n",
       "<style scoped>\n",
       "    .dataframe tbody tr th:only-of-type {\n",
       "        vertical-align: middle;\n",
       "    }\n",
       "\n",
       "    .dataframe tbody tr th {\n",
       "        vertical-align: top;\n",
       "    }\n",
       "\n",
       "    .dataframe thead th {\n",
       "        text-align: right;\n",
       "    }\n",
       "</style>\n",
       "<table border=\"1\" class=\"dataframe\">\n",
       "  <thead>\n",
       "    <tr style=\"text-align: right;\">\n",
       "      <th></th>\n",
       "      <th>datetime</th>\n",
       "      <th>season</th>\n",
       "      <th>holiday</th>\n",
       "      <th>workingday</th>\n",
       "      <th>weather</th>\n",
       "      <th>temp</th>\n",
       "      <th>atemp</th>\n",
       "      <th>humidity</th>\n",
       "      <th>windspeed</th>\n",
       "      <th>count</th>\n",
       "      <th>season_1</th>\n",
       "      <th>season_2</th>\n",
       "      <th>season_3</th>\n",
       "      <th>season_4</th>\n",
       "    </tr>\n",
       "  </thead>\n",
       "  <tbody>\n",
       "    <tr>\n",
       "      <th>0</th>\n",
       "      <td>2011-01-01 00:00:00</td>\n",
       "      <td>1</td>\n",
       "      <td>0</td>\n",
       "      <td>0</td>\n",
       "      <td>1</td>\n",
       "      <td>9.84</td>\n",
       "      <td>14.395</td>\n",
       "      <td>81</td>\n",
       "      <td>0.0</td>\n",
       "      <td>16.0</td>\n",
       "      <td>1</td>\n",
       "      <td>0</td>\n",
       "      <td>0</td>\n",
       "      <td>0</td>\n",
       "    </tr>\n",
       "    <tr>\n",
       "      <th>1</th>\n",
       "      <td>2011-01-01 01:00:00</td>\n",
       "      <td>1</td>\n",
       "      <td>0</td>\n",
       "      <td>0</td>\n",
       "      <td>1</td>\n",
       "      <td>9.02</td>\n",
       "      <td>13.635</td>\n",
       "      <td>80</td>\n",
       "      <td>0.0</td>\n",
       "      <td>40.0</td>\n",
       "      <td>1</td>\n",
       "      <td>0</td>\n",
       "      <td>0</td>\n",
       "      <td>0</td>\n",
       "    </tr>\n",
       "    <tr>\n",
       "      <th>2</th>\n",
       "      <td>2011-01-01 02:00:00</td>\n",
       "      <td>1</td>\n",
       "      <td>0</td>\n",
       "      <td>0</td>\n",
       "      <td>1</td>\n",
       "      <td>9.02</td>\n",
       "      <td>13.635</td>\n",
       "      <td>80</td>\n",
       "      <td>0.0</td>\n",
       "      <td>32.0</td>\n",
       "      <td>1</td>\n",
       "      <td>0</td>\n",
       "      <td>0</td>\n",
       "      <td>0</td>\n",
       "    </tr>\n",
       "    <tr>\n",
       "      <th>3</th>\n",
       "      <td>2011-01-01 03:00:00</td>\n",
       "      <td>1</td>\n",
       "      <td>0</td>\n",
       "      <td>0</td>\n",
       "      <td>1</td>\n",
       "      <td>9.84</td>\n",
       "      <td>14.395</td>\n",
       "      <td>75</td>\n",
       "      <td>0.0</td>\n",
       "      <td>13.0</td>\n",
       "      <td>1</td>\n",
       "      <td>0</td>\n",
       "      <td>0</td>\n",
       "      <td>0</td>\n",
       "    </tr>\n",
       "    <tr>\n",
       "      <th>4</th>\n",
       "      <td>2011-01-01 04:00:00</td>\n",
       "      <td>1</td>\n",
       "      <td>0</td>\n",
       "      <td>0</td>\n",
       "      <td>1</td>\n",
       "      <td>9.84</td>\n",
       "      <td>14.395</td>\n",
       "      <td>75</td>\n",
       "      <td>0.0</td>\n",
       "      <td>1.0</td>\n",
       "      <td>1</td>\n",
       "      <td>0</td>\n",
       "      <td>0</td>\n",
       "      <td>0</td>\n",
       "    </tr>\n",
       "  </tbody>\n",
       "</table>\n",
       "</div>"
      ],
      "text/plain": [
       "             datetime  season  holiday  workingday  weather  temp   atemp  \\\n",
       "0 2011-01-01 00:00:00       1        0           0        1  9.84  14.395   \n",
       "1 2011-01-01 01:00:00       1        0           0        1  9.02  13.635   \n",
       "2 2011-01-01 02:00:00       1        0           0        1  9.02  13.635   \n",
       "3 2011-01-01 03:00:00       1        0           0        1  9.84  14.395   \n",
       "4 2011-01-01 04:00:00       1        0           0        1  9.84  14.395   \n",
       "\n",
       "   humidity  windspeed  count  season_1  season_2  season_3  season_4  \n",
       "0        81        0.0   16.0         1         0         0         0  \n",
       "1        80        0.0   40.0         1         0         0         0  \n",
       "2        80        0.0   32.0         1         0         0         0  \n",
       "3        75        0.0   13.0         1         0         0         0  \n",
       "4        75        0.0    1.0         1         0         0         0  "
      ]
     },
     "execution_count": 15,
     "metadata": {},
     "output_type": "execute_result"
    }
   ],
   "source": [
    "pre_df = all_df.merge(pd.get_dummies(\n",
    "    all_df[\"season\"], prefix=\"season\"), \n",
    "                      left_index=True, right_index=True)\n",
    "pre_df.head()\n",
    "\n",
    "# 'season'이라는 데이터를 one-hot-encoding하기 위해 get_dummies 이용\n",
    "# merge를 시켜줌 (제일 처음 값(season)은 그대로 두고)"
   ]
  },
  {
   "cell_type": "code",
   "execution_count": 16,
   "id": "e5ef96bb",
   "metadata": {
    "execution": {
     "iopub.execute_input": "2021-08-18T08:49:57.373249Z",
     "iopub.status.busy": "2021-08-18T08:49:57.372636Z",
     "iopub.status.idle": "2021-08-18T08:49:57.391365Z",
     "shell.execute_reply": "2021-08-18T08:49:57.391903Z",
     "shell.execute_reply.started": "2021-08-18T08:35:54.998135Z"
    },
    "papermill": {
     "duration": 0.066319,
     "end_time": "2021-08-18T08:49:57.392073",
     "exception": false,
     "start_time": "2021-08-18T08:49:57.325754",
     "status": "completed"
    },
    "tags": []
   },
   "outputs": [
    {
     "data": {
      "text/html": [
       "<div>\n",
       "<style scoped>\n",
       "    .dataframe tbody tr th:only-of-type {\n",
       "        vertical-align: middle;\n",
       "    }\n",
       "\n",
       "    .dataframe tbody tr th {\n",
       "        vertical-align: top;\n",
       "    }\n",
       "\n",
       "    .dataframe thead th {\n",
       "        text-align: right;\n",
       "    }\n",
       "</style>\n",
       "<table border=\"1\" class=\"dataframe\">\n",
       "  <thead>\n",
       "    <tr style=\"text-align: right;\">\n",
       "      <th></th>\n",
       "      <th>datetime</th>\n",
       "      <th>season</th>\n",
       "      <th>holiday</th>\n",
       "      <th>workingday</th>\n",
       "      <th>weather</th>\n",
       "      <th>temp</th>\n",
       "      <th>atemp</th>\n",
       "      <th>humidity</th>\n",
       "      <th>windspeed</th>\n",
       "      <th>count</th>\n",
       "      <th>season_1</th>\n",
       "      <th>season_2</th>\n",
       "      <th>season_3</th>\n",
       "      <th>season_4</th>\n",
       "      <th>weather_1</th>\n",
       "      <th>weather_2</th>\n",
       "      <th>weather_3</th>\n",
       "      <th>weather_4</th>\n",
       "    </tr>\n",
       "  </thead>\n",
       "  <tbody>\n",
       "    <tr>\n",
       "      <th>0</th>\n",
       "      <td>2011-01-01 00:00:00</td>\n",
       "      <td>1</td>\n",
       "      <td>0</td>\n",
       "      <td>0</td>\n",
       "      <td>1</td>\n",
       "      <td>9.84</td>\n",
       "      <td>14.395</td>\n",
       "      <td>81</td>\n",
       "      <td>0.0</td>\n",
       "      <td>16.0</td>\n",
       "      <td>1</td>\n",
       "      <td>0</td>\n",
       "      <td>0</td>\n",
       "      <td>0</td>\n",
       "      <td>1</td>\n",
       "      <td>0</td>\n",
       "      <td>0</td>\n",
       "      <td>0</td>\n",
       "    </tr>\n",
       "    <tr>\n",
       "      <th>1</th>\n",
       "      <td>2011-01-01 01:00:00</td>\n",
       "      <td>1</td>\n",
       "      <td>0</td>\n",
       "      <td>0</td>\n",
       "      <td>1</td>\n",
       "      <td>9.02</td>\n",
       "      <td>13.635</td>\n",
       "      <td>80</td>\n",
       "      <td>0.0</td>\n",
       "      <td>40.0</td>\n",
       "      <td>1</td>\n",
       "      <td>0</td>\n",
       "      <td>0</td>\n",
       "      <td>0</td>\n",
       "      <td>1</td>\n",
       "      <td>0</td>\n",
       "      <td>0</td>\n",
       "      <td>0</td>\n",
       "    </tr>\n",
       "    <tr>\n",
       "      <th>2</th>\n",
       "      <td>2011-01-01 02:00:00</td>\n",
       "      <td>1</td>\n",
       "      <td>0</td>\n",
       "      <td>0</td>\n",
       "      <td>1</td>\n",
       "      <td>9.02</td>\n",
       "      <td>13.635</td>\n",
       "      <td>80</td>\n",
       "      <td>0.0</td>\n",
       "      <td>32.0</td>\n",
       "      <td>1</td>\n",
       "      <td>0</td>\n",
       "      <td>0</td>\n",
       "      <td>0</td>\n",
       "      <td>1</td>\n",
       "      <td>0</td>\n",
       "      <td>0</td>\n",
       "      <td>0</td>\n",
       "    </tr>\n",
       "    <tr>\n",
       "      <th>3</th>\n",
       "      <td>2011-01-01 03:00:00</td>\n",
       "      <td>1</td>\n",
       "      <td>0</td>\n",
       "      <td>0</td>\n",
       "      <td>1</td>\n",
       "      <td>9.84</td>\n",
       "      <td>14.395</td>\n",
       "      <td>75</td>\n",
       "      <td>0.0</td>\n",
       "      <td>13.0</td>\n",
       "      <td>1</td>\n",
       "      <td>0</td>\n",
       "      <td>0</td>\n",
       "      <td>0</td>\n",
       "      <td>1</td>\n",
       "      <td>0</td>\n",
       "      <td>0</td>\n",
       "      <td>0</td>\n",
       "    </tr>\n",
       "    <tr>\n",
       "      <th>4</th>\n",
       "      <td>2011-01-01 04:00:00</td>\n",
       "      <td>1</td>\n",
       "      <td>0</td>\n",
       "      <td>0</td>\n",
       "      <td>1</td>\n",
       "      <td>9.84</td>\n",
       "      <td>14.395</td>\n",
       "      <td>75</td>\n",
       "      <td>0.0</td>\n",
       "      <td>1.0</td>\n",
       "      <td>1</td>\n",
       "      <td>0</td>\n",
       "      <td>0</td>\n",
       "      <td>0</td>\n",
       "      <td>1</td>\n",
       "      <td>0</td>\n",
       "      <td>0</td>\n",
       "      <td>0</td>\n",
       "    </tr>\n",
       "  </tbody>\n",
       "</table>\n",
       "</div>"
      ],
      "text/plain": [
       "             datetime  season  holiday  workingday  weather  temp   atemp  \\\n",
       "0 2011-01-01 00:00:00       1        0           0        1  9.84  14.395   \n",
       "1 2011-01-01 01:00:00       1        0           0        1  9.02  13.635   \n",
       "2 2011-01-01 02:00:00       1        0           0        1  9.02  13.635   \n",
       "3 2011-01-01 03:00:00       1        0           0        1  9.84  14.395   \n",
       "4 2011-01-01 04:00:00       1        0           0        1  9.84  14.395   \n",
       "\n",
       "   humidity  windspeed  count  season_1  season_2  season_3  season_4  \\\n",
       "0        81        0.0   16.0         1         0         0         0   \n",
       "1        80        0.0   40.0         1         0         0         0   \n",
       "2        80        0.0   32.0         1         0         0         0   \n",
       "3        75        0.0   13.0         1         0         0         0   \n",
       "4        75        0.0    1.0         1         0         0         0   \n",
       "\n",
       "   weather_1  weather_2  weather_3  weather_4  \n",
       "0          1          0          0          0  \n",
       "1          1          0          0          0  \n",
       "2          1          0          0          0  \n",
       "3          1          0          0          0  \n",
       "4          1          0          0          0  "
      ]
     },
     "execution_count": 16,
     "metadata": {},
     "output_type": "execute_result"
    }
   ],
   "source": [
    "# weather도 마찬가지로\n",
    "pre_df = pre_df.merge(pd.get_dummies(\n",
    "    all_df[\"weather\"], prefix=\"weather\"),\n",
    "                     left_index=True, right_index=True)\n",
    "\n",
    "pre_df.head()"
   ]
  },
  {
   "cell_type": "code",
   "execution_count": 17,
   "id": "24293312",
   "metadata": {
    "execution": {
     "iopub.execute_input": "2021-08-18T08:49:57.480403Z",
     "iopub.status.busy": "2021-08-18T08:49:57.479825Z",
     "iopub.status.idle": "2021-08-18T08:49:57.488165Z",
     "shell.execute_reply": "2021-08-18T08:49:57.488618Z",
     "shell.execute_reply.started": "2021-08-18T08:35:55.025759Z"
    },
    "papermill": {
     "duration": 0.054126,
     "end_time": "2021-08-18T08:49:57.488790",
     "exception": false,
     "start_time": "2021-08-18T08:49:57.434664",
     "status": "completed"
    },
    "tags": []
   },
   "outputs": [
    {
     "name": "stdout",
     "output_type": "stream",
     "text": [
      "17379\n",
      "['2011-01-01T00:00:00.000000000' '2011-01-01T01:00:00.000000000'\n",
      " '2011-01-01T02:00:00.000000000' ... '2012-12-31T21:00:00.000000000'\n",
      " '2012-12-31T22:00:00.000000000' '2012-12-31T23:00:00.000000000']\n"
     ]
    }
   ],
   "source": [
    "print(len(pre_df[\"datetime\"].unique()))\n",
    "print(pre_df[\"datetime\"].unique())\n",
    "\n",
    "# index와 거의 똑같은 역할 (안 씀)\n",
    "# 제출을 할 때 index의 값으로 제출이 됨"
   ]
  },
  {
   "cell_type": "code",
   "execution_count": 18,
   "id": "455957ee",
   "metadata": {
    "execution": {
     "iopub.execute_input": "2021-08-18T08:49:57.580085Z",
     "iopub.status.busy": "2021-08-18T08:49:57.579423Z",
     "iopub.status.idle": "2021-08-18T08:49:57.594929Z",
     "shell.execute_reply": "2021-08-18T08:49:57.594325Z",
     "shell.execute_reply.started": "2021-08-18T08:35:55.036080Z"
    },
    "papermill": {
     "duration": 0.063398,
     "end_time": "2021-08-18T08:49:57.595062",
     "exception": false,
     "start_time": "2021-08-18T08:49:57.531664",
     "status": "completed"
    },
    "tags": []
   },
   "outputs": [],
   "source": [
    "pre_df[\"year\"] = pre_df[\"datetime\"].dt.year\n",
    "pre_df[\"month\"] = pre_df[\"datetime\"].dt.month\n",
    "pre_df[\"day\"] = pre_df[\"datetime\"].dt.day\n",
    "pre_df[\"hour\"] = pre_df[\"datetime\"].dt.hour\n",
    "pre_df[\"weekday\"] = pre_df[\"datetime\"].dt.weekday\n",
    "\n",
    "# Y-M-D-H-W 이렇게 뽑아줄 수 있음\n",
    "# feature들을 새로 생성해줌"
   ]
  },
  {
   "cell_type": "code",
   "execution_count": 19,
   "id": "5eccf008",
   "metadata": {
    "execution": {
     "iopub.execute_input": "2021-08-18T08:49:57.686720Z",
     "iopub.status.busy": "2021-08-18T08:49:57.686043Z",
     "iopub.status.idle": "2021-08-18T08:49:57.712666Z",
     "shell.execute_reply": "2021-08-18T08:49:57.712125Z",
     "shell.execute_reply.started": "2021-08-18T08:35:55.057786Z"
    },
    "papermill": {
     "duration": 0.074651,
     "end_time": "2021-08-18T08:49:57.712809",
     "exception": false,
     "start_time": "2021-08-18T08:49:57.638158",
     "status": "completed"
    },
    "tags": []
   },
   "outputs": [
    {
     "data": {
      "text/html": [
       "<div>\n",
       "<style scoped>\n",
       "    .dataframe tbody tr th:only-of-type {\n",
       "        vertical-align: middle;\n",
       "    }\n",
       "\n",
       "    .dataframe tbody tr th {\n",
       "        vertical-align: top;\n",
       "    }\n",
       "\n",
       "    .dataframe thead th {\n",
       "        text-align: right;\n",
       "    }\n",
       "</style>\n",
       "<table border=\"1\" class=\"dataframe\">\n",
       "  <thead>\n",
       "    <tr style=\"text-align: right;\">\n",
       "      <th></th>\n",
       "      <th>datetime</th>\n",
       "      <th>season</th>\n",
       "      <th>holiday</th>\n",
       "      <th>workingday</th>\n",
       "      <th>weather</th>\n",
       "      <th>temp</th>\n",
       "      <th>atemp</th>\n",
       "      <th>humidity</th>\n",
       "      <th>windspeed</th>\n",
       "      <th>count</th>\n",
       "      <th>...</th>\n",
       "      <th>day</th>\n",
       "      <th>hour</th>\n",
       "      <th>weekday</th>\n",
       "      <th>weekday_0</th>\n",
       "      <th>weekday_1</th>\n",
       "      <th>weekday_2</th>\n",
       "      <th>weekday_3</th>\n",
       "      <th>weekday_4</th>\n",
       "      <th>weekday_5</th>\n",
       "      <th>weekday_6</th>\n",
       "    </tr>\n",
       "  </thead>\n",
       "  <tbody>\n",
       "    <tr>\n",
       "      <th>0</th>\n",
       "      <td>2011-01-01 00:00:00</td>\n",
       "      <td>1</td>\n",
       "      <td>0</td>\n",
       "      <td>0</td>\n",
       "      <td>1</td>\n",
       "      <td>9.84</td>\n",
       "      <td>14.395</td>\n",
       "      <td>81</td>\n",
       "      <td>0.0</td>\n",
       "      <td>16.0</td>\n",
       "      <td>...</td>\n",
       "      <td>1</td>\n",
       "      <td>0</td>\n",
       "      <td>5</td>\n",
       "      <td>0</td>\n",
       "      <td>0</td>\n",
       "      <td>0</td>\n",
       "      <td>0</td>\n",
       "      <td>0</td>\n",
       "      <td>1</td>\n",
       "      <td>0</td>\n",
       "    </tr>\n",
       "    <tr>\n",
       "      <th>1</th>\n",
       "      <td>2011-01-01 01:00:00</td>\n",
       "      <td>1</td>\n",
       "      <td>0</td>\n",
       "      <td>0</td>\n",
       "      <td>1</td>\n",
       "      <td>9.02</td>\n",
       "      <td>13.635</td>\n",
       "      <td>80</td>\n",
       "      <td>0.0</td>\n",
       "      <td>40.0</td>\n",
       "      <td>...</td>\n",
       "      <td>1</td>\n",
       "      <td>1</td>\n",
       "      <td>5</td>\n",
       "      <td>0</td>\n",
       "      <td>0</td>\n",
       "      <td>0</td>\n",
       "      <td>0</td>\n",
       "      <td>0</td>\n",
       "      <td>1</td>\n",
       "      <td>0</td>\n",
       "    </tr>\n",
       "    <tr>\n",
       "      <th>2</th>\n",
       "      <td>2011-01-01 02:00:00</td>\n",
       "      <td>1</td>\n",
       "      <td>0</td>\n",
       "      <td>0</td>\n",
       "      <td>1</td>\n",
       "      <td>9.02</td>\n",
       "      <td>13.635</td>\n",
       "      <td>80</td>\n",
       "      <td>0.0</td>\n",
       "      <td>32.0</td>\n",
       "      <td>...</td>\n",
       "      <td>1</td>\n",
       "      <td>2</td>\n",
       "      <td>5</td>\n",
       "      <td>0</td>\n",
       "      <td>0</td>\n",
       "      <td>0</td>\n",
       "      <td>0</td>\n",
       "      <td>0</td>\n",
       "      <td>1</td>\n",
       "      <td>0</td>\n",
       "    </tr>\n",
       "    <tr>\n",
       "      <th>3</th>\n",
       "      <td>2011-01-01 03:00:00</td>\n",
       "      <td>1</td>\n",
       "      <td>0</td>\n",
       "      <td>0</td>\n",
       "      <td>1</td>\n",
       "      <td>9.84</td>\n",
       "      <td>14.395</td>\n",
       "      <td>75</td>\n",
       "      <td>0.0</td>\n",
       "      <td>13.0</td>\n",
       "      <td>...</td>\n",
       "      <td>1</td>\n",
       "      <td>3</td>\n",
       "      <td>5</td>\n",
       "      <td>0</td>\n",
       "      <td>0</td>\n",
       "      <td>0</td>\n",
       "      <td>0</td>\n",
       "      <td>0</td>\n",
       "      <td>1</td>\n",
       "      <td>0</td>\n",
       "    </tr>\n",
       "    <tr>\n",
       "      <th>4</th>\n",
       "      <td>2011-01-01 04:00:00</td>\n",
       "      <td>1</td>\n",
       "      <td>0</td>\n",
       "      <td>0</td>\n",
       "      <td>1</td>\n",
       "      <td>9.84</td>\n",
       "      <td>14.395</td>\n",
       "      <td>75</td>\n",
       "      <td>0.0</td>\n",
       "      <td>1.0</td>\n",
       "      <td>...</td>\n",
       "      <td>1</td>\n",
       "      <td>4</td>\n",
       "      <td>5</td>\n",
       "      <td>0</td>\n",
       "      <td>0</td>\n",
       "      <td>0</td>\n",
       "      <td>0</td>\n",
       "      <td>0</td>\n",
       "      <td>1</td>\n",
       "      <td>0</td>\n",
       "    </tr>\n",
       "  </tbody>\n",
       "</table>\n",
       "<p>5 rows × 30 columns</p>\n",
       "</div>"
      ],
      "text/plain": [
       "             datetime  season  holiday  workingday  weather  temp   atemp  \\\n",
       "0 2011-01-01 00:00:00       1        0           0        1  9.84  14.395   \n",
       "1 2011-01-01 01:00:00       1        0           0        1  9.02  13.635   \n",
       "2 2011-01-01 02:00:00       1        0           0        1  9.02  13.635   \n",
       "3 2011-01-01 03:00:00       1        0           0        1  9.84  14.395   \n",
       "4 2011-01-01 04:00:00       1        0           0        1  9.84  14.395   \n",
       "\n",
       "   humidity  windspeed  count  ...  day  hour  weekday  weekday_0  weekday_1  \\\n",
       "0        81        0.0   16.0  ...    1     0        5          0          0   \n",
       "1        80        0.0   40.0  ...    1     1        5          0          0   \n",
       "2        80        0.0   32.0  ...    1     2        5          0          0   \n",
       "3        75        0.0   13.0  ...    1     3        5          0          0   \n",
       "4        75        0.0    1.0  ...    1     4        5          0          0   \n",
       "\n",
       "   weekday_2  weekday_3  weekday_4  weekday_5  weekday_6  \n",
       "0          0          0          0          1          0  \n",
       "1          0          0          0          1          0  \n",
       "2          0          0          0          1          0  \n",
       "3          0          0          0          1          0  \n",
       "4          0          0          0          1          0  \n",
       "\n",
       "[5 rows x 30 columns]"
      ]
     },
     "execution_count": 19,
     "metadata": {},
     "output_type": "execute_result"
    }
   ],
   "source": [
    "# 요일은 다시 원핫인코딩으로\n",
    "pre_df = pre_df.merge(pd.get_dummies(\n",
    "    pre_df[\"weekday\"], prefix=\"weekday\"), \n",
    "                     left_index=True, right_index=True)\n",
    "pre_df.head()"
   ]
  },
  {
   "cell_type": "code",
   "execution_count": 20,
   "id": "e6a27583",
   "metadata": {
    "execution": {
     "iopub.execute_input": "2021-08-18T08:49:57.805802Z",
     "iopub.status.busy": "2021-08-18T08:49:57.804821Z",
     "iopub.status.idle": "2021-08-18T08:49:57.810485Z",
     "shell.execute_reply": "2021-08-18T08:49:57.810934Z",
     "shell.execute_reply.started": "2021-08-18T08:35:55.091386Z"
    },
    "papermill": {
     "duration": 0.053751,
     "end_time": "2021-08-18T08:49:57.811097",
     "exception": false,
     "start_time": "2021-08-18T08:49:57.757346",
     "status": "completed"
    },
    "tags": []
   },
   "outputs": [
    {
     "data": {
      "text/plain": [
       "datetime      datetime64[ns]\n",
       "season                 int64\n",
       "holiday                int64\n",
       "workingday             int64\n",
       "weather                int64\n",
       "temp                 float64\n",
       "atemp                float64\n",
       "humidity               int64\n",
       "windspeed            float64\n",
       "count                float64\n",
       "season_1               uint8\n",
       "season_2               uint8\n",
       "season_3               uint8\n",
       "season_4               uint8\n",
       "weather_1              uint8\n",
       "weather_2              uint8\n",
       "weather_3              uint8\n",
       "weather_4              uint8\n",
       "year                   int64\n",
       "month                  int64\n",
       "day                    int64\n",
       "hour                   int64\n",
       "weekday                int64\n",
       "weekday_0              uint8\n",
       "weekday_1              uint8\n",
       "weekday_2              uint8\n",
       "weekday_3              uint8\n",
       "weekday_4              uint8\n",
       "weekday_5              uint8\n",
       "weekday_6              uint8\n",
       "dtype: object"
      ]
     },
     "execution_count": 20,
     "metadata": {},
     "output_type": "execute_result"
    }
   ],
   "source": [
    "# 데이터 타입 확인\n",
    "pre_df.dtypes\n",
    "\n",
    "# real number가 아닌 데도 불구하고 int로 저장된 값들 (season_1, season_2, ...)\n",
    "# -> 바꿔주는 것이 좋다."
   ]
  },
  {
   "cell_type": "code",
   "execution_count": 21,
   "id": "1175fd3e",
   "metadata": {
    "execution": {
     "iopub.execute_input": "2021-08-18T08:49:57.905673Z",
     "iopub.status.busy": "2021-08-18T08:49:57.904927Z",
     "iopub.status.idle": "2021-08-18T08:49:57.928917Z",
     "shell.execute_reply": "2021-08-18T08:49:57.928339Z",
     "shell.execute_reply.started": "2021-08-18T08:35:55.101601Z"
    },
    "papermill": {
     "duration": 0.07424,
     "end_time": "2021-08-18T08:49:57.929054",
     "exception": false,
     "start_time": "2021-08-18T08:49:57.854814",
     "status": "completed"
    },
    "tags": []
   },
   "outputs": [],
   "source": [
    "# 그런 값들은 주로 따로 저장! (카테고리 데이터들로))\n",
    "# 맨 나중에 해줘도 됨\n",
    "\n",
    "category_variable_list = [\"season\",\"weather\",\"workingday\",\n",
    "    \"season_1\",\"season_2\",\"season_3\",\"season_4\",\"weather_1\",\n",
    "    \"weather_2\",\"weather_3\",\"weather_4\",\"year\",\"month\",\"day\",\n",
    "    \"hour\",\"weekday\",\"weekday_0\",\"weekday_1\",\"weekday_2\",\n",
    "    \"weekday_3\",\"weekday_4\",\"weekday_5\",\"weekday_6\"]\n",
    "\n",
    "for var_name in category_variable_list:\n",
    "    pre_df[var_name] = pre_df[var_name].astype(\"category\")"
   ]
  },
  {
   "cell_type": "code",
   "execution_count": 22,
   "id": "29d3240d",
   "metadata": {
    "execution": {
     "iopub.execute_input": "2021-08-18T08:49:58.025721Z",
     "iopub.status.busy": "2021-08-18T08:49:58.024732Z",
     "iopub.status.idle": "2021-08-18T08:49:58.028749Z",
     "shell.execute_reply": "2021-08-18T08:49:58.029169Z",
     "shell.execute_reply.started": "2021-08-18T08:35:55.130935Z"
    },
    "papermill": {
     "duration": 0.055695,
     "end_time": "2021-08-18T08:49:58.029338",
     "exception": false,
     "start_time": "2021-08-18T08:49:57.973643",
     "status": "completed"
    },
    "tags": []
   },
   "outputs": [
    {
     "data": {
      "text/plain": [
       "datetime      datetime64[ns]\n",
       "season              category\n",
       "holiday                int64\n",
       "workingday          category\n",
       "weather             category\n",
       "temp                 float64\n",
       "atemp                float64\n",
       "humidity               int64\n",
       "windspeed            float64\n",
       "count                float64\n",
       "season_1            category\n",
       "season_2            category\n",
       "season_3            category\n",
       "season_4            category\n",
       "weather_1           category\n",
       "weather_2           category\n",
       "weather_3           category\n",
       "weather_4           category\n",
       "year                category\n",
       "month               category\n",
       "day                 category\n",
       "hour                category\n",
       "weekday             category\n",
       "weekday_0           category\n",
       "weekday_1           category\n",
       "weekday_2           category\n",
       "weekday_3           category\n",
       "weekday_4           category\n",
       "weekday_5           category\n",
       "weekday_6           category\n",
       "dtype: object"
      ]
     },
     "execution_count": 22,
     "metadata": {},
     "output_type": "execute_result"
    }
   ],
   "source": [
    "pre_df.dtypes"
   ]
  },
  {
   "cell_type": "markdown",
   "id": "5a631dbe",
   "metadata": {
    "papermill": {
     "duration": 0.067517,
     "end_time": "2021-08-18T08:49:58.150253",
     "exception": false,
     "start_time": "2021-08-18T08:49:58.082736",
     "status": "completed"
    },
    "tags": []
   },
   "source": [
    "- feature들과 count와의 관계를 확인해보자"
   ]
  },
  {
   "cell_type": "code",
   "execution_count": 23,
   "id": "10ce3016",
   "metadata": {
    "execution": {
     "iopub.execute_input": "2021-08-18T08:49:58.258478Z",
     "iopub.status.busy": "2021-08-18T08:49:58.257528Z",
     "iopub.status.idle": "2021-08-18T08:49:58.264932Z",
     "shell.execute_reply": "2021-08-18T08:49:58.265399Z",
     "shell.execute_reply.started": "2021-08-18T08:35:55.141678Z"
    },
    "papermill": {
     "duration": 0.059379,
     "end_time": "2021-08-18T08:49:58.265594",
     "exception": false,
     "start_time": "2021-08-18T08:49:58.206215",
     "status": "completed"
    },
    "tags": []
   },
   "outputs": [],
   "source": [
    "train_df = pre_df.iloc[train_index]\n",
    "\n",
    "# index로 이용\n",
    "# 전처리 해주기 위해 train data 따로 넣어줌"
   ]
  },
  {
   "cell_type": "code",
   "execution_count": 24,
   "id": "4900bd22",
   "metadata": {
    "execution": {
     "iopub.execute_input": "2021-08-18T08:49:58.358371Z",
     "iopub.status.busy": "2021-08-18T08:49:58.357399Z",
     "iopub.status.idle": "2021-08-18T08:52:21.145943Z",
     "shell.execute_reply": "2021-08-18T08:52:21.146811Z",
     "shell.execute_reply.started": "2021-08-18T08:35:55.155968Z"
    },
    "papermill": {
     "duration": 142.837067,
     "end_time": "2021-08-18T08:52:21.147137",
     "exception": false,
     "start_time": "2021-08-18T08:49:58.310070",
     "status": "completed"
    },
    "tags": []
   },
   "outputs": [
    {
     "data": {
      "image/png": "[encoded data removed]",
      "text/plain": [
       "<Figure size 864x360 with 9 Axes>"
      ]
     },
     "metadata": {
      "needs_background": "light"
     },
     "output_type": "display_data"
    }
   ],
   "source": [
    "# y의 값과 다른 변수들이 어떤 상관관계 있는지\n",
    "\n",
    "fig, axes = plt.subplots(nrows=3, ncols=3)\n",
    "fig.set_size_inches(12, 5)\n",
    "\n",
    "axes[0][0].bar(train_df[\"year\"], train_df[\"count\"])\n",
    "axes[0][1].bar(train_df[\"weather\"], train_df[\"count\"])\n",
    "axes[0][2].bar(train_df[\"workingday\"], train_df[\"count\"])\n",
    "axes[1][0].bar(train_df[\"holiday\"], train_df[\"count\"])\n",
    "axes[1][1].bar(train_df[\"weekday\"], train_df[\"count\"])\n",
    "axes[1][2].bar(train_df[\"month\"], train_df[\"count\"])\n",
    "axes[2][0].bar(train_df[\"day\"], train_df[\"count\"])\n",
    "axes[2][0].bar(train_df[\"hour\"], train_df[\"count\"])\n",
    "plt.show()"
   ]
  },
  {
   "cell_type": "code",
   "execution_count": 25,
   "id": "5bef9265",
   "metadata": {
    "execution": {
     "iopub.execute_input": "2021-08-18T08:52:21.254372Z",
     "iopub.status.busy": "2021-08-18T08:52:21.250148Z",
     "iopub.status.idle": "2021-08-18T08:52:21.256718Z",
     "shell.execute_reply": "2021-08-18T08:52:21.257226Z",
     "shell.execute_reply.started": "2021-08-18T08:37:23.304532Z"
    },
    "papermill": {
     "duration": 0.056271,
     "end_time": "2021-08-18T08:52:21.257380",
     "exception": false,
     "start_time": "2021-08-18T08:52:21.201109",
     "status": "completed"
    },
    "tags": []
   },
   "outputs": [
    {
     "data": {
      "text/plain": [
       "month\n",
       "1      90.366516\n",
       "2     110.003330\n",
       "3     148.169811\n",
       "4     184.160616\n",
       "5     219.459430\n",
       "6     242.031798\n",
       "7     235.325658\n",
       "8     234.118421\n",
       "9     233.805281\n",
       "10    227.699232\n",
       "11    193.677278\n",
       "12    175.614035\n",
       "Name: count, dtype: float64"
      ]
     },
     "execution_count": 25,
     "metadata": {},
     "output_type": "execute_result"
    }
   ],
   "source": [
    "# **\n",
    "# 월별로 자전거를 얼마나 빌렸는지\n",
    "train_df.groupby([\"month\"])[\"count\"].mean()"
   ]
  },
  {
   "cell_type": "code",
   "execution_count": 26,
   "id": "155653c5",
   "metadata": {
    "execution": {
     "iopub.execute_input": "2021-08-18T08:52:21.352088Z",
     "iopub.status.busy": "2021-08-18T08:52:21.351499Z",
     "iopub.status.idle": "2021-08-18T08:52:21.357047Z",
     "shell.execute_reply": "2021-08-18T08:52:21.356565Z",
     "shell.execute_reply.started": "2021-08-18T08:37:23.315638Z"
    },
    "papermill": {
     "duration": 0.055074,
     "end_time": "2021-08-18T08:52:21.357173",
     "exception": false,
     "start_time": "2021-08-18T08:52:21.302099",
     "status": "completed"
    },
    "tags": []
   },
   "outputs": [],
   "source": [
    "series_data = train_df.groupby([\"month\"])[\"count\"].mean()"
   ]
  },
  {
   "cell_type": "code",
   "execution_count": 27,
   "id": "4cb9e4ad",
   "metadata": {
    "execution": {
     "iopub.execute_input": "2021-08-18T08:52:21.451675Z",
     "iopub.status.busy": "2021-08-18T08:52:21.450954Z",
     "iopub.status.idle": "2021-08-18T08:52:21.454658Z",
     "shell.execute_reply": "2021-08-18T08:52:21.454083Z",
     "shell.execute_reply.started": "2021-08-18T08:37:23.329728Z"
    },
    "papermill": {
     "duration": 0.053252,
     "end_time": "2021-08-18T08:52:21.454790",
     "exception": false,
     "start_time": "2021-08-18T08:52:21.401538",
     "status": "completed"
    },
    "tags": []
   },
   "outputs": [
    {
     "data": {
      "text/plain": [
       "[1, 2, 3, 4, 5]"
      ]
     },
     "execution_count": 27,
     "metadata": {},
     "output_type": "execute_result"
    }
   ],
   "source": [
    "series_data.index.tolist()[:5]"
   ]
  },
  {
   "cell_type": "code",
   "execution_count": 28,
   "id": "6bf66764",
   "metadata": {
    "execution": {
     "iopub.execute_input": "2021-08-18T08:52:21.569066Z",
     "iopub.status.busy": "2021-08-18T08:52:21.567157Z",
     "iopub.status.idle": "2021-08-18T08:52:21.680863Z",
     "shell.execute_reply": "2021-08-18T08:52:21.681272Z",
     "shell.execute_reply.started": "2021-08-18T08:37:23.341604Z"
    },
    "papermill": {
     "duration": 0.181702,
     "end_time": "2021-08-18T08:52:21.681438",
     "exception": false,
     "start_time": "2021-08-18T08:52:21.499736",
     "status": "completed"
    },
    "tags": []
   },
   "outputs": [
    {
     "data": {
      "image/png": "[encoded data removed]",
      "text/plain": [
       "<Figure size 864x360 with 1 Axes>"
      ]
     },
     "metadata": {
      "needs_background": "light"
     },
     "output_type": "display_data"
    }
   ],
   "source": [
    "fig, ax = plt.subplots()\n",
    "ax.bar(range(len(series_data)), series_data)\n",
    "fig.set_size_inches(12, 5)\n",
    "plt.show()\n",
    "\n",
    "# 여름에 더 많이 빌리고, 저녁에 조금 빌리구나"
   ]
  },
  {
   "cell_type": "code",
   "execution_count": 29,
   "id": "dee02f27",
   "metadata": {
    "execution": {
     "iopub.execute_input": "2021-08-18T08:52:21.778890Z",
     "iopub.status.busy": "2021-08-18T08:52:21.777032Z",
     "iopub.status.idle": "2021-08-18T08:52:21.914200Z",
     "shell.execute_reply": "2021-08-18T08:52:21.913628Z",
     "shell.execute_reply.started": "2021-08-18T08:37:23.497466Z"
    },
    "papermill": {
     "duration": 0.187769,
     "end_time": "2021-08-18T08:52:21.914332",
     "exception": false,
     "start_time": "2021-08-18T08:52:21.726563",
     "status": "completed"
    },
    "tags": []
   },
   "outputs": [
    {
     "data": {
      "image/png": "[encoded data removed]",
      "text/plain": [
       "<Figure size 864x360 with 1 Axes>"
      ]
     },
     "metadata": {
      "needs_background": "light"
     },
     "output_type": "display_data"
    }
   ],
   "source": [
    "# **\n",
    "# 요일별로\n",
    "series_data = train_df.groupby([\"weekday\"])[\"count\"].mean()\n",
    "\n",
    "fig, ax = plt.subplots()\n",
    "ax.bar(range(len(series_data)), series_data)\n",
    "fig.set_size_inches(12, 5)\n",
    "plt.show()\n",
    "\n",
    "# 요일별로는 거의 상관관계가 없구나. 빼버릴까?"
   ]
  },
  {
   "cell_type": "code",
   "execution_count": 30,
   "id": "23ffcc80",
   "metadata": {
    "execution": {
     "iopub.execute_input": "2021-08-18T08:52:22.026057Z",
     "iopub.status.busy": "2021-08-18T08:52:22.013706Z",
     "iopub.status.idle": "2021-08-18T08:52:22.157228Z",
     "shell.execute_reply": "2021-08-18T08:52:22.156740Z",
     "shell.execute_reply.started": "2021-08-18T08:37:23.655559Z"
    },
    "papermill": {
     "duration": 0.197013,
     "end_time": "2021-08-18T08:52:22.157357",
     "exception": false,
     "start_time": "2021-08-18T08:52:21.960344",
     "status": "completed"
    },
    "tags": []
   },
   "outputs": [
    {
     "data": {
      "image/png": "[encoded data removed]",
      "text/plain": [
       "<Figure size 864x360 with 1 Axes>"
      ]
     },
     "metadata": {
      "needs_background": "light"
     },
     "output_type": "display_data"
    }
   ],
   "source": [
    "# **\n",
    "# 시간별로\n",
    "series_data = train_df.groupby([\"hour\"])[\"count\"].mean()\n",
    "\n",
    "fig, ax = plt.subplots()\n",
    "ax.bar(range(len(series_data)), series_data)\n",
    "fig.set_size_inches(12, 5)\n",
    "plt.show()\n",
    "\n",
    "# 출퇴근시간에 자전거 많이 빌리는구나!"
   ]
  },
  {
   "cell_type": "code",
   "execution_count": 31,
   "id": "9de4447a",
   "metadata": {
    "execution": {
     "iopub.execute_input": "2021-08-18T08:52:22.257218Z",
     "iopub.status.busy": "2021-08-18T08:52:22.256422Z",
     "iopub.status.idle": "2021-08-18T08:52:25.364730Z",
     "shell.execute_reply": "2021-08-18T08:52:25.364108Z",
     "shell.execute_reply.started": "2021-08-18T08:37:23.820085Z"
    },
    "papermill": {
     "duration": 3.160911,
     "end_time": "2021-08-18T08:52:25.364876",
     "exception": false,
     "start_time": "2021-08-18T08:52:22.203965",
     "status": "completed"
    },
    "tags": []
   },
   "outputs": [
    {
     "data": {
      "image/png": "[encoded data removed]",
      "text/plain": [
       "<Figure size 864x360 with 3 Axes>"
      ]
     },
     "metadata": {
      "needs_background": "light"
     },
     "output_type": "display_data"
    }
   ],
   "source": [
    "import seaborn as sn\n",
    "\n",
    "fig, (ax1, ax2, ax3) = plt.subplots(ncols=3)\n",
    "fig.set_size_inches(12, 5)\n",
    "\n",
    "sn.regplot(x=\"temp\", y=\"count\", data=train_df, ax=ax1)\n",
    "sn.regplot(x=\"windspeed\", y=\"count\", data=train_df, ax=ax2)\n",
    "sn.regplot(x=\"humidity\", y=\"count\", data=train_df, ax=ax3)\n",
    "plt.show()"
   ]
  },
  {
   "cell_type": "markdown",
   "id": "f678227a",
   "metadata": {
    "papermill": {
     "duration": 0.049242,
     "end_time": "2021-08-18T08:52:25.464254",
     "exception": false,
     "start_time": "2021-08-18T08:52:25.415012",
     "status": "completed"
    },
    "tags": []
   },
   "source": [
    "- 다른 사람들의 EDA 찾아보기\n",
    "\n",
    "- windspeed에서 0인 값\n",
    "  - 실제로 바람이 없는 것보단, 기록이 안 되었을 가능성이 크다!\n",
    "  - 이를 예측하는 프로그램을 다시 만들어보는 것\n",
    "  - 0인 값을 실제 값으로 변형시키기\n",
    "     - windspeed를 예측하는 모델을 다시 만들기\n",
    "     - 존재하는 다른 데이터 요일, 날짜, 사람들 얼마나 빌렸다 등의 데이터... 들을 이용해 역으로 예측하는 모델 -> 비어있는 칸들을 예측하는 모델의 값으로 넣음\n",
    "     - (빈 값은 다른 Regression을 써서 새로 채워넣기!)"
   ]
  },
  {
   "cell_type": "code",
   "execution_count": 32,
   "id": "f19d1640",
   "metadata": {
    "execution": {
     "iopub.execute_input": "2021-08-18T08:52:25.571166Z",
     "iopub.status.busy": "2021-08-18T08:52:25.570600Z",
     "iopub.status.idle": "2021-08-18T08:52:25.574676Z",
     "shell.execute_reply": "2021-08-18T08:52:25.574128Z",
     "shell.execute_reply.started": "2021-08-18T08:37:26.276805Z"
    },
    "papermill": {
     "duration": 0.06008,
     "end_time": "2021-08-18T08:52:25.574822",
     "exception": false,
     "start_time": "2021-08-18T08:52:25.514742",
     "status": "completed"
    },
    "tags": []
   },
   "outputs": [
    {
     "data": {
      "text/plain": [
       "['season',\n",
       " 'weather',\n",
       " 'workingday',\n",
       " 'season_1',\n",
       " 'season_2',\n",
       " 'season_3',\n",
       " 'season_4',\n",
       " 'weather_1',\n",
       " 'weather_2',\n",
       " 'weather_3',\n",
       " 'weather_4',\n",
       " 'year',\n",
       " 'month',\n",
       " 'day',\n",
       " 'hour',\n",
       " 'weekday',\n",
       " 'weekday_0',\n",
       " 'weekday_1',\n",
       " 'weekday_2',\n",
       " 'weekday_3',\n",
       " 'weekday_4',\n",
       " 'weekday_5',\n",
       " 'weekday_6']"
      ]
     },
     "execution_count": 32,
     "metadata": {},
     "output_type": "execute_result"
    }
   ],
   "source": [
    "category_variable_list"
   ]
  },
  {
   "cell_type": "code",
   "execution_count": 33,
   "id": "10afaaa2",
   "metadata": {
    "execution": {
     "iopub.execute_input": "2021-08-18T08:52:25.677809Z",
     "iopub.status.busy": "2021-08-18T08:52:25.677197Z",
     "iopub.status.idle": "2021-08-18T08:52:25.967289Z",
     "shell.execute_reply": "2021-08-18T08:52:25.966762Z",
     "shell.execute_reply.started": "2021-08-18T08:37:26.284819Z"
    },
    "papermill": {
     "duration": 0.342316,
     "end_time": "2021-08-18T08:52:25.967437",
     "exception": false,
     "start_time": "2021-08-18T08:52:25.625121",
     "status": "completed"
    },
    "tags": []
   },
   "outputs": [
    {
     "data": {
      "image/png": "[encoded data removed]",
      "text/plain": [
       "<Figure size 1440x720 with 2 Axes>"
      ]
     },
     "metadata": {
      "needs_background": "light"
     },
     "output_type": "display_data"
    }
   ],
   "source": [
    "corrMatt = train_df[[\"temp\", \"atemp\", \"humidity\", \"windspeed\", \"count\"]].corr()\n",
    "mask = np.array(corrMatt)\n",
    "mask[np.tril_indices_from(mask)] = False\n",
    "fig, ax = plt.subplots()\n",
    "fig.set_size_inches(20, 10)\n",
    "sn.heatmap(corrMatt, mask=mask, vmax=.8, square=True, annot=True)\n",
    "plt.show()"
   ]
  },
  {
   "cell_type": "markdown",
   "id": "8d7aa7dd",
   "metadata": {
    "papermill": {
     "duration": 0.05388,
     "end_time": "2021-08-18T08:52:26.072902",
     "exception": false,
     "start_time": "2021-08-18T08:52:26.019022",
     "status": "completed"
    },
    "tags": []
   },
   "source": [
    "- atemp & temp의 관계 거의 비슷 -> 하나만 사용해도 ok\n",
    "- windspeed & count의 관계 거의 없음 -> 제거해도 ok"
   ]
  },
  {
   "cell_type": "code",
   "execution_count": 34,
   "id": "19cd02b1",
   "metadata": {
    "execution": {
     "iopub.execute_input": "2021-08-18T08:52:26.180847Z",
     "iopub.status.busy": "2021-08-18T08:52:26.180195Z",
     "iopub.status.idle": "2021-08-18T08:52:26.184400Z",
     "shell.execute_reply": "2021-08-18T08:52:26.184897Z",
     "shell.execute_reply.started": "2021-08-18T08:37:26.547426Z"
    },
    "papermill": {
     "duration": 0.060807,
     "end_time": "2021-08-18T08:52:26.185079",
     "exception": false,
     "start_time": "2021-08-18T08:52:26.124272",
     "status": "completed"
    },
    "tags": []
   },
   "outputs": [
    {
     "data": {
      "text/plain": [
       "['season', 'weather', 'workingday', 'season_1', 'season_2']"
      ]
     },
     "execution_count": 34,
     "metadata": {},
     "output_type": "execute_result"
    }
   ],
   "source": [
    "category_variable_list[:5]"
   ]
  },
  {
   "cell_type": "code",
   "execution_count": 35,
   "id": "e6121e28",
   "metadata": {
    "execution": {
     "iopub.execute_input": "2021-08-18T08:52:26.290284Z",
     "iopub.status.busy": "2021-08-18T08:52:26.289718Z",
     "iopub.status.idle": "2021-08-18T08:52:26.293275Z",
     "shell.execute_reply": "2021-08-18T08:52:26.293729Z",
     "shell.execute_reply.started": "2021-08-18T08:37:26.557377Z"
    },
    "papermill": {
     "duration": 0.057671,
     "end_time": "2021-08-18T08:52:26.293907",
     "exception": false,
     "start_time": "2021-08-18T08:52:26.236236",
     "status": "completed"
    },
    "tags": []
   },
   "outputs": [],
   "source": [
    "continuous_variable_list = [\"temp\", \"humidity\", \"windspeed\", \"atemp\"]"
   ]
  },
  {
   "cell_type": "code",
   "execution_count": 36,
   "id": "0ff67429",
   "metadata": {
    "execution": {
     "iopub.execute_input": "2021-08-18T08:52:26.400544Z",
     "iopub.status.busy": "2021-08-18T08:52:26.399937Z",
     "iopub.status.idle": "2021-08-18T08:52:26.404324Z",
     "shell.execute_reply": "2021-08-18T08:52:26.404794Z",
     "shell.execute_reply.started": "2021-08-18T08:37:26.569300Z"
    },
    "papermill": {
     "duration": 0.059557,
     "end_time": "2021-08-18T08:52:26.404955",
     "exception": false,
     "start_time": "2021-08-18T08:52:26.345398",
     "status": "completed"
    },
    "tags": []
   },
   "outputs": [],
   "source": [
    "season_list = ['season_1', 'season_2', 'season_3', 'season_4']\n",
    "weather_list = ['weather_1', 'weather_2', 'weather_3', 'weather_4']\n",
    "weekday_list = ['weekday_0','weekday_1','weekday_2','weekday_3','weekday_4','weekday_5','weekday_6']"
   ]
  },
  {
   "cell_type": "code",
   "execution_count": 37,
   "id": "be99a2e1",
   "metadata": {
    "execution": {
     "iopub.execute_input": "2021-08-18T08:52:26.512351Z",
     "iopub.status.busy": "2021-08-18T08:52:26.511772Z",
     "iopub.status.idle": "2021-08-18T08:52:26.513778Z",
     "shell.execute_reply": "2021-08-18T08:52:26.514194Z",
     "shell.execute_reply.started": "2021-08-18T08:37:26.579068Z"
    },
    "papermill": {
     "duration": 0.057859,
     "end_time": "2021-08-18T08:52:26.514356",
     "exception": false,
     "start_time": "2021-08-18T08:52:26.456497",
     "status": "completed"
    },
    "tags": []
   },
   "outputs": [],
   "source": [
    "category_variable_list = [\"season\",\"holiday\",\"workingday\",\"weather\",\"weekday\",\"month\",\"year\",\"hour\"]"
   ]
  },
  {
   "cell_type": "code",
   "execution_count": 38,
   "id": "17447df6",
   "metadata": {
    "execution": {
     "iopub.execute_input": "2021-08-18T08:52:26.620600Z",
     "iopub.status.busy": "2021-08-18T08:52:26.619647Z",
     "iopub.status.idle": "2021-08-18T08:52:26.624784Z",
     "shell.execute_reply": "2021-08-18T08:52:26.624279Z",
     "shell.execute_reply.started": "2021-08-18T08:37:26.589046Z"
    },
    "papermill": {
     "duration": 0.05943,
     "end_time": "2021-08-18T08:52:26.624926",
     "exception": false,
     "start_time": "2021-08-18T08:52:26.565496",
     "status": "completed"
    },
    "tags": []
   },
   "outputs": [],
   "source": [
    "all_variable_list = continuous_variable_list + category_variable_list"
   ]
  },
  {
   "cell_type": "code",
   "execution_count": 39,
   "id": "9380a782",
   "metadata": {
    "execution": {
     "iopub.execute_input": "2021-08-18T08:52:26.731778Z",
     "iopub.status.busy": "2021-08-18T08:52:26.731119Z",
     "iopub.status.idle": "2021-08-18T08:52:26.734320Z",
     "shell.execute_reply": "2021-08-18T08:52:26.733788Z",
     "shell.execute_reply.started": "2021-08-18T08:37:26.600058Z"
    },
    "papermill": {
     "duration": 0.058525,
     "end_time": "2021-08-18T08:52:26.734477",
     "exception": false,
     "start_time": "2021-08-18T08:52:26.675952",
     "status": "completed"
    },
    "tags": []
   },
   "outputs": [],
   "source": [
    "all_variable_list.append(season_list)\n",
    "all_variable_list.append(weather_list)\n",
    "all_variable_list.append(weekday_list)"
   ]
  },
  {
   "cell_type": "code",
   "execution_count": 40,
   "id": "3c415049",
   "metadata": {
    "execution": {
     "iopub.execute_input": "2021-08-18T08:52:26.842758Z",
     "iopub.status.busy": "2021-08-18T08:52:26.842038Z",
     "iopub.status.idle": "2021-08-18T08:52:26.846134Z",
     "shell.execute_reply": "2021-08-18T08:52:26.845671Z",
     "shell.execute_reply.started": "2021-08-18T08:37:26.610755Z"
    },
    "papermill": {
     "duration": 0.060308,
     "end_time": "2021-08-18T08:52:26.846282",
     "exception": false,
     "start_time": "2021-08-18T08:52:26.785974",
     "status": "completed"
    },
    "tags": []
   },
   "outputs": [
    {
     "data": {
      "text/plain": [
       "['temp',\n",
       " 'humidity',\n",
       " 'windspeed',\n",
       " 'atemp',\n",
       " 'season',\n",
       " 'holiday',\n",
       " 'workingday',\n",
       " 'weather',\n",
       " 'weekday',\n",
       " 'month',\n",
       " 'year',\n",
       " 'hour',\n",
       " ['season_1', 'season_2', 'season_3', 'season_4'],\n",
       " ['weather_1', 'weather_2', 'weather_3', 'weather_4'],\n",
       " ['weekday_0',\n",
       "  'weekday_1',\n",
       "  'weekday_2',\n",
       "  'weekday_3',\n",
       "  'weekday_4',\n",
       "  'weekday_5',\n",
       "  'weekday_6']]"
      ]
     },
     "execution_count": 40,
     "metadata": {},
     "output_type": "execute_result"
    }
   ],
   "source": [
    "all_variable_list\n",
    "\n",
    "# 사실 이런 방법은 잘 안 씀\n",
    "# 전체를 실험해보자 (너무 많으니 10-15개만)"
   ]
  },
  {
   "cell_type": "code",
   "execution_count": 41,
   "id": "965b9e69",
   "metadata": {
    "execution": {
     "iopub.execute_input": "2021-08-18T08:52:26.955067Z",
     "iopub.status.busy": "2021-08-18T08:52:26.954210Z",
     "iopub.status.idle": "2021-08-18T08:52:26.957606Z",
     "shell.execute_reply": "2021-08-18T08:52:26.958054Z",
     "shell.execute_reply.started": "2021-08-18T08:37:26.623694Z"
    },
    "papermill": {
     "duration": 0.060099,
     "end_time": "2021-08-18T08:52:26.958211",
     "exception": false,
     "start_time": "2021-08-18T08:52:26.898112",
     "status": "completed"
    },
    "tags": []
   },
   "outputs": [
    {
     "data": {
      "text/plain": [
       "15"
      ]
     },
     "execution_count": 41,
     "metadata": {},
     "output_type": "execute_result"
    }
   ],
   "source": [
    "number_of_variables = len(all_variable_list)\n",
    "number_of_variables"
   ]
  },
  {
   "cell_type": "code",
   "execution_count": 42,
   "id": "69c6bee9",
   "metadata": {
    "execution": {
     "iopub.execute_input": "2021-08-18T08:52:27.064205Z",
     "iopub.status.busy": "2021-08-18T08:52:27.063297Z",
     "iopub.status.idle": "2021-08-18T08:52:27.069866Z",
     "shell.execute_reply": "2021-08-18T08:52:27.069394Z",
     "shell.execute_reply.started": "2021-08-18T08:41:15.029032Z"
    },
    "papermill": {
     "duration": 0.060671,
     "end_time": "2021-08-18T08:52:27.069999",
     "exception": false,
     "start_time": "2021-08-18T08:52:27.009328",
     "status": "completed"
    },
    "tags": []
   },
   "outputs": [],
   "source": [
    "variable_combinations = []\n",
    "\n",
    "import itertools\n",
    "\n",
    "for L in range(14, number_of_variables+1):\n",
    "    for subset in itertools.combinations(all_variable_list, L):\n",
    "        temp = []\n",
    "        for variable in subset: # week가 하나만 들어갈 순 없어서 전체 다 포함하도록\n",
    "            if isinstance(variable, list):\n",
    "                for value in variable:\n",
    "                    temp.append(value)\n",
    "            else:\n",
    "                temp.append(variable)\n",
    "        variable_combinations.append(temp)\n",
    "    \n",
    "\n",
    "# combination의 개수만큼 list에서 경우의 수를 다 뽑아줌\n",
    "# 전체 variable(all_variable_list)중 L개만큼 뽑아줌\n",
    "\n",
    "# 뽑아서 combination들 다 저장해줌"
   ]
  },
  {
   "cell_type": "code",
   "execution_count": 43,
   "id": "9b7fff02",
   "metadata": {
    "execution": {
     "iopub.execute_input": "2021-08-18T08:52:27.177657Z",
     "iopub.status.busy": "2021-08-18T08:52:27.177057Z",
     "iopub.status.idle": "2021-08-18T08:52:27.179765Z",
     "shell.execute_reply": "2021-08-18T08:52:27.180210Z",
     "shell.execute_reply.started": "2021-08-18T08:37:53.922254Z"
    },
    "papermill": {
     "duration": 0.058995,
     "end_time": "2021-08-18T08:52:27.180369",
     "exception": false,
     "start_time": "2021-08-18T08:52:27.121374",
     "status": "completed"
    },
    "tags": []
   },
   "outputs": [
    {
     "data": {
      "text/plain": [
       "[['temp',\n",
       "  'humidity',\n",
       "  'windspeed',\n",
       "  'atemp',\n",
       "  'season',\n",
       "  'holiday',\n",
       "  'workingday',\n",
       "  'weather',\n",
       "  'weekday',\n",
       "  'month',\n",
       "  'year',\n",
       "  'hour',\n",
       "  'season_1',\n",
       "  'season_2',\n",
       "  'season_3',\n",
       "  'season_4',\n",
       "  'weather_1',\n",
       "  'weather_2',\n",
       "  'weather_3',\n",
       "  'weather_4'],\n",
       " ['temp',\n",
       "  'humidity',\n",
       "  'windspeed',\n",
       "  'atemp',\n",
       "  'season',\n",
       "  'holiday',\n",
       "  'workingday',\n",
       "  'weather',\n",
       "  'weekday',\n",
       "  'month',\n",
       "  'year',\n",
       "  'hour',\n",
       "  'season_1',\n",
       "  'season_2',\n",
       "  'season_3',\n",
       "  'season_4',\n",
       "  'weekday_0',\n",
       "  'weekday_1',\n",
       "  'weekday_2',\n",
       "  'weekday_3',\n",
       "  'weekday_4',\n",
       "  'weekday_5',\n",
       "  'weekday_6']]"
      ]
     },
     "execution_count": 43,
     "metadata": {},
     "output_type": "execute_result"
    }
   ],
   "source": [
    "variable_combinations[:2]\n",
    "\n",
    "# 모든 경우의 수를 다 뽑아 따로 저장"
   ]
  },
  {
   "cell_type": "code",
   "execution_count": 44,
   "id": "24260f2e",
   "metadata": {
    "execution": {
     "iopub.execute_input": "2021-08-18T08:52:27.287373Z",
     "iopub.status.busy": "2021-08-18T08:52:27.286800Z",
     "iopub.status.idle": "2021-08-18T08:52:27.291357Z",
     "shell.execute_reply": "2021-08-18T08:52:27.291809Z",
     "shell.execute_reply.started": "2021-08-18T08:37:26.734002Z"
    },
    "papermill": {
     "duration": 0.059204,
     "end_time": "2021-08-18T08:52:27.291976",
     "exception": false,
     "start_time": "2021-08-18T08:52:27.232772",
     "status": "completed"
    },
    "tags": []
   },
   "outputs": [],
   "source": [
    "del pre_df[\"count\"]"
   ]
  },
  {
   "cell_type": "markdown",
   "id": "d93a85c7",
   "metadata": {
    "papermill": {
     "duration": 0.052332,
     "end_time": "2021-08-18T08:52:27.396267",
     "exception": false,
     "start_time": "2021-08-18T08:52:27.343935",
     "status": "completed"
    },
    "tags": []
   },
   "source": [
    "- RMSE가 작을수록 좋다.\n",
    "- Ridge & Lasso & LR\n",
    "- 10~15"
   ]
  },
  {
   "cell_type": "code",
   "execution_count": 45,
   "id": "05cf2b60",
   "metadata": {
    "execution": {
     "iopub.execute_input": "2021-08-18T08:52:27.513744Z",
     "iopub.status.busy": "2021-08-18T08:52:27.513072Z",
     "iopub.status.idle": "2021-08-18T08:52:44.376584Z",
     "shell.execute_reply": "2021-08-18T08:52:44.377593Z",
     "shell.execute_reply.started": "2021-08-18T08:41:18.710644Z"
    },
    "papermill": {
     "duration": 16.928975,
     "end_time": "2021-08-18T08:52:44.377797",
     "exception": false,
     "start_time": "2021-08-18T08:52:27.448822",
     "status": "completed"
    },
    "tags": []
   },
   "outputs": [
    {
     "name": "stdout",
     "output_type": "stream",
     "text": [
      "16\n"
     ]
    },
    {
     "name": "stderr",
     "output_type": "stream",
     "text": [
      "/opt/conda/lib/python3.7/site-packages/ipykernel_launcher.py:3: RuntimeWarning: invalid value encountered in log\n",
      "  This is separate from the ipykernel package so we can avoid doing imports until\n",
      "/opt/conda/lib/python3.7/site-packages/ipykernel_launcher.py:3: RuntimeWarning: invalid value encountered in log\n",
      "  This is separate from the ipykernel package so we can avoid doing imports until\n",
      "/opt/conda/lib/python3.7/site-packages/ipykernel_launcher.py:3: RuntimeWarning: invalid value encountered in log\n",
      "  This is separate from the ipykernel package so we can avoid doing imports until\n",
      "/opt/conda/lib/python3.7/site-packages/ipykernel_launcher.py:3: RuntimeWarning: invalid value encountered in log\n",
      "  This is separate from the ipykernel package so we can avoid doing imports until\n",
      "/opt/conda/lib/python3.7/site-packages/ipykernel_launcher.py:3: RuntimeWarning: invalid value encountered in log\n",
      "  This is separate from the ipykernel package so we can avoid doing imports until\n",
      "/opt/conda/lib/python3.7/site-packages/ipykernel_launcher.py:3: RuntimeWarning: invalid value encountered in log\n",
      "  This is separate from the ipykernel package so we can avoid doing imports until\n",
      "/opt/conda/lib/python3.7/site-packages/ipykernel_launcher.py:3: RuntimeWarning: invalid value encountered in log\n",
      "  This is separate from the ipykernel package so we can avoid doing imports until\n",
      "/opt/conda/lib/python3.7/site-packages/ipykernel_launcher.py:3: RuntimeWarning: invalid value encountered in log\n",
      "  This is separate from the ipykernel package so we can avoid doing imports until\n",
      "/opt/conda/lib/python3.7/site-packages/ipykernel_launcher.py:3: RuntimeWarning: invalid value encountered in log\n",
      "  This is separate from the ipykernel package so we can avoid doing imports until\n",
      "/opt/conda/lib/python3.7/site-packages/ipykernel_launcher.py:3: RuntimeWarning: invalid value encountered in log\n",
      "  This is separate from the ipykernel package so we can avoid doing imports until\n",
      "/opt/conda/lib/python3.7/site-packages/ipykernel_launcher.py:3: RuntimeWarning: invalid value encountered in log\n",
      "  This is separate from the ipykernel package so we can avoid doing imports until\n",
      "/opt/conda/lib/python3.7/site-packages/ipykernel_launcher.py:3: RuntimeWarning: invalid value encountered in log\n",
      "  This is separate from the ipykernel package so we can avoid doing imports until\n",
      "/opt/conda/lib/python3.7/site-packages/ipykernel_launcher.py:3: RuntimeWarning: invalid value encountered in log\n",
      "  This is separate from the ipykernel package so we can avoid doing imports until\n",
      "/opt/conda/lib/python3.7/site-packages/ipykernel_launcher.py:3: RuntimeWarning: invalid value encountered in log\n",
      "  This is separate from the ipykernel package so we can avoid doing imports until\n",
      "/opt/conda/lib/python3.7/site-packages/ipykernel_launcher.py:3: RuntimeWarning: invalid value encountered in log\n",
      "  This is separate from the ipykernel package so we can avoid doing imports until\n"
     ]
    },
    {
     "name": "stdout",
     "output_type": "stream",
     "text": [
      "0 0:00:00.962045\n"
     ]
    },
    {
     "name": "stderr",
     "output_type": "stream",
     "text": [
      "/opt/conda/lib/python3.7/site-packages/ipykernel_launcher.py:3: RuntimeWarning: invalid value encountered in log\n",
      "  This is separate from the ipykernel package so we can avoid doing imports until\n",
      "/opt/conda/lib/python3.7/site-packages/ipykernel_launcher.py:3: RuntimeWarning: invalid value encountered in log\n",
      "  This is separate from the ipykernel package so we can avoid doing imports until\n",
      "/opt/conda/lib/python3.7/site-packages/ipykernel_launcher.py:3: RuntimeWarning: invalid value encountered in log\n",
      "  This is separate from the ipykernel package so we can avoid doing imports until\n",
      "/opt/conda/lib/python3.7/site-packages/ipykernel_launcher.py:3: RuntimeWarning: invalid value encountered in log\n",
      "  This is separate from the ipykernel package so we can avoid doing imports until\n",
      "/opt/conda/lib/python3.7/site-packages/ipykernel_launcher.py:3: RuntimeWarning: invalid value encountered in log\n",
      "  This is separate from the ipykernel package so we can avoid doing imports until\n",
      "/opt/conda/lib/python3.7/site-packages/ipykernel_launcher.py:3: RuntimeWarning: invalid value encountered in log\n",
      "  This is separate from the ipykernel package so we can avoid doing imports until\n",
      "/opt/conda/lib/python3.7/site-packages/ipykernel_launcher.py:3: RuntimeWarning: invalid value encountered in log\n",
      "  This is separate from the ipykernel package so we can avoid doing imports until\n",
      "/opt/conda/lib/python3.7/site-packages/ipykernel_launcher.py:3: RuntimeWarning: invalid value encountered in log\n",
      "  This is separate from the ipykernel package so we can avoid doing imports until\n",
      "/opt/conda/lib/python3.7/site-packages/ipykernel_launcher.py:3: RuntimeWarning: invalid value encountered in log\n",
      "  This is separate from the ipykernel package so we can avoid doing imports until\n",
      "/opt/conda/lib/python3.7/site-packages/ipykernel_launcher.py:3: RuntimeWarning: invalid value encountered in log\n",
      "  This is separate from the ipykernel package so we can avoid doing imports until\n",
      "/opt/conda/lib/python3.7/site-packages/ipykernel_launcher.py:3: RuntimeWarning: invalid value encountered in log\n",
      "  This is separate from the ipykernel package so we can avoid doing imports until\n",
      "/opt/conda/lib/python3.7/site-packages/ipykernel_launcher.py:3: RuntimeWarning: invalid value encountered in log\n",
      "  This is separate from the ipykernel package so we can avoid doing imports until\n",
      "/opt/conda/lib/python3.7/site-packages/ipykernel_launcher.py:3: RuntimeWarning: invalid value encountered in log\n",
      "  This is separate from the ipykernel package so we can avoid doing imports until\n",
      "/opt/conda/lib/python3.7/site-packages/ipykernel_launcher.py:3: RuntimeWarning: invalid value encountered in log\n",
      "  This is separate from the ipykernel package so we can avoid doing imports until\n",
      "/opt/conda/lib/python3.7/site-packages/ipykernel_launcher.py:3: RuntimeWarning: invalid value encountered in log\n",
      "  This is separate from the ipykernel package so we can avoid doing imports until\n",
      "/opt/conda/lib/python3.7/site-packages/ipykernel_launcher.py:3: RuntimeWarning: invalid value encountered in log\n",
      "  This is separate from the ipykernel package so we can avoid doing imports until\n",
      "/opt/conda/lib/python3.7/site-packages/ipykernel_launcher.py:3: RuntimeWarning: invalid value encountered in log\n",
      "  This is separate from the ipykernel package so we can avoid doing imports until\n",
      "/opt/conda/lib/python3.7/site-packages/ipykernel_launcher.py:3: RuntimeWarning: invalid value encountered in log\n",
      "  This is separate from the ipykernel package so we can avoid doing imports until\n",
      "/opt/conda/lib/python3.7/site-packages/ipykernel_launcher.py:3: RuntimeWarning: invalid value encountered in log\n",
      "  This is separate from the ipykernel package so we can avoid doing imports until\n",
      "/opt/conda/lib/python3.7/site-packages/ipykernel_launcher.py:3: RuntimeWarning: invalid value encountered in log\n",
      "  This is separate from the ipykernel package so we can avoid doing imports until\n",
      "/opt/conda/lib/python3.7/site-packages/ipykernel_launcher.py:3: RuntimeWarning: invalid value encountered in log\n",
      "  This is separate from the ipykernel package so we can avoid doing imports until\n",
      "/opt/conda/lib/python3.7/site-packages/ipykernel_launcher.py:3: RuntimeWarning: invalid value encountered in log\n",
      "  This is separate from the ipykernel package so we can avoid doing imports until\n",
      "/opt/conda/lib/python3.7/site-packages/ipykernel_launcher.py:3: RuntimeWarning: invalid value encountered in log\n",
      "  This is separate from the ipykernel package so we can avoid doing imports until\n",
      "/opt/conda/lib/python3.7/site-packages/ipykernel_launcher.py:3: RuntimeWarning: invalid value encountered in log\n",
      "  This is separate from the ipykernel package so we can avoid doing imports until\n",
      "/opt/conda/lib/python3.7/site-packages/ipykernel_launcher.py:3: RuntimeWarning: invalid value encountered in log\n",
      "  This is separate from the ipykernel package so we can avoid doing imports until\n",
      "/opt/conda/lib/python3.7/site-packages/ipykernel_launcher.py:3: RuntimeWarning: invalid value encountered in log\n",
      "  This is separate from the ipykernel package so we can avoid doing imports until\n",
      "/opt/conda/lib/python3.7/site-packages/ipykernel_launcher.py:3: RuntimeWarning: invalid value encountered in log\n",
      "  This is separate from the ipykernel package so we can avoid doing imports until\n",
      "/opt/conda/lib/python3.7/site-packages/ipykernel_launcher.py:3: RuntimeWarning: invalid value encountered in log\n",
      "  This is separate from the ipykernel package so we can avoid doing imports until\n",
      "/opt/conda/lib/python3.7/site-packages/ipykernel_launcher.py:3: RuntimeWarning: invalid value encountered in log\n",
      "  This is separate from the ipykernel package so we can avoid doing imports until\n",
      "/opt/conda/lib/python3.7/site-packages/ipykernel_launcher.py:3: RuntimeWarning: invalid value encountered in log\n",
      "  This is separate from the ipykernel package so we can avoid doing imports until\n",
      "/opt/conda/lib/python3.7/site-packages/ipykernel_launcher.py:3: RuntimeWarning: invalid value encountered in log\n",
      "  This is separate from the ipykernel package so we can avoid doing imports until\n",
      "/opt/conda/lib/python3.7/site-packages/ipykernel_launcher.py:3: RuntimeWarning: invalid value encountered in log\n",
      "  This is separate from the ipykernel package so we can avoid doing imports until\n",
      "/opt/conda/lib/python3.7/site-packages/ipykernel_launcher.py:3: RuntimeWarning: invalid value encountered in log\n",
      "  This is separate from the ipykernel package so we can avoid doing imports until\n",
      "/opt/conda/lib/python3.7/site-packages/ipykernel_launcher.py:3: RuntimeWarning: invalid value encountered in log\n",
      "  This is separate from the ipykernel package so we can avoid doing imports until\n",
      "/opt/conda/lib/python3.7/site-packages/ipykernel_launcher.py:3: RuntimeWarning: invalid value encountered in log\n",
      "  This is separate from the ipykernel package so we can avoid doing imports until\n",
      "/opt/conda/lib/python3.7/site-packages/ipykernel_launcher.py:3: RuntimeWarning: invalid value encountered in log\n",
      "  This is separate from the ipykernel package so we can avoid doing imports until\n",
      "/opt/conda/lib/python3.7/site-packages/ipykernel_launcher.py:3: RuntimeWarning: invalid value encountered in log\n",
      "  This is separate from the ipykernel package so we can avoid doing imports until\n",
      "/opt/conda/lib/python3.7/site-packages/ipykernel_launcher.py:3: RuntimeWarning: invalid value encountered in log\n",
      "  This is separate from the ipykernel package so we can avoid doing imports until\n",
      "/opt/conda/lib/python3.7/site-packages/ipykernel_launcher.py:3: RuntimeWarning: invalid value encountered in log\n",
      "  This is separate from the ipykernel package so we can avoid doing imports until\n",
      "/opt/conda/lib/python3.7/site-packages/ipykernel_launcher.py:3: RuntimeWarning: invalid value encountered in log\n",
      "  This is separate from the ipykernel package so we can avoid doing imports until\n",
      "/opt/conda/lib/python3.7/site-packages/ipykernel_launcher.py:3: RuntimeWarning: invalid value encountered in log\n",
      "  This is separate from the ipykernel package so we can avoid doing imports until\n",
      "/opt/conda/lib/python3.7/site-packages/ipykernel_launcher.py:3: RuntimeWarning: invalid value encountered in log\n",
      "  This is separate from the ipykernel package so we can avoid doing imports until\n",
      "/opt/conda/lib/python3.7/site-packages/ipykernel_launcher.py:3: RuntimeWarning: invalid value encountered in log\n",
      "  This is separate from the ipykernel package so we can avoid doing imports until\n",
      "/opt/conda/lib/python3.7/site-packages/ipykernel_launcher.py:3: RuntimeWarning: invalid value encountered in log\n",
      "  This is separate from the ipykernel package so we can avoid doing imports until\n",
      "/opt/conda/lib/python3.7/site-packages/ipykernel_launcher.py:3: RuntimeWarning: invalid value encountered in log\n",
      "  This is separate from the ipykernel package so we can avoid doing imports until\n",
      "/opt/conda/lib/python3.7/site-packages/ipykernel_launcher.py:3: RuntimeWarning: invalid value encountered in log\n",
      "  This is separate from the ipykernel package so we can avoid doing imports until\n",
      "/opt/conda/lib/python3.7/site-packages/ipykernel_launcher.py:3: RuntimeWarning: invalid value encountered in log\n",
      "  This is separate from the ipykernel package so we can avoid doing imports until\n",
      "/opt/conda/lib/python3.7/site-packages/ipykernel_launcher.py:3: RuntimeWarning: invalid value encountered in log\n",
      "  This is separate from the ipykernel package so we can avoid doing imports until\n",
      "/opt/conda/lib/python3.7/site-packages/ipykernel_launcher.py:3: RuntimeWarning: invalid value encountered in log\n",
      "  This is separate from the ipykernel package so we can avoid doing imports until\n",
      "/opt/conda/lib/python3.7/site-packages/ipykernel_launcher.py:3: RuntimeWarning: invalid value encountered in log\n",
      "  This is separate from the ipykernel package so we can avoid doing imports until\n",
      "/opt/conda/lib/python3.7/site-packages/ipykernel_launcher.py:3: RuntimeWarning: invalid value encountered in log\n",
      "  This is separate from the ipykernel package so we can avoid doing imports until\n",
      "/opt/conda/lib/python3.7/site-packages/ipykernel_launcher.py:3: RuntimeWarning: invalid value encountered in log\n",
      "  This is separate from the ipykernel package so we can avoid doing imports until\n",
      "/opt/conda/lib/python3.7/site-packages/ipykernel_launcher.py:3: RuntimeWarning: invalid value encountered in log\n",
      "  This is separate from the ipykernel package so we can avoid doing imports until\n",
      "/opt/conda/lib/python3.7/site-packages/ipykernel_launcher.py:3: RuntimeWarning: invalid value encountered in log\n",
      "  This is separate from the ipykernel package so we can avoid doing imports until\n",
      "/opt/conda/lib/python3.7/site-packages/ipykernel_launcher.py:3: RuntimeWarning: invalid value encountered in log\n",
      "  This is separate from the ipykernel package so we can avoid doing imports until\n",
      "/opt/conda/lib/python3.7/site-packages/ipykernel_launcher.py:3: RuntimeWarning: invalid value encountered in log\n",
      "  This is separate from the ipykernel package so we can avoid doing imports until\n",
      "/opt/conda/lib/python3.7/site-packages/ipykernel_launcher.py:3: RuntimeWarning: invalid value encountered in log\n",
      "  This is separate from the ipykernel package so we can avoid doing imports until\n",
      "/opt/conda/lib/python3.7/site-packages/ipykernel_launcher.py:3: RuntimeWarning: invalid value encountered in log\n",
      "  This is separate from the ipykernel package so we can avoid doing imports until\n",
      "/opt/conda/lib/python3.7/site-packages/ipykernel_launcher.py:3: RuntimeWarning: invalid value encountered in log\n",
      "  This is separate from the ipykernel package so we can avoid doing imports until\n",
      "/opt/conda/lib/python3.7/site-packages/ipykernel_launcher.py:3: RuntimeWarning: invalid value encountered in log\n",
      "  This is separate from the ipykernel package so we can avoid doing imports until\n",
      "/opt/conda/lib/python3.7/site-packages/ipykernel_launcher.py:3: RuntimeWarning: invalid value encountered in log\n",
      "  This is separate from the ipykernel package so we can avoid doing imports until\n",
      "/opt/conda/lib/python3.7/site-packages/ipykernel_launcher.py:3: RuntimeWarning: invalid value encountered in log\n",
      "  This is separate from the ipykernel package so we can avoid doing imports until\n",
      "/opt/conda/lib/python3.7/site-packages/ipykernel_launcher.py:3: RuntimeWarning: invalid value encountered in log\n",
      "  This is separate from the ipykernel package so we can avoid doing imports until\n",
      "/opt/conda/lib/python3.7/site-packages/ipykernel_launcher.py:3: RuntimeWarning: invalid value encountered in log\n",
      "  This is separate from the ipykernel package so we can avoid doing imports until\n",
      "/opt/conda/lib/python3.7/site-packages/ipykernel_launcher.py:3: RuntimeWarning: invalid value encountered in log\n",
      "  This is separate from the ipykernel package so we can avoid doing imports until\n",
      "/opt/conda/lib/python3.7/site-packages/ipykernel_launcher.py:3: RuntimeWarning: invalid value encountered in log\n",
      "  This is separate from the ipykernel package so we can avoid doing imports until\n",
      "/opt/conda/lib/python3.7/site-packages/ipykernel_launcher.py:3: RuntimeWarning: invalid value encountered in log\n",
      "  This is separate from the ipykernel package so we can avoid doing imports until\n",
      "/opt/conda/lib/python3.7/site-packages/ipykernel_launcher.py:3: RuntimeWarning: invalid value encountered in log\n",
      "  This is separate from the ipykernel package so we can avoid doing imports until\n",
      "/opt/conda/lib/python3.7/site-packages/ipykernel_launcher.py:3: RuntimeWarning: invalid value encountered in log\n",
      "  This is separate from the ipykernel package so we can avoid doing imports until\n",
      "/opt/conda/lib/python3.7/site-packages/ipykernel_launcher.py:3: RuntimeWarning: invalid value encountered in log\n",
      "  This is separate from the ipykernel package so we can avoid doing imports until\n",
      "/opt/conda/lib/python3.7/site-packages/ipykernel_launcher.py:3: RuntimeWarning: invalid value encountered in log\n",
      "  This is separate from the ipykernel package so we can avoid doing imports until\n",
      "/opt/conda/lib/python3.7/site-packages/ipykernel_launcher.py:3: RuntimeWarning: invalid value encountered in log\n",
      "  This is separate from the ipykernel package so we can avoid doing imports until\n",
      "/opt/conda/lib/python3.7/site-packages/ipykernel_launcher.py:3: RuntimeWarning: invalid value encountered in log\n",
      "  This is separate from the ipykernel package so we can avoid doing imports until\n",
      "/opt/conda/lib/python3.7/site-packages/ipykernel_launcher.py:3: RuntimeWarning: invalid value encountered in log\n",
      "  This is separate from the ipykernel package so we can avoid doing imports until\n",
      "/opt/conda/lib/python3.7/site-packages/ipykernel_launcher.py:3: RuntimeWarning: invalid value encountered in log\n",
      "  This is separate from the ipykernel package so we can avoid doing imports until\n",
      "/opt/conda/lib/python3.7/site-packages/ipykernel_launcher.py:3: RuntimeWarning: invalid value encountered in log\n",
      "  This is separate from the ipykernel package so we can avoid doing imports until\n",
      "/opt/conda/lib/python3.7/site-packages/ipykernel_launcher.py:3: RuntimeWarning: invalid value encountered in log\n",
      "  This is separate from the ipykernel package so we can avoid doing imports until\n",
      "/opt/conda/lib/python3.7/site-packages/ipykernel_launcher.py:3: RuntimeWarning: invalid value encountered in log\n",
      "  This is separate from the ipykernel package so we can avoid doing imports until\n",
      "/opt/conda/lib/python3.7/site-packages/ipykernel_launcher.py:3: RuntimeWarning: invalid value encountered in log\n",
      "  This is separate from the ipykernel package so we can avoid doing imports until\n",
      "/opt/conda/lib/python3.7/site-packages/ipykernel_launcher.py:3: RuntimeWarning: invalid value encountered in log\n",
      "  This is separate from the ipykernel package so we can avoid doing imports until\n",
      "/opt/conda/lib/python3.7/site-packages/ipykernel_launcher.py:3: RuntimeWarning: invalid value encountered in log\n",
      "  This is separate from the ipykernel package so we can avoid doing imports until\n",
      "/opt/conda/lib/python3.7/site-packages/ipykernel_launcher.py:3: RuntimeWarning: invalid value encountered in log\n",
      "  This is separate from the ipykernel package so we can avoid doing imports until\n",
      "/opt/conda/lib/python3.7/site-packages/ipykernel_launcher.py:3: RuntimeWarning: invalid value encountered in log\n",
      "  This is separate from the ipykernel package so we can avoid doing imports until\n",
      "/opt/conda/lib/python3.7/site-packages/ipykernel_launcher.py:3: RuntimeWarning: invalid value encountered in log\n",
      "  This is separate from the ipykernel package so we can avoid doing imports until\n",
      "/opt/conda/lib/python3.7/site-packages/ipykernel_launcher.py:3: RuntimeWarning: invalid value encountered in log\n",
      "  This is separate from the ipykernel package so we can avoid doing imports until\n",
      "/opt/conda/lib/python3.7/site-packages/ipykernel_launcher.py:3: RuntimeWarning: invalid value encountered in log\n",
      "  This is separate from the ipykernel package so we can avoid doing imports until\n",
      "/opt/conda/lib/python3.7/site-packages/ipykernel_launcher.py:3: RuntimeWarning: invalid value encountered in log\n",
      "  This is separate from the ipykernel package so we can avoid doing imports until\n",
      "/opt/conda/lib/python3.7/site-packages/ipykernel_launcher.py:3: RuntimeWarning: invalid value encountered in log\n",
      "  This is separate from the ipykernel package so we can avoid doing imports until\n",
      "/opt/conda/lib/python3.7/site-packages/ipykernel_launcher.py:3: RuntimeWarning: invalid value encountered in log\n",
      "  This is separate from the ipykernel package so we can avoid doing imports until\n",
      "/opt/conda/lib/python3.7/site-packages/ipykernel_launcher.py:3: RuntimeWarning: invalid value encountered in log\n",
      "  This is separate from the ipykernel package so we can avoid doing imports until\n",
      "/opt/conda/lib/python3.7/site-packages/ipykernel_launcher.py:3: RuntimeWarning: invalid value encountered in log\n",
      "  This is separate from the ipykernel package so we can avoid doing imports until\n",
      "/opt/conda/lib/python3.7/site-packages/ipykernel_launcher.py:3: RuntimeWarning: invalid value encountered in log\n",
      "  This is separate from the ipykernel package so we can avoid doing imports until\n",
      "/opt/conda/lib/python3.7/site-packages/ipykernel_launcher.py:3: RuntimeWarning: invalid value encountered in log\n",
      "  This is separate from the ipykernel package so we can avoid doing imports until\n",
      "/opt/conda/lib/python3.7/site-packages/ipykernel_launcher.py:3: RuntimeWarning: invalid value encountered in log\n",
      "  This is separate from the ipykernel package so we can avoid doing imports until\n",
      "/opt/conda/lib/python3.7/site-packages/ipykernel_launcher.py:3: RuntimeWarning: invalid value encountered in log\n",
      "  This is separate from the ipykernel package so we can avoid doing imports until\n",
      "/opt/conda/lib/python3.7/site-packages/ipykernel_launcher.py:3: RuntimeWarning: invalid value encountered in log\n",
      "  This is separate from the ipykernel package so we can avoid doing imports until\n",
      "/opt/conda/lib/python3.7/site-packages/ipykernel_launcher.py:3: RuntimeWarning: invalid value encountered in log\n",
      "  This is separate from the ipykernel package so we can avoid doing imports until\n",
      "/opt/conda/lib/python3.7/site-packages/ipykernel_launcher.py:3: RuntimeWarning: invalid value encountered in log\n",
      "  This is separate from the ipykernel package so we can avoid doing imports until\n",
      "/opt/conda/lib/python3.7/site-packages/ipykernel_launcher.py:3: RuntimeWarning: invalid value encountered in log\n",
      "  This is separate from the ipykernel package so we can avoid doing imports until\n",
      "/opt/conda/lib/python3.7/site-packages/ipykernel_launcher.py:3: RuntimeWarning: invalid value encountered in log\n",
      "  This is separate from the ipykernel package so we can avoid doing imports until\n",
      "/opt/conda/lib/python3.7/site-packages/ipykernel_launcher.py:3: RuntimeWarning: invalid value encountered in log\n",
      "  This is separate from the ipykernel package so we can avoid doing imports until\n",
      "/opt/conda/lib/python3.7/site-packages/ipykernel_launcher.py:3: RuntimeWarning: invalid value encountered in log\n",
      "  This is separate from the ipykernel package so we can avoid doing imports until\n",
      "/opt/conda/lib/python3.7/site-packages/ipykernel_launcher.py:3: RuntimeWarning: invalid value encountered in log\n",
      "  This is separate from the ipykernel package so we can avoid doing imports until\n",
      "/opt/conda/lib/python3.7/site-packages/ipykernel_launcher.py:3: RuntimeWarning: invalid value encountered in log\n",
      "  This is separate from the ipykernel package so we can avoid doing imports until\n",
      "/opt/conda/lib/python3.7/site-packages/ipykernel_launcher.py:3: RuntimeWarning: invalid value encountered in log\n",
      "  This is separate from the ipykernel package so we can avoid doing imports until\n",
      "/opt/conda/lib/python3.7/site-packages/ipykernel_launcher.py:3: RuntimeWarning: invalid value encountered in log\n",
      "  This is separate from the ipykernel package so we can avoid doing imports until\n",
      "/opt/conda/lib/python3.7/site-packages/ipykernel_launcher.py:3: RuntimeWarning: invalid value encountered in log\n",
      "  This is separate from the ipykernel package so we can avoid doing imports until\n",
      "/opt/conda/lib/python3.7/site-packages/ipykernel_launcher.py:3: RuntimeWarning: invalid value encountered in log\n",
      "  This is separate from the ipykernel package so we can avoid doing imports until\n",
      "/opt/conda/lib/python3.7/site-packages/ipykernel_launcher.py:3: RuntimeWarning: invalid value encountered in log\n",
      "  This is separate from the ipykernel package so we can avoid doing imports until\n",
      "/opt/conda/lib/python3.7/site-packages/ipykernel_launcher.py:3: RuntimeWarning: invalid value encountered in log\n",
      "  This is separate from the ipykernel package so we can avoid doing imports until\n",
      "/opt/conda/lib/python3.7/site-packages/ipykernel_launcher.py:3: RuntimeWarning: invalid value encountered in log\n",
      "  This is separate from the ipykernel package so we can avoid doing imports until\n",
      "/opt/conda/lib/python3.7/site-packages/ipykernel_launcher.py:3: RuntimeWarning: invalid value encountered in log\n",
      "  This is separate from the ipykernel package so we can avoid doing imports until\n",
      "/opt/conda/lib/python3.7/site-packages/ipykernel_launcher.py:3: RuntimeWarning: invalid value encountered in log\n",
      "  This is separate from the ipykernel package so we can avoid doing imports until\n",
      "/opt/conda/lib/python3.7/site-packages/ipykernel_launcher.py:3: RuntimeWarning: invalid value encountered in log\n",
      "  This is separate from the ipykernel package so we can avoid doing imports until\n",
      "/opt/conda/lib/python3.7/site-packages/ipykernel_launcher.py:3: RuntimeWarning: invalid value encountered in log\n",
      "  This is separate from the ipykernel package so we can avoid doing imports until\n",
      "/opt/conda/lib/python3.7/site-packages/ipykernel_launcher.py:3: RuntimeWarning: invalid value encountered in log\n",
      "  This is separate from the ipykernel package so we can avoid doing imports until\n",
      "/opt/conda/lib/python3.7/site-packages/ipykernel_launcher.py:3: RuntimeWarning: invalid value encountered in log\n",
      "  This is separate from the ipykernel package so we can avoid doing imports until\n",
      "/opt/conda/lib/python3.7/site-packages/ipykernel_launcher.py:3: RuntimeWarning: invalid value encountered in log\n",
      "  This is separate from the ipykernel package so we can avoid doing imports until\n",
      "/opt/conda/lib/python3.7/site-packages/ipykernel_launcher.py:3: RuntimeWarning: invalid value encountered in log\n",
      "  This is separate from the ipykernel package so we can avoid doing imports until\n",
      "/opt/conda/lib/python3.7/site-packages/ipykernel_launcher.py:3: RuntimeWarning: invalid value encountered in log\n",
      "  This is separate from the ipykernel package so we can avoid doing imports until\n",
      "/opt/conda/lib/python3.7/site-packages/ipykernel_launcher.py:3: RuntimeWarning: invalid value encountered in log\n",
      "  This is separate from the ipykernel package so we can avoid doing imports until\n",
      "/opt/conda/lib/python3.7/site-packages/ipykernel_launcher.py:3: RuntimeWarning: invalid value encountered in log\n",
      "  This is separate from the ipykernel package so we can avoid doing imports until\n",
      "/opt/conda/lib/python3.7/site-packages/ipykernel_launcher.py:3: RuntimeWarning: invalid value encountered in log\n",
      "  This is separate from the ipykernel package so we can avoid doing imports until\n",
      "/opt/conda/lib/python3.7/site-packages/ipykernel_launcher.py:3: RuntimeWarning: invalid value encountered in log\n",
      "  This is separate from the ipykernel package so we can avoid doing imports until\n",
      "/opt/conda/lib/python3.7/site-packages/ipykernel_launcher.py:3: RuntimeWarning: invalid value encountered in log\n",
      "  This is separate from the ipykernel package so we can avoid doing imports until\n",
      "/opt/conda/lib/python3.7/site-packages/ipykernel_launcher.py:3: RuntimeWarning: invalid value encountered in log\n",
      "  This is separate from the ipykernel package so we can avoid doing imports until\n",
      "/opt/conda/lib/python3.7/site-packages/ipykernel_launcher.py:3: RuntimeWarning: invalid value encountered in log\n",
      "  This is separate from the ipykernel package so we can avoid doing imports until\n",
      "/opt/conda/lib/python3.7/site-packages/ipykernel_launcher.py:3: RuntimeWarning: invalid value encountered in log\n",
      "  This is separate from the ipykernel package so we can avoid doing imports until\n",
      "/opt/conda/lib/python3.7/site-packages/ipykernel_launcher.py:3: RuntimeWarning: invalid value encountered in log\n",
      "  This is separate from the ipykernel package so we can avoid doing imports until\n",
      "/opt/conda/lib/python3.7/site-packages/ipykernel_launcher.py:3: RuntimeWarning: invalid value encountered in log\n",
      "  This is separate from the ipykernel package so we can avoid doing imports until\n",
      "/opt/conda/lib/python3.7/site-packages/ipykernel_launcher.py:3: RuntimeWarning: invalid value encountered in log\n",
      "  This is separate from the ipykernel package so we can avoid doing imports until\n",
      "/opt/conda/lib/python3.7/site-packages/ipykernel_launcher.py:3: RuntimeWarning: invalid value encountered in log\n",
      "  This is separate from the ipykernel package so we can avoid doing imports until\n",
      "/opt/conda/lib/python3.7/site-packages/ipykernel_launcher.py:3: RuntimeWarning: invalid value encountered in log\n",
      "  This is separate from the ipykernel package so we can avoid doing imports until\n",
      "/opt/conda/lib/python3.7/site-packages/ipykernel_launcher.py:3: RuntimeWarning: invalid value encountered in log\n",
      "  This is separate from the ipykernel package so we can avoid doing imports until\n",
      "/opt/conda/lib/python3.7/site-packages/ipykernel_launcher.py:3: RuntimeWarning: invalid value encountered in log\n",
      "  This is separate from the ipykernel package so we can avoid doing imports until\n",
      "/opt/conda/lib/python3.7/site-packages/ipykernel_launcher.py:3: RuntimeWarning: invalid value encountered in log\n",
      "  This is separate from the ipykernel package so we can avoid doing imports until\n",
      "/opt/conda/lib/python3.7/site-packages/ipykernel_launcher.py:3: RuntimeWarning: invalid value encountered in log\n",
      "  This is separate from the ipykernel package so we can avoid doing imports until\n",
      "/opt/conda/lib/python3.7/site-packages/ipykernel_launcher.py:3: RuntimeWarning: invalid value encountered in log\n",
      "  This is separate from the ipykernel package so we can avoid doing imports until\n",
      "/opt/conda/lib/python3.7/site-packages/ipykernel_launcher.py:3: RuntimeWarning: invalid value encountered in log\n",
      "  This is separate from the ipykernel package so we can avoid doing imports until\n",
      "/opt/conda/lib/python3.7/site-packages/ipykernel_launcher.py:3: RuntimeWarning: invalid value encountered in log\n",
      "  This is separate from the ipykernel package so we can avoid doing imports until\n",
      "/opt/conda/lib/python3.7/site-packages/ipykernel_launcher.py:3: RuntimeWarning: invalid value encountered in log\n",
      "  This is separate from the ipykernel package so we can avoid doing imports until\n",
      "/opt/conda/lib/python3.7/site-packages/ipykernel_launcher.py:3: RuntimeWarning: invalid value encountered in log\n",
      "  This is separate from the ipykernel package so we can avoid doing imports until\n",
      "/opt/conda/lib/python3.7/site-packages/ipykernel_launcher.py:3: RuntimeWarning: invalid value encountered in log\n",
      "  This is separate from the ipykernel package so we can avoid doing imports until\n",
      "/opt/conda/lib/python3.7/site-packages/ipykernel_launcher.py:3: RuntimeWarning: invalid value encountered in log\n",
      "  This is separate from the ipykernel package so we can avoid doing imports until\n",
      "/opt/conda/lib/python3.7/site-packages/ipykernel_launcher.py:3: RuntimeWarning: invalid value encountered in log\n",
      "  This is separate from the ipykernel package so we can avoid doing imports until\n",
      "/opt/conda/lib/python3.7/site-packages/ipykernel_launcher.py:3: RuntimeWarning: invalid value encountered in log\n",
      "  This is separate from the ipykernel package so we can avoid doing imports until\n",
      "/opt/conda/lib/python3.7/site-packages/ipykernel_launcher.py:3: RuntimeWarning: invalid value encountered in log\n",
      "  This is separate from the ipykernel package so we can avoid doing imports until\n",
      "/opt/conda/lib/python3.7/site-packages/ipykernel_launcher.py:3: RuntimeWarning: invalid value encountered in log\n",
      "  This is separate from the ipykernel package so we can avoid doing imports until\n",
      "/opt/conda/lib/python3.7/site-packages/ipykernel_launcher.py:3: RuntimeWarning: invalid value encountered in log\n",
      "  This is separate from the ipykernel package so we can avoid doing imports until\n",
      "/opt/conda/lib/python3.7/site-packages/ipykernel_launcher.py:3: RuntimeWarning: invalid value encountered in log\n",
      "  This is separate from the ipykernel package so we can avoid doing imports until\n",
      "/opt/conda/lib/python3.7/site-packages/ipykernel_launcher.py:3: RuntimeWarning: invalid value encountered in log\n",
      "  This is separate from the ipykernel package so we can avoid doing imports until\n",
      "/opt/conda/lib/python3.7/site-packages/ipykernel_launcher.py:3: RuntimeWarning: invalid value encountered in log\n",
      "  This is separate from the ipykernel package so we can avoid doing imports until\n",
      "/opt/conda/lib/python3.7/site-packages/ipykernel_launcher.py:3: RuntimeWarning: invalid value encountered in log\n",
      "  This is separate from the ipykernel package so we can avoid doing imports until\n",
      "/opt/conda/lib/python3.7/site-packages/ipykernel_launcher.py:3: RuntimeWarning: invalid value encountered in log\n",
      "  This is separate from the ipykernel package so we can avoid doing imports until\n",
      "/opt/conda/lib/python3.7/site-packages/ipykernel_launcher.py:3: RuntimeWarning: invalid value encountered in log\n",
      "  This is separate from the ipykernel package so we can avoid doing imports until\n",
      "/opt/conda/lib/python3.7/site-packages/ipykernel_launcher.py:3: RuntimeWarning: invalid value encountered in log\n",
      "  This is separate from the ipykernel package so we can avoid doing imports until\n",
      "/opt/conda/lib/python3.7/site-packages/ipykernel_launcher.py:3: RuntimeWarning: invalid value encountered in log\n",
      "  This is separate from the ipykernel package so we can avoid doing imports until\n",
      "/opt/conda/lib/python3.7/site-packages/ipykernel_launcher.py:3: RuntimeWarning: invalid value encountered in log\n",
      "  This is separate from the ipykernel package so we can avoid doing imports until\n",
      "/opt/conda/lib/python3.7/site-packages/ipykernel_launcher.py:3: RuntimeWarning: invalid value encountered in log\n",
      "  This is separate from the ipykernel package so we can avoid doing imports until\n",
      "/opt/conda/lib/python3.7/site-packages/ipykernel_launcher.py:3: RuntimeWarning: invalid value encountered in log\n",
      "  This is separate from the ipykernel package so we can avoid doing imports until\n",
      "/opt/conda/lib/python3.7/site-packages/ipykernel_launcher.py:3: RuntimeWarning: invalid value encountered in log\n",
      "  This is separate from the ipykernel package so we can avoid doing imports until\n",
      "/opt/conda/lib/python3.7/site-packages/ipykernel_launcher.py:3: RuntimeWarning: invalid value encountered in log\n",
      "  This is separate from the ipykernel package so we can avoid doing imports until\n",
      "/opt/conda/lib/python3.7/site-packages/ipykernel_launcher.py:3: RuntimeWarning: invalid value encountered in log\n",
      "  This is separate from the ipykernel package so we can avoid doing imports until\n",
      "/opt/conda/lib/python3.7/site-packages/ipykernel_launcher.py:3: RuntimeWarning: invalid value encountered in log\n",
      "  This is separate from the ipykernel package so we can avoid doing imports until\n",
      "/opt/conda/lib/python3.7/site-packages/ipykernel_launcher.py:3: RuntimeWarning: invalid value encountered in log\n",
      "  This is separate from the ipykernel package so we can avoid doing imports until\n",
      "/opt/conda/lib/python3.7/site-packages/ipykernel_launcher.py:3: RuntimeWarning: invalid value encountered in log\n",
      "  This is separate from the ipykernel package so we can avoid doing imports until\n",
      "/opt/conda/lib/python3.7/site-packages/ipykernel_launcher.py:3: RuntimeWarning: invalid value encountered in log\n",
      "  This is separate from the ipykernel package so we can avoid doing imports until\n",
      "/opt/conda/lib/python3.7/site-packages/ipykernel_launcher.py:3: RuntimeWarning: invalid value encountered in log\n",
      "  This is separate from the ipykernel package so we can avoid doing imports until\n",
      "/opt/conda/lib/python3.7/site-packages/ipykernel_launcher.py:3: RuntimeWarning: invalid value encountered in log\n",
      "  This is separate from the ipykernel package so we can avoid doing imports until\n",
      "/opt/conda/lib/python3.7/site-packages/ipykernel_launcher.py:3: RuntimeWarning: invalid value encountered in log\n",
      "  This is separate from the ipykernel package so we can avoid doing imports until\n",
      "/opt/conda/lib/python3.7/site-packages/ipykernel_launcher.py:3: RuntimeWarning: invalid value encountered in log\n",
      "  This is separate from the ipykernel package so we can avoid doing imports until\n",
      "/opt/conda/lib/python3.7/site-packages/ipykernel_launcher.py:3: RuntimeWarning: invalid value encountered in log\n",
      "  This is separate from the ipykernel package so we can avoid doing imports until\n",
      "/opt/conda/lib/python3.7/site-packages/ipykernel_launcher.py:3: RuntimeWarning: invalid value encountered in log\n",
      "  This is separate from the ipykernel package so we can avoid doing imports until\n",
      "/opt/conda/lib/python3.7/site-packages/ipykernel_launcher.py:3: RuntimeWarning: invalid value encountered in log\n",
      "  This is separate from the ipykernel package so we can avoid doing imports until\n",
      "/opt/conda/lib/python3.7/site-packages/ipykernel_launcher.py:3: RuntimeWarning: invalid value encountered in log\n",
      "  This is separate from the ipykernel package so we can avoid doing imports until\n",
      "/opt/conda/lib/python3.7/site-packages/ipykernel_launcher.py:3: RuntimeWarning: invalid value encountered in log\n",
      "  This is separate from the ipykernel package so we can avoid doing imports until\n",
      "/opt/conda/lib/python3.7/site-packages/ipykernel_launcher.py:3: RuntimeWarning: invalid value encountered in log\n",
      "  This is separate from the ipykernel package so we can avoid doing imports until\n",
      "/opt/conda/lib/python3.7/site-packages/ipykernel_launcher.py:3: RuntimeWarning: invalid value encountered in log\n",
      "  This is separate from the ipykernel package so we can avoid doing imports until\n",
      "/opt/conda/lib/python3.7/site-packages/ipykernel_launcher.py:3: RuntimeWarning: invalid value encountered in log\n",
      "  This is separate from the ipykernel package so we can avoid doing imports until\n",
      "/opt/conda/lib/python3.7/site-packages/ipykernel_launcher.py:3: RuntimeWarning: invalid value encountered in log\n",
      "  This is separate from the ipykernel package so we can avoid doing imports until\n",
      "/opt/conda/lib/python3.7/site-packages/ipykernel_launcher.py:3: RuntimeWarning: invalid value encountered in log\n",
      "  This is separate from the ipykernel package so we can avoid doing imports until\n",
      "/opt/conda/lib/python3.7/site-packages/ipykernel_launcher.py:3: RuntimeWarning: invalid value encountered in log\n",
      "  This is separate from the ipykernel package so we can avoid doing imports until\n",
      "/opt/conda/lib/python3.7/site-packages/ipykernel_launcher.py:3: RuntimeWarning: invalid value encountered in log\n",
      "  This is separate from the ipykernel package so we can avoid doing imports until\n",
      "/opt/conda/lib/python3.7/site-packages/ipykernel_launcher.py:3: RuntimeWarning: invalid value encountered in log\n",
      "  This is separate from the ipykernel package so we can avoid doing imports until\n",
      "/opt/conda/lib/python3.7/site-packages/ipykernel_launcher.py:3: RuntimeWarning: invalid value encountered in log\n",
      "  This is separate from the ipykernel package so we can avoid doing imports until\n",
      "/opt/conda/lib/python3.7/site-packages/ipykernel_launcher.py:3: RuntimeWarning: invalid value encountered in log\n",
      "  This is separate from the ipykernel package so we can avoid doing imports until\n",
      "/opt/conda/lib/python3.7/site-packages/ipykernel_launcher.py:3: RuntimeWarning: invalid value encountered in log\n",
      "  This is separate from the ipykernel package so we can avoid doing imports until\n",
      "/opt/conda/lib/python3.7/site-packages/ipykernel_launcher.py:3: RuntimeWarning: invalid value encountered in log\n",
      "  This is separate from the ipykernel package so we can avoid doing imports until\n",
      "/opt/conda/lib/python3.7/site-packages/ipykernel_launcher.py:3: RuntimeWarning: invalid value encountered in log\n",
      "  This is separate from the ipykernel package so we can avoid doing imports until\n",
      "/opt/conda/lib/python3.7/site-packages/ipykernel_launcher.py:3: RuntimeWarning: invalid value encountered in log\n",
      "  This is separate from the ipykernel package so we can avoid doing imports until\n",
      "/opt/conda/lib/python3.7/site-packages/ipykernel_launcher.py:3: RuntimeWarning: invalid value encountered in log\n",
      "  This is separate from the ipykernel package so we can avoid doing imports until\n",
      "/opt/conda/lib/python3.7/site-packages/ipykernel_launcher.py:3: RuntimeWarning: invalid value encountered in log\n",
      "  This is separate from the ipykernel package so we can avoid doing imports until\n",
      "/opt/conda/lib/python3.7/site-packages/ipykernel_launcher.py:3: RuntimeWarning: invalid value encountered in log\n",
      "  This is separate from the ipykernel package so we can avoid doing imports until\n",
      "/opt/conda/lib/python3.7/site-packages/ipykernel_launcher.py:3: RuntimeWarning: invalid value encountered in log\n",
      "  This is separate from the ipykernel package so we can avoid doing imports until\n",
      "/opt/conda/lib/python3.7/site-packages/ipykernel_launcher.py:3: RuntimeWarning: invalid value encountered in log\n",
      "  This is separate from the ipykernel package so we can avoid doing imports until\n",
      "/opt/conda/lib/python3.7/site-packages/ipykernel_launcher.py:3: RuntimeWarning: invalid value encountered in log\n",
      "  This is separate from the ipykernel package so we can avoid doing imports until\n",
      "/opt/conda/lib/python3.7/site-packages/ipykernel_launcher.py:3: RuntimeWarning: invalid value encountered in log\n",
      "  This is separate from the ipykernel package so we can avoid doing imports until\n",
      "/opt/conda/lib/python3.7/site-packages/ipykernel_launcher.py:3: RuntimeWarning: invalid value encountered in log\n",
      "  This is separate from the ipykernel package so we can avoid doing imports until\n",
      "/opt/conda/lib/python3.7/site-packages/ipykernel_launcher.py:3: RuntimeWarning: invalid value encountered in log\n",
      "  This is separate from the ipykernel package so we can avoid doing imports until\n",
      "/opt/conda/lib/python3.7/site-packages/ipykernel_launcher.py:3: RuntimeWarning: invalid value encountered in log\n",
      "  This is separate from the ipykernel package so we can avoid doing imports until\n",
      "/opt/conda/lib/python3.7/site-packages/ipykernel_launcher.py:3: RuntimeWarning: invalid value encountered in log\n",
      "  This is separate from the ipykernel package so we can avoid doing imports until\n",
      "/opt/conda/lib/python3.7/site-packages/ipykernel_launcher.py:3: RuntimeWarning: invalid value encountered in log\n",
      "  This is separate from the ipykernel package so we can avoid doing imports until\n",
      "/opt/conda/lib/python3.7/site-packages/ipykernel_launcher.py:3: RuntimeWarning: invalid value encountered in log\n",
      "  This is separate from the ipykernel package so we can avoid doing imports until\n",
      "/opt/conda/lib/python3.7/site-packages/ipykernel_launcher.py:3: RuntimeWarning: invalid value encountered in log\n",
      "  This is separate from the ipykernel package so we can avoid doing imports until\n",
      "/opt/conda/lib/python3.7/site-packages/ipykernel_launcher.py:3: RuntimeWarning: invalid value encountered in log\n",
      "  This is separate from the ipykernel package so we can avoid doing imports until\n",
      "/opt/conda/lib/python3.7/site-packages/ipykernel_launcher.py:3: RuntimeWarning: invalid value encountered in log\n",
      "  This is separate from the ipykernel package so we can avoid doing imports until\n",
      "/opt/conda/lib/python3.7/site-packages/ipykernel_launcher.py:3: RuntimeWarning: invalid value encountered in log\n",
      "  This is separate from the ipykernel package so we can avoid doing imports until\n",
      "/opt/conda/lib/python3.7/site-packages/ipykernel_launcher.py:3: RuntimeWarning: invalid value encountered in log\n",
      "  This is separate from the ipykernel package so we can avoid doing imports until\n",
      "/opt/conda/lib/python3.7/site-packages/ipykernel_launcher.py:3: RuntimeWarning: invalid value encountered in log\n",
      "  This is separate from the ipykernel package so we can avoid doing imports until\n",
      "/opt/conda/lib/python3.7/site-packages/ipykernel_launcher.py:3: RuntimeWarning: invalid value encountered in log\n",
      "  This is separate from the ipykernel package so we can avoid doing imports until\n",
      "/opt/conda/lib/python3.7/site-packages/ipykernel_launcher.py:3: RuntimeWarning: invalid value encountered in log\n",
      "  This is separate from the ipykernel package so we can avoid doing imports until\n",
      "/opt/conda/lib/python3.7/site-packages/ipykernel_launcher.py:3: RuntimeWarning: invalid value encountered in log\n",
      "  This is separate from the ipykernel package so we can avoid doing imports until\n",
      "/opt/conda/lib/python3.7/site-packages/ipykernel_launcher.py:3: RuntimeWarning: invalid value encountered in log\n",
      "  This is separate from the ipykernel package so we can avoid doing imports until\n",
      "/opt/conda/lib/python3.7/site-packages/ipykernel_launcher.py:3: RuntimeWarning: invalid value encountered in log\n",
      "  This is separate from the ipykernel package so we can avoid doing imports until\n",
      "/opt/conda/lib/python3.7/site-packages/ipykernel_launcher.py:3: RuntimeWarning: invalid value encountered in log\n",
      "  This is separate from the ipykernel package so we can avoid doing imports until\n",
      "/opt/conda/lib/python3.7/site-packages/ipykernel_launcher.py:3: RuntimeWarning: invalid value encountered in log\n",
      "  This is separate from the ipykernel package so we can avoid doing imports until\n",
      "/opt/conda/lib/python3.7/site-packages/ipykernel_launcher.py:3: RuntimeWarning: invalid value encountered in log\n",
      "  This is separate from the ipykernel package so we can avoid doing imports until\n",
      "/opt/conda/lib/python3.7/site-packages/ipykernel_launcher.py:3: RuntimeWarning: invalid value encountered in log\n",
      "  This is separate from the ipykernel package so we can avoid doing imports until\n",
      "/opt/conda/lib/python3.7/site-packages/ipykernel_launcher.py:3: RuntimeWarning: invalid value encountered in log\n",
      "  This is separate from the ipykernel package so we can avoid doing imports until\n",
      "/opt/conda/lib/python3.7/site-packages/ipykernel_launcher.py:3: RuntimeWarning: invalid value encountered in log\n",
      "  This is separate from the ipykernel package so we can avoid doing imports until\n",
      "/opt/conda/lib/python3.7/site-packages/ipykernel_launcher.py:3: RuntimeWarning: invalid value encountered in log\n",
      "  This is separate from the ipykernel package so we can avoid doing imports until\n",
      "/opt/conda/lib/python3.7/site-packages/ipykernel_launcher.py:3: RuntimeWarning: invalid value encountered in log\n",
      "  This is separate from the ipykernel package so we can avoid doing imports until\n",
      "/opt/conda/lib/python3.7/site-packages/ipykernel_launcher.py:3: RuntimeWarning: invalid value encountered in log\n",
      "  This is separate from the ipykernel package so we can avoid doing imports until\n",
      "/opt/conda/lib/python3.7/site-packages/ipykernel_launcher.py:3: RuntimeWarning: invalid value encountered in log\n",
      "  This is separate from the ipykernel package so we can avoid doing imports until\n",
      "/opt/conda/lib/python3.7/site-packages/ipykernel_launcher.py:3: RuntimeWarning: invalid value encountered in log\n",
      "  This is separate from the ipykernel package so we can avoid doing imports until\n",
      "/opt/conda/lib/python3.7/site-packages/ipykernel_launcher.py:3: RuntimeWarning: invalid value encountered in log\n",
      "  This is separate from the ipykernel package so we can avoid doing imports until\n",
      "/opt/conda/lib/python3.7/site-packages/ipykernel_launcher.py:3: RuntimeWarning: invalid value encountered in log\n",
      "  This is separate from the ipykernel package so we can avoid doing imports until\n",
      "/opt/conda/lib/python3.7/site-packages/ipykernel_launcher.py:3: RuntimeWarning: invalid value encountered in log\n",
      "  This is separate from the ipykernel package so we can avoid doing imports until\n",
      "/opt/conda/lib/python3.7/site-packages/ipykernel_launcher.py:3: RuntimeWarning: invalid value encountered in log\n",
      "  This is separate from the ipykernel package so we can avoid doing imports until\n",
      "/opt/conda/lib/python3.7/site-packages/ipykernel_launcher.py:3: RuntimeWarning: invalid value encountered in log\n",
      "  This is separate from the ipykernel package so we can avoid doing imports until\n"
     ]
    }
   ],
   "source": [
    "from sklearn.linear_model import LinearRegression, Ridge, Lasso\n",
    "from sklearn.preprocessing import StandardScaler\n",
    "from sklearn.model_selection import KFold\n",
    "import datetime\n",
    "\n",
    "kf = KFold(n_splits=10) # KFold를 사용해 10번 train_set를 나눠줌\n",
    "\n",
    "y = train_df[\"count\"].values\n",
    "final_output = []\n",
    "models = []\n",
    "\n",
    "print(len(variable_combinations))\n",
    "ts = datetime.datetime.now()\n",
    "for i, combination in enumerate(variable_combinations):\n",
    "    lr = LinearRegression(n_jobs=8)\n",
    "    ridge = Ridge()\n",
    "    lasso = Lasso()\n",
    "    \n",
    "    lr_result = []\n",
    "    ridge_result = []\n",
    "    lasso_result = []\n",
    "    \n",
    "    target_df = pre_df[combination]\n",
    "    ALL = target_df.values\n",
    "    std = StandardScaler()\n",
    "    std.fit(ALL)\n",
    "    ALL_scaled = std.transform(ALL)\n",
    "    X = ALL_scaled[train_index]\n",
    "    \n",
    "    for train_data_index, test_data_index in kf.split(X):\n",
    "        X_train = X[train_data_index]\n",
    "        X_test = X[test_data_index]\n",
    "        y_train = y[train_data_index]\n",
    "        y_test = y[test_data_index]\n",
    "        \n",
    "        lr.fit(X_train, y_train)\n",
    "        result = rmsle(y_test, lr.predict(X_test))\n",
    "        lr_result.append(result)\n",
    "\n",
    "        ridge.fit(X_train, y_train)\n",
    "        result = rmsle(y_test, ridge.predict(X_test))\n",
    "        ridge_result.append(result)\n",
    "\n",
    "        lasso.fit(X_train, y_train)\n",
    "        result = rmsle(y_test, lasso.predict(X_test))\n",
    "        lasso_result.append(result)\n",
    "    \n",
    "    final_output.append([i, np.mean(lr_result), np.mean(ridge_result), np.mean(lasso_result)])\n",
    "    models.append([lr, ridge, lasso])\n",
    "    \n",
    "    # 100번이 돌아갈 때마다 걸린 시간 찍어줌\n",
    "    # 언제쯤 모델이 완성될까 .. 감을 잡아줌\n",
    "    if i % 100 == 0:\n",
    "        tf = datetime.datetime.now()\n",
    "        te = tf - ts  \n",
    "        print(i, te)\n",
    "        ts = datetime.datetime.now()"
   ]
  },
  {
   "cell_type": "code",
   "execution_count": 46,
   "id": "3e46ddc4",
   "metadata": {
    "execution": {
     "iopub.execute_input": "2021-08-18T08:52:44.570398Z",
     "iopub.status.busy": "2021-08-18T08:52:44.569537Z",
     "iopub.status.idle": "2021-08-18T08:52:44.573295Z",
     "shell.execute_reply": "2021-08-18T08:52:44.573729Z",
     "shell.execute_reply.started": "2021-08-18T08:48:28.304121Z"
    },
    "papermill": {
     "duration": 0.079964,
     "end_time": "2021-08-18T08:52:44.573895",
     "exception": false,
     "start_time": "2021-08-18T08:52:44.493931",
     "status": "completed"
    },
    "tags": []
   },
   "outputs": [
    {
     "data": {
      "text/html": [
       "<div>\n",
       "<style scoped>\n",
       "    .dataframe tbody tr th:only-of-type {\n",
       "        vertical-align: middle;\n",
       "    }\n",
       "\n",
       "    .dataframe tbody tr th {\n",
       "        vertical-align: top;\n",
       "    }\n",
       "\n",
       "    .dataframe thead th {\n",
       "        text-align: right;\n",
       "    }\n",
       "</style>\n",
       "<table border=\"1\" class=\"dataframe\">\n",
       "  <thead>\n",
       "    <tr style=\"text-align: right;\">\n",
       "      <th></th>\n",
       "      <th>combination</th>\n",
       "      <th>lr</th>\n",
       "      <th>ridge</th>\n",
       "      <th>lasso</th>\n",
       "    </tr>\n",
       "  </thead>\n",
       "  <tbody>\n",
       "    <tr>\n",
       "      <th>0</th>\n",
       "      <td>0</td>\n",
       "      <td>1.337135</td>\n",
       "      <td>1.322300</td>\n",
       "      <td>1.303500</td>\n",
       "    </tr>\n",
       "    <tr>\n",
       "      <th>1</th>\n",
       "      <td>1</td>\n",
       "      <td>1.323790</td>\n",
       "      <td>1.323741</td>\n",
       "      <td>1.309643</td>\n",
       "    </tr>\n",
       "    <tr>\n",
       "      <th>2</th>\n",
       "      <td>2</td>\n",
       "      <td>1.344359</td>\n",
       "      <td>1.322538</td>\n",
       "      <td>1.309016</td>\n",
       "    </tr>\n",
       "    <tr>\n",
       "      <th>3</th>\n",
       "      <td>3</td>\n",
       "      <td>1.471683</td>\n",
       "      <td>1.461893</td>\n",
       "      <td>1.435222</td>\n",
       "    </tr>\n",
       "    <tr>\n",
       "      <th>4</th>\n",
       "      <td>4</td>\n",
       "      <td>1.327257</td>\n",
       "      <td>1.316650</td>\n",
       "      <td>1.305703</td>\n",
       "    </tr>\n",
       "  </tbody>\n",
       "</table>\n",
       "</div>"
      ],
      "text/plain": [
       "   combination        lr     ridge     lasso\n",
       "0            0  1.337135  1.322300  1.303500\n",
       "1            1  1.323790  1.323741  1.309643\n",
       "2            2  1.344359  1.322538  1.309016\n",
       "3            3  1.471683  1.461893  1.435222\n",
       "4            4  1.327257  1.316650  1.305703"
      ]
     },
     "execution_count": 46,
     "metadata": {},
     "output_type": "execute_result"
    }
   ],
   "source": [
    "labels = [\"combination\", \"lr\", \"ridge\", \"lasso\"]\n",
    "\n",
    "from pandas import DataFrame\n",
    "result_df = DataFrame(final_output, columns=labels)\n",
    "result_df.head()"
   ]
  },
  {
   "cell_type": "code",
   "execution_count": 47,
   "id": "e0e0e710",
   "metadata": {
    "execution": {
     "iopub.execute_input": "2021-08-18T08:52:44.710231Z",
     "iopub.status.busy": "2021-08-18T08:52:44.709369Z",
     "iopub.status.idle": "2021-08-18T08:52:44.713576Z",
     "shell.execute_reply": "2021-08-18T08:52:44.713113Z",
     "shell.execute_reply.started": "2021-08-18T08:48:29.288901Z"
    },
    "papermill": {
     "duration": 0.075839,
     "end_time": "2021-08-18T08:52:44.713711",
     "exception": false,
     "start_time": "2021-08-18T08:52:44.637872",
     "status": "completed"
    },
    "tags": []
   },
   "outputs": [
    {
     "data": {
      "text/plain": [
       "combination    0.000000\n",
       "lr             1.319502\n",
       "ridge          1.316650\n",
       "lasso          1.303500\n",
       "dtype: float64"
      ]
     },
     "execution_count": 47,
     "metadata": {},
     "output_type": "execute_result"
    }
   ],
   "source": [
    "result_df.min()"
   ]
  },
  {
   "cell_type": "code",
   "execution_count": 48,
   "id": "ac0cc35c",
   "metadata": {
    "execution": {
     "iopub.execute_input": "2021-08-18T08:52:44.849982Z",
     "iopub.status.busy": "2021-08-18T08:52:44.849347Z",
     "iopub.status.idle": "2021-08-18T08:52:44.852987Z",
     "shell.execute_reply": "2021-08-18T08:52:44.853400Z",
     "shell.execute_reply.started": "2021-08-18T08:48:30.608277Z"
    },
    "papermill": {
     "duration": 0.074636,
     "end_time": "2021-08-18T08:52:44.853583",
     "exception": false,
     "start_time": "2021-08-18T08:52:44.778947",
     "status": "completed"
    },
    "tags": []
   },
   "outputs": [
    {
     "data": {
      "text/plain": [
       "0     1.303500\n",
       "14    1.304744\n",
       "12    1.305013\n",
       "4     1.305703\n",
       "11    1.305956\n",
       "Name: lasso, dtype: float64"
      ]
     },
     "execution_count": 48,
     "metadata": {},
     "output_type": "execute_result"
    }
   ],
   "source": [
    "result_df[\"lasso\"].sort_values().head()"
   ]
  },
  {
   "cell_type": "code",
   "execution_count": 49,
   "id": "35dcb1a9",
   "metadata": {
    "execution": {
     "iopub.execute_input": "2021-08-18T08:52:44.986010Z",
     "iopub.status.busy": "2021-08-18T08:52:44.985381Z",
     "iopub.status.idle": "2021-08-18T08:52:44.990228Z",
     "shell.execute_reply": "2021-08-18T08:52:44.990722Z",
     "shell.execute_reply.started": "2021-08-18T08:48:32.660373Z"
    },
    "papermill": {
     "duration": 0.072714,
     "end_time": "2021-08-18T08:52:44.990889",
     "exception": false,
     "start_time": "2021-08-18T08:52:44.918175",
     "status": "completed"
    },
    "tags": []
   },
   "outputs": [
    {
     "data": {
      "text/plain": [
       "['temp',\n",
       " 'humidity',\n",
       " 'windspeed',\n",
       " 'atemp',\n",
       " 'season',\n",
       " 'holiday',\n",
       " 'workingday',\n",
       " 'weather',\n",
       " 'weekday',\n",
       " 'month',\n",
       " 'year',\n",
       " 'hour',\n",
       " 'season_1',\n",
       " 'season_2',\n",
       " 'season_3',\n",
       " 'season_4',\n",
       " 'weather_1',\n",
       " 'weather_2',\n",
       " 'weather_3',\n",
       " 'weather_4']"
      ]
     },
     "execution_count": 49,
     "metadata": {},
     "output_type": "execute_result"
    }
   ],
   "source": [
    "variable_combinations[0]"
   ]
  },
  {
   "cell_type": "code",
   "execution_count": 50,
   "id": "2f06ca1d",
   "metadata": {
    "execution": {
     "iopub.execute_input": "2021-08-18T08:52:45.125276Z",
     "iopub.status.busy": "2021-08-18T08:52:45.124314Z",
     "iopub.status.idle": "2021-08-18T08:52:45.145525Z",
     "shell.execute_reply": "2021-08-18T08:52:45.145991Z",
     "shell.execute_reply.started": "2021-08-18T08:48:34.094637Z"
    },
    "papermill": {
     "duration": 0.090002,
     "end_time": "2021-08-18T08:52:45.146155",
     "exception": false,
     "start_time": "2021-08-18T08:52:45.056153",
     "status": "completed"
    },
    "tags": []
   },
   "outputs": [
    {
     "data": {
      "text/plain": [
       "(6493, 20)"
      ]
     },
     "execution_count": 50,
     "metadata": {},
     "output_type": "execute_result"
    }
   ],
   "source": [
    "target_df = pre_df[variable_combinations[0]]\n",
    "ALL = target_df.values\n",
    "std = StandardScaler()\n",
    "std.fit(ALL)\n",
    "ALL_scaled = std.transform(ALL)\n",
    "X_submission_test = ALL_scaled[test_index] # test_index 값 넣어주기\n",
    "X_submission_test.shape"
   ]
  },
  {
   "cell_type": "code",
   "execution_count": 51,
   "id": "75b5d7ee",
   "metadata": {
    "execution": {
     "iopub.execute_input": "2021-08-18T08:52:45.282258Z",
     "iopub.status.busy": "2021-08-18T08:52:45.281281Z",
     "iopub.status.idle": "2021-08-18T08:52:45.287135Z",
     "shell.execute_reply": "2021-08-18T08:52:45.287604Z",
     "shell.execute_reply.started": "2021-08-18T08:48:34.752284Z"
    },
    "papermill": {
     "duration": 0.074734,
     "end_time": "2021-08-18T08:52:45.287770",
     "exception": false,
     "start_time": "2021-08-18T08:52:45.213036",
     "status": "completed"
    },
    "tags": []
   },
   "outputs": [
    {
     "data": {
      "text/plain": [
       "array([[-1.23077877, -0.34847267,  1.61850352, ..., -0.59500584,\n",
       "        -0.29817742, -0.01313971],\n",
       "       [-1.23077877, -0.34847267, -1.55388851, ..., -0.59500584,\n",
       "        -0.29817742, -0.01313971],\n",
       "       [-1.23077877, -0.34847267, -1.55388851, ..., -0.59500584,\n",
       "        -0.29817742, -0.01313971],\n",
       "       ...,\n",
       "       [-1.23077877, -0.14113744, -0.21169121, ..., -0.59500584,\n",
       "        -0.29817742, -0.01313971],\n",
       "       [-1.23077877, -0.34847267, -0.45609864, ..., -0.59500584,\n",
       "        -0.29817742, -0.01313971],\n",
       "       [-1.23077877,  0.11803159, -0.45609864, ..., -0.59500584,\n",
       "        -0.29817742, -0.01313971]])"
      ]
     },
     "execution_count": 51,
     "metadata": {},
     "output_type": "execute_result"
    }
   ],
   "source": [
    "X_submission_test"
   ]
  },
  {
   "cell_type": "code",
   "execution_count": 52,
   "id": "9b523d35",
   "metadata": {
    "execution": {
     "iopub.execute_input": "2021-08-18T08:52:45.423921Z",
     "iopub.status.busy": "2021-08-18T08:52:45.422935Z",
     "iopub.status.idle": "2021-08-18T08:52:45.431877Z",
     "shell.execute_reply": "2021-08-18T08:52:45.431237Z",
     "shell.execute_reply.started": "2021-08-18T08:48:36.152917Z"
    },
    "papermill": {
     "duration": 0.079085,
     "end_time": "2021-08-18T08:52:45.432031",
     "exception": false,
     "start_time": "2021-08-18T08:52:45.352946",
     "status": "completed"
    },
    "tags": []
   },
   "outputs": [
    {
     "data": {
      "text/plain": [
       "Lasso()"
      ]
     },
     "execution_count": 52,
     "metadata": {},
     "output_type": "execute_result"
    }
   ],
   "source": [
    "models[0][2]"
   ]
  },
  {
   "cell_type": "code",
   "execution_count": 53,
   "id": "4c5f0fff",
   "metadata": {
    "execution": {
     "iopub.execute_input": "2021-08-18T08:52:45.567087Z",
     "iopub.status.busy": "2021-08-18T08:52:45.566136Z",
     "iopub.status.idle": "2021-08-18T08:52:45.576578Z",
     "shell.execute_reply": "2021-08-18T08:52:45.577399Z",
     "shell.execute_reply.started": "2021-08-18T08:48:36.858467Z"
    },
    "papermill": {
     "duration": 0.080047,
     "end_time": "2021-08-18T08:52:45.577685",
     "exception": false,
     "start_time": "2021-08-18T08:52:45.497638",
     "status": "completed"
    },
    "tags": []
   },
   "outputs": [],
   "source": [
    "final_result = models[0][2].predict(X_submission_test)\n",
    "final_result[final_result < 0] = 0"
   ]
  },
  {
   "cell_type": "code",
   "execution_count": 54,
   "id": "c92cd59a",
   "metadata": {
    "execution": {
     "iopub.execute_input": "2021-08-18T08:52:45.766265Z",
     "iopub.status.busy": "2021-08-18T08:52:45.765596Z",
     "iopub.status.idle": "2021-08-18T08:52:45.768083Z",
     "shell.execute_reply": "2021-08-18T08:52:45.768550Z",
     "shell.execute_reply.started": "2021-08-18T08:48:37.662657Z"
    },
    "papermill": {
     "duration": 0.073046,
     "end_time": "2021-08-18T08:52:45.768717",
     "exception": false,
     "start_time": "2021-08-18T08:52:45.695671",
     "status": "completed"
    },
    "tags": []
   },
   "outputs": [
    {
     "data": {
      "text/plain": [
       "array([  0.        ,   0.        ,   0.        , ..., 283.34765875,\n",
       "       298.95158826, 290.11400255])"
      ]
     },
     "execution_count": 54,
     "metadata": {},
     "output_type": "execute_result"
    }
   ],
   "source": [
    "final_result"
   ]
  },
  {
   "cell_type": "code",
   "execution_count": 55,
   "id": "0de370e6",
   "metadata": {
    "execution": {
     "iopub.execute_input": "2021-08-18T08:52:45.904165Z",
     "iopub.status.busy": "2021-08-18T08:52:45.903600Z",
     "iopub.status.idle": "2021-08-18T08:52:45.914662Z",
     "shell.execute_reply": "2021-08-18T08:52:45.914117Z",
     "shell.execute_reply.started": "2021-08-18T08:48:38.400088Z"
    },
    "papermill": {
     "duration": 0.08058,
     "end_time": "2021-08-18T08:52:45.914795",
     "exception": false,
     "start_time": "2021-08-18T08:52:45.834215",
     "status": "completed"
    },
    "tags": []
   },
   "outputs": [
    {
     "data": {
      "text/plain": [
       "10886   2011-01-20 00:00:00\n",
       "10887   2011-01-20 01:00:00\n",
       "10888   2011-01-20 02:00:00\n",
       "10889   2011-01-20 03:00:00\n",
       "10890   2011-01-20 04:00:00\n",
       "Name: datetime, dtype: datetime64[ns]"
      ]
     },
     "execution_count": 55,
     "metadata": {},
     "output_type": "execute_result"
    }
   ],
   "source": [
    "pre_df.iloc[test_index][\"datetime\"].head()"
   ]
  },
  {
   "cell_type": "code",
   "execution_count": 56,
   "id": "023b2b9f",
   "metadata": {
    "execution": {
     "iopub.execute_input": "2021-08-18T08:52:46.053962Z",
     "iopub.status.busy": "2021-08-18T08:52:46.053357Z",
     "iopub.status.idle": "2021-08-18T08:52:46.074906Z",
     "shell.execute_reply": "2021-08-18T08:52:46.075511Z",
     "shell.execute_reply.started": "2021-08-18T08:48:57.216631Z"
    },
    "papermill": {
     "duration": 0.094004,
     "end_time": "2021-08-18T08:52:46.075681",
     "exception": false,
     "start_time": "2021-08-18T08:52:45.981677",
     "status": "completed"
    },
    "tags": []
   },
   "outputs": [
    {
     "data": {
      "text/html": [
       "<div>\n",
       "<style scoped>\n",
       "    .dataframe tbody tr th:only-of-type {\n",
       "        vertical-align: middle;\n",
       "    }\n",
       "\n",
       "    .dataframe tbody tr th {\n",
       "        vertical-align: top;\n",
       "    }\n",
       "\n",
       "    .dataframe thead th {\n",
       "        text-align: right;\n",
       "    }\n",
       "</style>\n",
       "<table border=\"1\" class=\"dataframe\">\n",
       "  <thead>\n",
       "    <tr style=\"text-align: right;\">\n",
       "      <th></th>\n",
       "      <th>datetime</th>\n",
       "      <th>count</th>\n",
       "    </tr>\n",
       "  </thead>\n",
       "  <tbody>\n",
       "    <tr>\n",
       "      <th>10886</th>\n",
       "      <td>2011-01-20 00:00:00</td>\n",
       "      <td>0.0</td>\n",
       "    </tr>\n",
       "    <tr>\n",
       "      <th>10887</th>\n",
       "      <td>2011-01-20 01:00:00</td>\n",
       "      <td>0.0</td>\n",
       "    </tr>\n",
       "    <tr>\n",
       "      <th>10888</th>\n",
       "      <td>2011-01-20 02:00:00</td>\n",
       "      <td>0.0</td>\n",
       "    </tr>\n",
       "    <tr>\n",
       "      <th>10889</th>\n",
       "      <td>2011-01-20 03:00:00</td>\n",
       "      <td>0.0</td>\n",
       "    </tr>\n",
       "    <tr>\n",
       "      <th>10890</th>\n",
       "      <td>2011-01-20 04:00:00</td>\n",
       "      <td>0.0</td>\n",
       "    </tr>\n",
       "  </tbody>\n",
       "</table>\n",
       "</div>"
      ],
      "text/plain": [
       "                 datetime  count\n",
       "10886 2011-01-20 00:00:00    0.0\n",
       "10887 2011-01-20 01:00:00    0.0\n",
       "10888 2011-01-20 02:00:00    0.0\n",
       "10889 2011-01-20 03:00:00    0.0\n",
       "10890 2011-01-20 04:00:00    0.0"
      ]
     },
     "execution_count": 56,
     "metadata": {},
     "output_type": "execute_result"
    }
   ],
   "source": [
    "data = {\"datetime\": pre_df.iloc[test_index][\"datetime\"], \"count\": final_result}\n",
    "df_submission = DataFrame(data, columns=[\"datetime\", \"count\"])\n",
    "df_submission.head()"
   ]
  },
  {
   "cell_type": "code",
   "execution_count": 57,
   "id": "bd44e5e0",
   "metadata": {
    "execution": {
     "iopub.execute_input": "2021-08-18T08:52:46.213043Z",
     "iopub.status.busy": "2021-08-18T08:52:46.212478Z",
     "iopub.status.idle": "2021-08-18T08:52:46.244485Z",
     "shell.execute_reply": "2021-08-18T08:52:46.243837Z",
     "shell.execute_reply.started": "2021-08-18T08:49:19.444394Z"
    },
    "papermill": {
     "duration": 0.102415,
     "end_time": "2021-08-18T08:52:46.244635",
     "exception": false,
     "start_time": "2021-08-18T08:52:46.142220",
     "status": "completed"
    },
    "tags": []
   },
   "outputs": [],
   "source": [
    "df_submission.set_index(\"datetime\").to_csv(\"submission_lasso_data_re.csv\")"
   ]
  },
  {
   "cell_type": "code",
   "execution_count": null,
   "id": "505a04ed",
   "metadata": {
    "papermill": {
     "duration": 0.066334,
     "end_time": "2021-08-18T08:52:46.377857",
     "exception": false,
     "start_time": "2021-08-18T08:52:46.311523",
     "status": "completed"
    },
    "tags": []
   },
   "outputs": [],
   "source": []
  },
  {
   "cell_type": "code",
   "execution_count": null,
   "id": "fab328a0",
   "metadata": {
    "papermill": {
     "duration": 0.116556,
     "end_time": "2021-08-18T08:52:46.560649",
     "exception": false,
     "start_time": "2021-08-18T08:52:46.444093",
     "status": "completed"
    },
    "tags": []
   },
   "outputs": [],
   "source": []
  },
  {
   "cell_type": "code",
   "execution_count": null,
   "id": "b11d2b48",
   "metadata": {
    "papermill": {
     "duration": 0.066218,
     "end_time": "2021-08-18T08:52:46.693284",
     "exception": false,
     "start_time": "2021-08-18T08:52:46.627066",
     "status": "completed"
    },
    "tags": []
   },
   "outputs": [],
   "source": []
  },
  {
   "cell_type": "code",
   "execution_count": null,
   "id": "c8c09593",
   "metadata": {
    "papermill": {
     "duration": 0.066319,
     "end_time": "2021-08-18T08:52:46.826027",
     "exception": false,
     "start_time": "2021-08-18T08:52:46.759708",
     "status": "completed"
    },
    "tags": []
   },
   "outputs": [],
   "source": []
  },
  {
   "cell_type": "code",
   "execution_count": null,
   "id": "2566fc1a",
   "metadata": {
    "papermill": {
     "duration": 0.067575,
     "end_time": "2021-08-18T08:52:46.960855",
     "exception": false,
     "start_time": "2021-08-18T08:52:46.893280",
     "status": "completed"
    },
    "tags": []
   },
   "outputs": [],
   "source": []
  }
 ],
 "metadata": {
  "kernelspec": {
   "display_name": "Python 3",
   "language": "python",
   "name": "python3"
  },
  "language_info": {
   "codemirror_mode": {
    "name": "ipython",
    "version": 3
   },
   "file_extension": ".py",
   "mimetype": "text/x-python",
   "name": "python",
   "nbconvert_exporter": "python",
   "pygments_lexer": "ipython3",
   "version": "3.7.10"
  },
  "papermill": {
   "default_parameters": {},
   "duration": 181.878977,
   "end_time": "2021-08-18T08:52:50.198134",
   "environment_variables": {},
   "exception": null,
   "input_path": "__notebook__.ipynb",
   "output_path": "__notebook__.ipynb",
   "parameters": {},
   "start_time": "2021-08-18T08:49:48.319157",
   "version": "2.3.3"
  }
 },
 "nbformat": 4,
 "nbformat_minor": 5
}
