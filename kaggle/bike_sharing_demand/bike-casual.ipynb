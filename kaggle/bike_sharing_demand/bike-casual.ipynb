{
 "cells": [
  {
   "cell_type": "code",
   "execution_count": 1,
   "id": "08de4eef",
   "metadata": {
    "_cell_guid": "b1076dfc-b9ad-4769-8c92-a6c4dae69d19",
    "_uuid": "8f2839f25d086af736a60e9eeb907d3b93b6e0e5",
    "execution": {
     "iopub.execute_input": "2021-08-19T05:59:19.131239Z",
     "iopub.status.busy": "2021-08-19T05:59:19.130450Z",
     "iopub.status.idle": "2021-08-19T05:59:20.276691Z",
     "shell.execute_reply": "2021-08-19T05:59:20.275891Z",
     "shell.execute_reply.started": "2021-08-19T05:17:33.276206Z"
    },
    "papermill": {
     "duration": 1.197172,
     "end_time": "2021-08-19T05:59:20.276857",
     "exception": false,
     "start_time": "2021-08-19T05:59:19.079685",
     "status": "completed"
    },
    "tags": []
   },
   "outputs": [],
   "source": [
    "import pandas as pd\n",
    "import numpy as np\n",
    "import matplotlib as mpl\n",
    "import matplotlib.pyplot as plt\n",
    "import seaborn as sns\n",
    "from scipy import stats\n",
    "\n",
    "# 노트북 안에 그래프를 그리기 위해\n",
    "%matplotlib inline\n",
    "\n",
    "# 그래프에서 격자로 숫자 범위가 눈에 잘 띄도록 ggplot 스타일을 사용\n",
    "plt.style.use('ggplot')\n",
    "\n",
    "import warnings\n",
    "warnings.filterwarnings('ignore')"
   ]
  },
  {
   "cell_type": "code",
   "execution_count": 2,
   "id": "b6f79298",
   "metadata": {
    "execution": {
     "iopub.execute_input": "2021-08-19T05:59:20.355598Z",
     "iopub.status.busy": "2021-08-19T05:59:20.354726Z",
     "iopub.status.idle": "2021-08-19T05:59:20.426916Z",
     "shell.execute_reply": "2021-08-19T05:59:20.427420Z",
     "shell.execute_reply.started": "2021-08-19T05:18:08.479722Z"
    },
    "papermill": {
     "duration": 0.11401,
     "end_time": "2021-08-19T05:59:20.427584",
     "exception": false,
     "start_time": "2021-08-19T05:59:20.313574",
     "status": "completed"
    },
    "tags": []
   },
   "outputs": [
    {
     "name": "stdout",
     "output_type": "stream",
     "text": [
      "(10886, 12)\n",
      "(6493, 9)\n"
     ]
    }
   ],
   "source": [
    "df_train = pd.read_csv(\"../input/bike-sharing-demand/train.csv\", parse_dates=[\"datetime\"])\n",
    "df_test = pd.read_csv(\"../input/bike-sharing-demand/test.csv\", parse_dates=[\"datetime\"])\n",
    "\n",
    "print(df_train.shape)\n",
    "print(df_test.shape)"
   ]
  },
  {
   "cell_type": "markdown",
   "id": "efaaf2ef",
   "metadata": {
    "papermill": {
     "duration": 0.037263,
     "end_time": "2021-08-19T05:59:20.502849",
     "exception": false,
     "start_time": "2021-08-19T05:59:20.465586",
     "status": "completed"
    },
    "tags": []
   },
   "source": [
    "# Feature Engineering\n",
    "\n",
    "- 앞에서 year, month, hour, weekday가 유의미한 feature인 것을 확인함"
   ]
  },
  {
   "cell_type": "code",
   "execution_count": 3,
   "id": "0f7a7b3a",
   "metadata": {
    "execution": {
     "iopub.execute_input": "2021-08-19T05:59:20.579480Z",
     "iopub.status.busy": "2021-08-19T05:59:20.578822Z",
     "iopub.status.idle": "2021-08-19T05:59:20.605549Z",
     "shell.execute_reply": "2021-08-19T05:59:20.604936Z",
     "shell.execute_reply.started": "2021-08-19T05:19:21.347838Z"
    },
    "papermill": {
     "duration": 0.066247,
     "end_time": "2021-08-19T05:59:20.605692",
     "exception": false,
     "start_time": "2021-08-19T05:59:20.539445",
     "status": "completed"
    },
    "tags": []
   },
   "outputs": [
    {
     "data": {
      "text/plain": [
       "(10886, 16)"
      ]
     },
     "execution_count": 3,
     "metadata": {},
     "output_type": "execute_result"
    }
   ],
   "source": [
    "df_train[\"year\"] = df_train[\"datetime\"].dt.year\n",
    "df_train[\"month\"] = df_train[\"datetime\"].dt.month\n",
    "df_train[\"hour\"] = df_train[\"datetime\"].dt.hour\n",
    "df_train[\"weekday\"] = df_train[\"datetime\"].dt.dayofweek\n",
    "\n",
    "df_train.shape"
   ]
  },
  {
   "cell_type": "code",
   "execution_count": 4,
   "id": "10fdbd4f",
   "metadata": {
    "execution": {
     "iopub.execute_input": "2021-08-19T05:59:20.683734Z",
     "iopub.status.busy": "2021-08-19T05:59:20.683040Z",
     "iopub.status.idle": "2021-08-19T05:59:20.695333Z",
     "shell.execute_reply": "2021-08-19T05:59:20.695881Z",
     "shell.execute_reply.started": "2021-08-19T05:19:36.600174Z"
    },
    "papermill": {
     "duration": 0.052702,
     "end_time": "2021-08-19T05:59:20.696045",
     "exception": false,
     "start_time": "2021-08-19T05:59:20.643343",
     "status": "completed"
    },
    "tags": []
   },
   "outputs": [
    {
     "data": {
      "text/plain": [
       "(6493, 13)"
      ]
     },
     "execution_count": 4,
     "metadata": {},
     "output_type": "execute_result"
    }
   ],
   "source": [
    "df_test[\"year\"] = df_test[\"datetime\"].dt.year\n",
    "df_test[\"month\"] = df_test[\"datetime\"].dt.month\n",
    "df_test[\"hour\"] = df_test[\"datetime\"].dt.hour\n",
    "df_test[\"weekday\"] = df_test[\"datetime\"].dt.dayofweek\n",
    "\n",
    "df_test.shape"
   ]
  },
  {
   "cell_type": "code",
   "execution_count": 5,
   "id": "5085c8f7",
   "metadata": {
    "execution": {
     "iopub.execute_input": "2021-08-19T05:59:20.775049Z",
     "iopub.status.busy": "2021-08-19T05:59:20.774411Z",
     "iopub.status.idle": "2021-08-19T05:59:21.274796Z",
     "shell.execute_reply": "2021-08-19T05:59:21.275294Z",
     "shell.execute_reply.started": "2021-08-19T05:22:12.210917Z"
    },
    "papermill": {
     "duration": 0.541477,
     "end_time": "2021-08-19T05:59:21.275482",
     "exception": false,
     "start_time": "2021-08-19T05:59:20.734005",
     "status": "completed"
    },
    "tags": []
   },
   "outputs": [
    {
     "name": "stdout",
     "output_type": "stream",
     "text": [
      "(10886, 9)\n",
      "(10886,)\n",
      "(10886,)\n"
     ]
    }
   ],
   "source": [
    "from sklearn.ensemble import RandomForestRegressor\n",
    "\n",
    "rfModel_wind = RandomForestRegressor()\n",
    "\n",
    "f_columns = [\"season\", \"weather\", \"humidity\", \"month\", \"temp\",\n",
    "             \"year\", \"hour\", \"weekday\", \"atemp\"]\n",
    "\n",
    "# 특정 열을 train 데이터에 추가\n",
    "X_train = df_train[f_columns]\n",
    "y_r_label = df_train[\"registered\"]\n",
    "y_c_label = df_train[\"casual\"]\n",
    "\n",
    "print(X_train.shape)\n",
    "print(y_r_label.shape)\n",
    "print(y_c_label.shape)"
   ]
  },
  {
   "cell_type": "code",
   "execution_count": 6,
   "id": "d2f4ac48",
   "metadata": {
    "execution": {
     "iopub.execute_input": "2021-08-19T05:59:21.356675Z",
     "iopub.status.busy": "2021-08-19T05:59:21.355804Z",
     "iopub.status.idle": "2021-08-19T05:59:21.362442Z",
     "shell.execute_reply": "2021-08-19T05:59:21.362969Z",
     "shell.execute_reply.started": "2021-08-19T05:22:25.883149Z"
    },
    "papermill": {
     "duration": 0.049766,
     "end_time": "2021-08-19T05:59:21.363133",
     "exception": false,
     "start_time": "2021-08-19T05:59:21.313367",
     "status": "completed"
    },
    "tags": []
   },
   "outputs": [
    {
     "data": {
      "text/plain": [
       "(6493, 9)"
      ]
     },
     "execution_count": 6,
     "metadata": {},
     "output_type": "execute_result"
    }
   ],
   "source": [
    "# 마찬가지로 test 데이터에도 추가\n",
    "X_test = df_test[f_columns]\n",
    "X_test.shape"
   ]
  },
  {
   "cell_type": "code",
   "execution_count": 7,
   "id": "1e136312",
   "metadata": {
    "execution": {
     "iopub.execute_input": "2021-08-19T05:59:21.448905Z",
     "iopub.status.busy": "2021-08-19T05:59:21.447839Z",
     "iopub.status.idle": "2021-08-19T05:59:25.109524Z",
     "shell.execute_reply": "2021-08-19T05:59:25.108969Z",
     "shell.execute_reply.started": "2021-08-19T05:22:59.235080Z"
    },
    "papermill": {
     "duration": 3.708308,
     "end_time": "2021-08-19T05:59:25.109676",
     "exception": false,
     "start_time": "2021-08-19T05:59:21.401368",
     "status": "completed"
    },
    "tags": []
   },
   "outputs": [
    {
     "data": {
      "text/plain": [
       "RandomForestRegressor()"
      ]
     },
     "execution_count": 7,
     "metadata": {},
     "output_type": "execute_result"
    }
   ],
   "source": [
    "# train 데이터와 register 데이터 훈련시킴\n",
    "\n",
    "rfModel = RandomForestRegressor()\n",
    "rfModel.fit(X_train, y_r_label)"
   ]
  },
  {
   "cell_type": "code",
   "execution_count": 8,
   "id": "38698512",
   "metadata": {
    "execution": {
     "iopub.execute_input": "2021-08-19T05:59:25.194898Z",
     "iopub.status.busy": "2021-08-19T05:59:25.193923Z",
     "iopub.status.idle": "2021-08-19T05:59:25.322011Z",
     "shell.execute_reply": "2021-08-19T05:59:25.321461Z",
     "shell.execute_reply.started": "2021-08-19T05:23:43.268824Z"
    },
    "papermill": {
     "duration": 0.173677,
     "end_time": "2021-08-19T05:59:25.322157",
     "exception": false,
     "start_time": "2021-08-19T05:59:25.148480",
     "status": "completed"
    },
    "tags": []
   },
   "outputs": [],
   "source": [
    "# 훈련시킨 값으로 test 데이터 예측하기\n",
    "\n",
    "testRegisteredValues = rfModel.predict(X_test)"
   ]
  },
  {
   "cell_type": "code",
   "execution_count": 9,
   "id": "ce14d97d",
   "metadata": {
    "execution": {
     "iopub.execute_input": "2021-08-19T05:59:25.407919Z",
     "iopub.status.busy": "2021-08-19T05:59:25.407186Z",
     "iopub.status.idle": "2021-08-19T05:59:25.410995Z",
     "shell.execute_reply": "2021-08-19T05:59:25.410487Z",
     "shell.execute_reply.started": "2021-08-19T05:24:02.925828Z"
    },
    "papermill": {
     "duration": 0.049374,
     "end_time": "2021-08-19T05:59:25.411132",
     "exception": false,
     "start_time": "2021-08-19T05:59:25.361758",
     "status": "completed"
    },
    "tags": []
   },
   "outputs": [
    {
     "data": {
      "text/plain": [
       "0"
      ]
     },
     "execution_count": 9,
     "metadata": {},
     "output_type": "execute_result"
    }
   ],
   "source": [
    "# 예측한 값 넣어주기\n",
    "\n",
    "df_test[\"registered\"] = testRegisteredValues\n",
    "df_test[\"registered\"].isnull().sum()"
   ]
  },
  {
   "cell_type": "code",
   "execution_count": 10,
   "id": "b63217b8",
   "metadata": {
    "execution": {
     "iopub.execute_input": "2021-08-19T05:59:25.495828Z",
     "iopub.status.busy": "2021-08-19T05:59:25.495153Z",
     "iopub.status.idle": "2021-08-19T05:59:28.852040Z",
     "shell.execute_reply": "2021-08-19T05:59:28.851497Z",
     "shell.execute_reply.started": "2021-08-19T05:25:28.666402Z"
    },
    "papermill": {
     "duration": 3.401635,
     "end_time": "2021-08-19T05:59:28.852174",
     "exception": false,
     "start_time": "2021-08-19T05:59:25.450539",
     "status": "completed"
    },
    "tags": []
   },
   "outputs": [
    {
     "data": {
      "text/plain": [
       "RandomForestRegressor()"
      ]
     },
     "execution_count": 10,
     "metadata": {},
     "output_type": "execute_result"
    }
   ],
   "source": [
    "# train 데이터와 casual 데이터 훈련시킴\n",
    "\n",
    "rfModel.fit(X_train, y_c_label)"
   ]
  },
  {
   "cell_type": "code",
   "execution_count": 11,
   "id": "655c0cda",
   "metadata": {
    "execution": {
     "iopub.execute_input": "2021-08-19T05:59:28.939124Z",
     "iopub.status.busy": "2021-08-19T05:59:28.938491Z",
     "iopub.status.idle": "2021-08-19T05:59:29.067778Z",
     "shell.execute_reply": "2021-08-19T05:59:29.067223Z",
     "shell.execute_reply.started": "2021-08-19T05:26:19.659367Z"
    },
    "papermill": {
     "duration": 0.175296,
     "end_time": "2021-08-19T05:59:29.067920",
     "exception": false,
     "start_time": "2021-08-19T05:59:28.892624",
     "status": "completed"
    },
    "tags": []
   },
   "outputs": [
    {
     "data": {
      "text/plain": [
       "0"
      ]
     },
     "execution_count": 11,
     "metadata": {},
     "output_type": "execute_result"
    }
   ],
   "source": [
    "# 마찬가지로 똑같이 예측하고 값 넣어주기\n",
    "\n",
    "testCasualValues = rfModel.predict(X_test)\n",
    "\n",
    "df_test[\"casual\"] = testCasualValues\n",
    "df_test[\"casual\"].isnull().sum()"
   ]
  },
  {
   "cell_type": "markdown",
   "id": "ed6e06b8",
   "metadata": {
    "papermill": {
     "duration": 0.039238,
     "end_time": "2021-08-19T05:59:29.146579",
     "exception": false,
     "start_time": "2021-08-19T05:59:29.107341",
     "status": "completed"
    },
    "tags": []
   },
   "source": [
    "### 이해가 안 가 ,,,,"
   ]
  },
  {
   "cell_type": "code",
   "execution_count": 12,
   "id": "efeb2901",
   "metadata": {
    "execution": {
     "iopub.execute_input": "2021-08-19T05:59:29.251216Z",
     "iopub.status.busy": "2021-08-19T05:59:29.250548Z",
     "iopub.status.idle": "2021-08-19T05:59:30.364054Z",
     "shell.execute_reply": "2021-08-19T05:59:30.364591Z",
     "shell.execute_reply.started": "2021-08-19T05:31:16.473835Z"
    },
    "papermill": {
     "duration": 1.178629,
     "end_time": "2021-08-19T05:59:30.364764",
     "exception": false,
     "start_time": "2021-08-19T05:59:29.186135",
     "status": "completed"
    },
    "tags": []
   },
   "outputs": [
    {
     "data": {
      "text/plain": [
       "<AxesSubplot:xlabel='hour', ylabel='value'>"
      ]
     },
     "execution_count": 12,
     "metadata": {},
     "output_type": "execute_result"
    },
    {
     "data": {
      "image/png": "[encoded data removed]",
      "text/plain": [
       "<Figure size 864x576 with 2 Axes>"
      ]
     },
     "metadata": {},
     "output_type": "display_data"
    }
   ],
   "source": [
    "fig,(ax1,ax2)= plt.subplots(nrows=2, figsize=(12, 8))\n",
    "\n",
    "hourTransformed = pd.melt(\n",
    "    df_train[['hour','casual','registered']], \n",
    "    id_vars=['hour'], value_vars=['casual', 'registered'])\n",
    "hourAggregated = pd.DataFrame(\n",
    "    hourTransformed.groupby(['hour','variable'], \n",
    "                            sort=True)['value'].mean()).reset_index()\n",
    "sns.pointplot(x=hourAggregated['hour'], \n",
    "              y=hourAggregated['value'],\n",
    "              hue=hourAggregated['variable'],\n",
    "              hue_order=['casual','registered'],\n",
    "              data=hourAggregated, join=True, ax=ax1)\n",
    "\n",
    "\n",
    "hourTransformed = pd.melt(\n",
    "    df_test[['hour','casual','registered']], id_vars=['hour'], value_vars=['casual', 'registered'])\n",
    "hourAggregated = pd.DataFrame(\n",
    "    hourTransformed.groupby(['hour','variable'],\n",
    "                            sort=True)['value'].mean()).reset_index()\n",
    "sns.pointplot(x=hourAggregated['hour'],\n",
    "              y=hourAggregated['value'],\n",
    "              hue=hourAggregated['variable'],\n",
    "              hue_order=['casual','registered'],\n",
    "              data=hourAggregated, join=True, ax=ax2)\n",
    "\n"
   ]
  },
  {
   "cell_type": "markdown",
   "id": "5d78e828",
   "metadata": {
    "papermill": {
     "duration": 0.041898,
     "end_time": "2021-08-19T05:59:30.456478",
     "exception": false,
     "start_time": "2021-08-19T05:59:30.414580",
     "status": "completed"
    },
    "tags": []
   },
   "source": [
    "- registered 데이터가 hour와 관련이 있다..?!"
   ]
  },
  {
   "cell_type": "markdown",
   "id": "afde0de0",
   "metadata": {
    "papermill": {
     "duration": 0.041547,
     "end_time": "2021-08-19T05:59:30.540652",
     "exception": false,
     "start_time": "2021-08-19T05:59:30.499105",
     "status": "completed"
    },
    "tags": []
   },
   "source": [
    "#### train과 test 데이터셋 합쳐주기"
   ]
  },
  {
   "cell_type": "code",
   "execution_count": 13,
   "id": "db30bb78",
   "metadata": {
    "execution": {
     "iopub.execute_input": "2021-08-19T05:59:30.632042Z",
     "iopub.status.busy": "2021-08-19T05:59:30.630653Z",
     "iopub.status.idle": "2021-08-19T05:59:30.644620Z",
     "shell.execute_reply": "2021-08-19T05:59:30.643851Z",
     "shell.execute_reply.started": "2021-08-19T05:33:14.300994Z"
    },
    "papermill": {
     "duration": 0.062038,
     "end_time": "2021-08-19T05:59:30.644832",
     "exception": false,
     "start_time": "2021-08-19T05:59:30.582794",
     "status": "completed"
    },
    "tags": []
   },
   "outputs": [],
   "source": [
    "data = df_train.append(df_test)\n",
    "data.reset_index(inplace=True)\n",
    "data.drop(\"index\", inplace=True, axis=1)"
   ]
  },
  {
   "cell_type": "markdown",
   "id": "e8a5b3c2",
   "metadata": {
    "papermill": {
     "duration": 0.05164,
     "end_time": "2021-08-19T05:59:30.751355",
     "exception": false,
     "start_time": "2021-08-19T05:59:30.699715",
     "status": "completed"
    },
    "tags": []
   },
   "source": [
    "#### 풍속=0 인 데이터 값 보정해주기"
   ]
  },
  {
   "cell_type": "code",
   "execution_count": 14,
   "id": "d6e090d2",
   "metadata": {
    "execution": {
     "iopub.execute_input": "2021-08-19T05:59:30.844687Z",
     "iopub.status.busy": "2021-08-19T05:59:30.843983Z",
     "iopub.status.idle": "2021-08-19T05:59:34.182429Z",
     "shell.execute_reply": "2021-08-19T05:59:34.181790Z",
     "shell.execute_reply.started": "2021-08-19T05:35:51.748167Z"
    },
    "papermill": {
     "duration": 3.38817,
     "end_time": "2021-08-19T05:59:34.182591",
     "exception": false,
     "start_time": "2021-08-19T05:59:30.794421",
     "status": "completed"
    },
    "tags": []
   },
   "outputs": [],
   "source": [
    "# 풍속이 0이 아닌 값들로 0인 값을 예측할 것임\n",
    "dataWind0 = data[data[\"windspeed\"] == 0] # test set\n",
    "dataWindNot0 = data[data[\"windspeed\"] != 0] # train set\n",
    "\n",
    "rfModel_wind = RandomForestRegressor()\n",
    "\n",
    "# 풍속을 예측할 feature\n",
    "windColumns = [\"season\", \"weather\", \"humidity\", \"month\", \"temp\", \"year\", \"atemp\"]\n",
    "\n",
    "# 위 feature 값들을 바탕으로 풍속 학습시킴\n",
    "rfModel_wind.fit(dataWindNot0[windColumns], dataWindNot0[\"windspeed\"])\n",
    "\n",
    "# 학습한 값 바탕으로 풍속=0인 데이터의 풍속 예측\n",
    "wind0Values = rfModel_wind.predict(X=dataWind0[windColumns])\n",
    "\n",
    "# 값이 0으로 기록된 풍속에 예측한 값 넣어주기\n",
    "dataWind0[\"windspeed\"] = wind0Values\n",
    "\n",
    "# 0이 아닌 풍속이 있는 데이터프레임에 예측한 값이 있는 데이터프레임 합쳐주기\n",
    "data = dataWindNot0.append(dataWind0)\n",
    "\n",
    "data.reset_index(inplace=True)\n",
    "data.drop(\"index\", inplace=True, axis=1)"
   ]
  },
  {
   "cell_type": "markdown",
   "id": "a66c330f",
   "metadata": {
    "papermill": {
     "duration": 0.041662,
     "end_time": "2021-08-19T05:59:34.266392",
     "exception": false,
     "start_time": "2021-08-19T05:59:34.224730",
     "status": "completed"
    },
    "tags": []
   },
   "source": [
    "$$\n",
    "\\sqrt{\\frac{1}{n} \\sum_{i=1}^n (\\log(p_i + 1) - \\log(a_i+1))^2 }\n",
    "$$"
   ]
  },
  {
   "cell_type": "code",
   "execution_count": 15,
   "id": "0fdc822a",
   "metadata": {
    "execution": {
     "iopub.execute_input": "2021-08-19T05:59:34.358250Z",
     "iopub.status.busy": "2021-08-19T05:59:34.357491Z",
     "iopub.status.idle": "2021-08-19T05:59:34.360506Z",
     "shell.execute_reply": "2021-08-19T05:59:34.359986Z",
     "shell.execute_reply.started": "2021-08-19T05:56:05.563786Z"
    },
    "papermill": {
     "duration": 0.052133,
     "end_time": "2021-08-19T05:59:34.360647",
     "exception": false,
     "start_time": "2021-08-19T05:59:34.308514",
     "status": "completed"
    },
    "tags": []
   },
   "outputs": [],
   "source": [
    "from sklearn.metrics import make_scorer\n",
    "\n",
    "def rmsle(predicted_values, actual_values, convertExp=True):\n",
    "    \n",
    "    if convertExp:\n",
    "        predicted_values = np.exp(predicted_values)\n",
    "        actual_values = np.exp(actual_values)\n",
    "    \n",
    "    # 넘파이로 배열 형태 바꿔주기\n",
    "    predicted_values = np.array(predicted_values)\n",
    "    actual_values = np.array(actual_values)\n",
    "    \n",
    "    # 예측값, 실제값에 +1 하고 로그 씌우기\n",
    "    log_predict = np.log(predicted_values + 1)\n",
    "    log_actual = np.log(actual_values + 1)\n",
    "    \n",
    "    # (예측값 - 실제값) 제곱\n",
    "    difference = log_predict - log_actual\n",
    "    difference = np.square(difference)\n",
    "    \n",
    "    # 평균내기\n",
    "    mean_difference = difference.mean()\n",
    "    \n",
    "    # 루트 씌우기\n",
    "    score = np.sqrt(mean_difference)\n",
    "    \n",
    "    return score"
   ]
  },
  {
   "cell_type": "code",
   "execution_count": 16,
   "id": "a371dd18",
   "metadata": {
    "execution": {
     "iopub.execute_input": "2021-08-19T05:59:34.451713Z",
     "iopub.status.busy": "2021-08-19T05:59:34.451019Z",
     "iopub.status.idle": "2021-08-19T05:59:34.454152Z",
     "shell.execute_reply": "2021-08-19T05:59:34.453640Z",
     "shell.execute_reply.started": "2021-08-19T05:45:44.594034Z"
    },
    "papermill": {
     "duration": 0.050813,
     "end_time": "2021-08-19T05:59:34.454303",
     "exception": false,
     "start_time": "2021-08-19T05:59:34.403490",
     "status": "completed"
    },
    "tags": []
   },
   "outputs": [],
   "source": [
    "categoricalFeatureNames = [\"season\", \"holiday\", \"workingday\",\n",
    "                          \"weather\", \"weekday\", \"year\", \"hour\"]\n",
    "\n",
    "numericalFeatureNames = [\"temp\", \"humidity\", \"windspeed\", \"atemp\",\n",
    "                        \"casual\", \"registered\"]\n",
    "\n",
    "dropFeatures = [\"count\", \"datetime\", \"month\"]"
   ]
  },
  {
   "cell_type": "code",
   "execution_count": 17,
   "id": "afcc75be",
   "metadata": {
    "execution": {
     "iopub.execute_input": "2021-08-19T05:59:34.544097Z",
     "iopub.status.busy": "2021-08-19T05:59:34.543452Z",
     "iopub.status.idle": "2021-08-19T05:59:34.552876Z",
     "shell.execute_reply": "2021-08-19T05:59:34.553350Z",
     "shell.execute_reply.started": "2021-08-19T05:46:16.444983Z"
    },
    "papermill": {
     "duration": 0.056588,
     "end_time": "2021-08-19T05:59:34.553524",
     "exception": false,
     "start_time": "2021-08-19T05:59:34.496936",
     "status": "completed"
    },
    "tags": []
   },
   "outputs": [],
   "source": [
    "# 카테고리로 데이터 형변환\n",
    "\n",
    "for var in categoricalFeatureNames:\n",
    "    data[var] = data[var].astype(\"category\")"
   ]
  },
  {
   "cell_type": "markdown",
   "id": "2b37bd64",
   "metadata": {
    "papermill": {
     "duration": 0.041997,
     "end_time": "2021-08-19T05:59:34.637584",
     "exception": false,
     "start_time": "2021-08-19T05:59:34.595587",
     "status": "completed"
    },
    "tags": []
   },
   "source": [
    "- 이거 무슨 말이뉘.."
   ]
  },
  {
   "cell_type": "code",
   "execution_count": 18,
   "id": "eed57164",
   "metadata": {
    "execution": {
     "iopub.execute_input": "2021-08-19T05:59:34.728600Z",
     "iopub.status.busy": "2021-08-19T05:59:34.727600Z",
     "iopub.status.idle": "2021-08-19T05:59:34.739068Z",
     "shell.execute_reply": "2021-08-19T05:59:34.739553Z",
     "shell.execute_reply.started": "2021-08-19T05:47:47.158984Z"
    },
    "papermill": {
     "duration": 0.060097,
     "end_time": "2021-08-19T05:59:34.739731",
     "exception": false,
     "start_time": "2021-08-19T05:59:34.679634",
     "status": "completed"
    },
    "tags": []
   },
   "outputs": [],
   "source": [
    "X_train = data[pd.notnull(data[\"count\"])].sort_values(by=[\"datetime\"])\n",
    "X_test = data[~pd.notnull(data[\"count\"])].sort_values(by=[\"datetime\"])\n",
    "\n",
    "datetimecol = X_test[\"datetime\"]\n",
    "y_train = X_train[\"count\"]"
   ]
  },
  {
   "cell_type": "code",
   "execution_count": 19,
   "id": "e4d5f604",
   "metadata": {
    "execution": {
     "iopub.execute_input": "2021-08-19T05:59:34.827240Z",
     "iopub.status.busy": "2021-08-19T05:59:34.826265Z",
     "iopub.status.idle": "2021-08-19T05:59:34.833498Z",
     "shell.execute_reply": "2021-08-19T05:59:34.832930Z",
     "shell.execute_reply.started": "2021-08-19T05:49:50.367102Z"
    },
    "papermill": {
     "duration": 0.05181,
     "end_time": "2021-08-19T05:59:34.833635",
     "exception": false,
     "start_time": "2021-08-19T05:59:34.781825",
     "status": "completed"
    },
    "tags": []
   },
   "outputs": [],
   "source": [
    "X_train = X_train.drop(dropFeatures, axis=1)\n",
    "X_test = X_test.drop(dropFeatures, axis=1)"
   ]
  },
  {
   "cell_type": "markdown",
   "id": "0b917ee6",
   "metadata": {
    "papermill": {
     "duration": 0.042131,
     "end_time": "2021-08-19T05:59:34.917997",
     "exception": false,
     "start_time": "2021-08-19T05:59:34.875866",
     "status": "completed"
    },
    "tags": []
   },
   "source": [
    "- 무슨 말.."
   ]
  },
  {
   "cell_type": "code",
   "execution_count": 20,
   "id": "0b23ed17",
   "metadata": {
    "execution": {
     "iopub.execute_input": "2021-08-19T05:59:35.005909Z",
     "iopub.status.busy": "2021-08-19T05:59:35.004929Z",
     "iopub.status.idle": "2021-08-19T05:59:39.770898Z",
     "shell.execute_reply": "2021-08-19T05:59:39.770397Z",
     "shell.execute_reply.started": "2021-08-19T05:50:12.910539Z"
    },
    "papermill": {
     "duration": 4.810905,
     "end_time": "2021-08-19T05:59:39.771040",
     "exception": false,
     "start_time": "2021-08-19T05:59:34.960135",
     "status": "completed"
    },
    "tags": []
   },
   "outputs": [
    {
     "data": {
      "text/plain": [
       "RandomForestRegressor()"
      ]
     },
     "execution_count": 20,
     "metadata": {},
     "output_type": "execute_result"
    }
   ],
   "source": [
    "rfModel = RandomForestRegressor(n_estimators=100)\n",
    "\n",
    "y_train_log = np.log1p(y_train)\n",
    "rfModel.fit(X_train, y_train_log)"
   ]
  },
  {
   "cell_type": "code",
   "execution_count": 21,
   "id": "a5730516",
   "metadata": {
    "execution": {
     "iopub.execute_input": "2021-08-19T05:59:39.865050Z",
     "iopub.status.busy": "2021-08-19T05:59:39.863907Z",
     "iopub.status.idle": "2021-08-19T05:59:40.071433Z",
     "shell.execute_reply": "2021-08-19T05:59:40.070653Z",
     "shell.execute_reply.started": "2021-08-19T05:56:07.412058Z"
    },
    "papermill": {
     "duration": 0.258161,
     "end_time": "2021-08-19T05:59:40.071625",
     "exception": false,
     "start_time": "2021-08-19T05:59:39.813464",
     "status": "completed"
    },
    "tags": []
   },
   "outputs": [
    {
     "name": "stdout",
     "output_type": "stream",
     "text": [
      "RMSLE Value for Random Forest:  0.005003786861771978\n"
     ]
    }
   ],
   "source": [
    "preds = rfModel.predict(X_train)\n",
    "score = rmsle(np.exp(y_train_log), np.exp(preds), False)\n",
    "print(\"RMSLE Value for Random Forest: \", score)"
   ]
  },
  {
   "cell_type": "code",
   "execution_count": 22,
   "id": "efaa172b",
   "metadata": {
    "execution": {
     "iopub.execute_input": "2021-08-19T05:59:40.167730Z",
     "iopub.status.busy": "2021-08-19T05:59:40.167080Z",
     "iopub.status.idle": "2021-08-19T05:59:41.189793Z",
     "shell.execute_reply": "2021-08-19T05:59:41.190230Z",
     "shell.execute_reply.started": "2021-08-19T05:57:00.900706Z"
    },
    "papermill": {
     "duration": 1.074757,
     "end_time": "2021-08-19T05:59:41.190417",
     "exception": false,
     "start_time": "2021-08-19T05:59:40.115660",
     "status": "completed"
    },
    "tags": []
   },
   "outputs": [
    {
     "data": {
      "text/plain": [
       "<AxesSubplot:ylabel='Density'>"
      ]
     },
     "execution_count": 22,
     "metadata": {},
     "output_type": "execute_result"
    },
    {
     "data": {
      "image/png": "[encoded data removed]",
      "text/plain": [
       "<Figure size 864x360 with 2 Axes>"
      ]
     },
     "metadata": {},
     "output_type": "display_data"
    }
   ],
   "source": [
    "predsTest = rfModel.predict(X_test)\n",
    "\n",
    "fig, (ax1, ax2) = plt.subplots(ncols=2, figsize=(12, 5))\n",
    "sns.distplot(y_train, ax=ax1, bins=50)\n",
    "sns.distplot(np.exp(predsTest), ax=ax2, bins=50)"
   ]
  },
  {
   "cell_type": "code",
   "execution_count": 23,
   "id": "18b5f1e3",
   "metadata": {
    "execution": {
     "iopub.execute_input": "2021-08-19T05:59:41.285849Z",
     "iopub.status.busy": "2021-08-19T05:59:41.285093Z",
     "iopub.status.idle": "2021-08-19T05:59:41.316853Z",
     "shell.execute_reply": "2021-08-19T05:59:41.316358Z",
     "shell.execute_reply.started": "2021-08-19T05:58:15.891841Z"
    },
    "papermill": {
     "duration": 0.081372,
     "end_time": "2021-08-19T05:59:41.316994",
     "exception": false,
     "start_time": "2021-08-19T05:59:41.235622",
     "status": "completed"
    },
    "tags": []
   },
   "outputs": [
    {
     "name": "stdout",
     "output_type": "stream",
     "text": [
      "(6493, 2)\n"
     ]
    },
    {
     "data": {
      "text/html": [
       "<div>\n",
       "<style scoped>\n",
       "    .dataframe tbody tr th:only-of-type {\n",
       "        vertical-align: middle;\n",
       "    }\n",
       "\n",
       "    .dataframe tbody tr th {\n",
       "        vertical-align: top;\n",
       "    }\n",
       "\n",
       "    .dataframe thead th {\n",
       "        text-align: right;\n",
       "    }\n",
       "</style>\n",
       "<table border=\"1\" class=\"dataframe\">\n",
       "  <thead>\n",
       "    <tr style=\"text-align: right;\">\n",
       "      <th></th>\n",
       "      <th>datetime</th>\n",
       "      <th>count</th>\n",
       "    </tr>\n",
       "  </thead>\n",
       "  <tbody>\n",
       "    <tr>\n",
       "      <th>0</th>\n",
       "      <td>2011-01-20 00:00:00</td>\n",
       "      <td>14.019331</td>\n",
       "    </tr>\n",
       "    <tr>\n",
       "      <th>1</th>\n",
       "      <td>2011-01-20 01:00:00</td>\n",
       "      <td>7.000000</td>\n",
       "    </tr>\n",
       "    <tr>\n",
       "      <th>2</th>\n",
       "      <td>2011-01-20 02:00:00</td>\n",
       "      <td>5.000000</td>\n",
       "    </tr>\n",
       "    <tr>\n",
       "      <th>3</th>\n",
       "      <td>2011-01-20 03:00:00</td>\n",
       "      <td>4.000000</td>\n",
       "    </tr>\n",
       "    <tr>\n",
       "      <th>4</th>\n",
       "      <td>2011-01-20 04:00:00</td>\n",
       "      <td>3.000000</td>\n",
       "    </tr>\n",
       "  </tbody>\n",
       "</table>\n",
       "</div>"
      ],
      "text/plain": [
       "              datetime      count\n",
       "0  2011-01-20 00:00:00  14.019331\n",
       "1  2011-01-20 01:00:00   7.000000\n",
       "2  2011-01-20 02:00:00   5.000000\n",
       "3  2011-01-20 03:00:00   4.000000\n",
       "4  2011-01-20 04:00:00   3.000000"
      ]
     },
     "execution_count": 23,
     "metadata": {},
     "output_type": "execute_result"
    }
   ],
   "source": [
    "submission = pd.read_csv(\"../input/bike-sharing-demand/sampleSubmission.csv\")\n",
    "submission\n",
    "\n",
    "submission[\"count\"] = np.exp(predsTest)\n",
    "\n",
    "print(submission.shape)\n",
    "submission.head()"
   ]
  },
  {
   "cell_type": "code",
   "execution_count": 24,
   "id": "3bc48927",
   "metadata": {
    "execution": {
     "iopub.execute_input": "2021-08-19T05:59:41.412478Z",
     "iopub.status.busy": "2021-08-19T05:59:41.411823Z",
     "iopub.status.idle": "2021-08-19T05:59:41.447221Z",
     "shell.execute_reply": "2021-08-19T05:59:41.446658Z",
     "shell.execute_reply.started": "2021-08-19T05:58:55.008441Z"
    },
    "papermill": {
     "duration": 0.085298,
     "end_time": "2021-08-19T05:59:41.447391",
     "exception": false,
     "start_time": "2021-08-19T05:59:41.362093",
     "status": "completed"
    },
    "tags": []
   },
   "outputs": [],
   "source": [
    "submission.to_csv(\"Score_{0:.5f}_submission.csv\".format(score), index=False)"
   ]
  },
  {
   "cell_type": "code",
   "execution_count": null,
   "id": "df385d26",
   "metadata": {
    "papermill": {
     "duration": 0.045396,
     "end_time": "2021-08-19T05:59:41.539035",
     "exception": false,
     "start_time": "2021-08-19T05:59:41.493639",
     "status": "completed"
    },
    "tags": []
   },
   "outputs": [],
   "source": []
  },
  {
   "cell_type": "code",
   "execution_count": null,
   "id": "9c4c4d99",
   "metadata": {
    "papermill": {
     "duration": 0.045187,
     "end_time": "2021-08-19T05:59:41.629654",
     "exception": false,
     "start_time": "2021-08-19T05:59:41.584467",
     "status": "completed"
    },
    "tags": []
   },
   "outputs": [],
   "source": []
  },
  {
   "cell_type": "code",
   "execution_count": null,
   "id": "03aef603",
   "metadata": {
    "papermill": {
     "duration": 0.061077,
     "end_time": "2021-08-19T05:59:41.741505",
     "exception": false,
     "start_time": "2021-08-19T05:59:41.680428",
     "status": "completed"
    },
    "tags": []
   },
   "outputs": [],
   "source": []
  },
  {
   "cell_type": "code",
   "execution_count": null,
   "id": "6474c115",
   "metadata": {
    "papermill": {
     "duration": 0.044994,
     "end_time": "2021-08-19T05:59:41.836552",
     "exception": false,
     "start_time": "2021-08-19T05:59:41.791558",
     "status": "completed"
    },
    "tags": []
   },
   "outputs": [],
   "source": []
  },
  {
   "cell_type": "code",
   "execution_count": null,
   "id": "48e5eb2d",
   "metadata": {
    "papermill": {
     "duration": 0.045227,
     "end_time": "2021-08-19T05:59:41.927543",
     "exception": false,
     "start_time": "2021-08-19T05:59:41.882316",
     "status": "completed"
    },
    "tags": []
   },
   "outputs": [],
   "source": []
  },
  {
   "cell_type": "code",
   "execution_count": null,
   "id": "ff1b2568",
   "metadata": {
    "papermill": {
     "duration": 0.044719,
     "end_time": "2021-08-19T05:59:42.017617",
     "exception": false,
     "start_time": "2021-08-19T05:59:41.972898",
     "status": "completed"
    },
    "tags": []
   },
   "outputs": [],
   "source": []
  },
  {
   "cell_type": "code",
   "execution_count": null,
   "id": "540a6df1",
   "metadata": {
    "papermill": {
     "duration": 0.045517,
     "end_time": "2021-08-19T05:59:42.108864",
     "exception": false,
     "start_time": "2021-08-19T05:59:42.063347",
     "status": "completed"
    },
    "tags": []
   },
   "outputs": [],
   "source": []
  },
  {
   "cell_type": "code",
   "execution_count": null,
   "id": "6d8aea7f",
   "metadata": {
    "papermill": {
     "duration": 0.046431,
     "end_time": "2021-08-19T05:59:42.201190",
     "exception": false,
     "start_time": "2021-08-19T05:59:42.154759",
     "status": "completed"
    },
    "tags": []
   },
   "outputs": [],
   "source": []
  },
  {
   "cell_type": "code",
   "execution_count": null,
   "id": "a1be0942",
   "metadata": {
    "papermill": {
     "duration": 0.045219,
     "end_time": "2021-08-19T05:59:42.291827",
     "exception": false,
     "start_time": "2021-08-19T05:59:42.246608",
     "status": "completed"
    },
    "tags": []
   },
   "outputs": [],
   "source": []
  },
  {
   "cell_type": "code",
   "execution_count": null,
   "id": "d574c747",
   "metadata": {
    "papermill": {
     "duration": 0.04543,
     "end_time": "2021-08-19T05:59:42.382926",
     "exception": false,
     "start_time": "2021-08-19T05:59:42.337496",
     "status": "completed"
    },
    "tags": []
   },
   "outputs": [],
   "source": []
  },
  {
   "cell_type": "code",
   "execution_count": null,
   "id": "193ce76a",
   "metadata": {
    "papermill": {
     "duration": 0.045157,
     "end_time": "2021-08-19T05:59:42.473835",
     "exception": false,
     "start_time": "2021-08-19T05:59:42.428678",
     "status": "completed"
    },
    "tags": []
   },
   "outputs": [],
   "source": []
  },
  {
   "cell_type": "code",
   "execution_count": null,
   "id": "d69c8f88",
   "metadata": {
    "papermill": {
     "duration": 0.045088,
     "end_time": "2021-08-19T05:59:42.565464",
     "exception": false,
     "start_time": "2021-08-19T05:59:42.520376",
     "status": "completed"
    },
    "tags": []
   },
   "outputs": [],
   "source": []
  },
  {
   "cell_type": "code",
   "execution_count": null,
   "id": "bffbcddb",
   "metadata": {
    "papermill": {
     "duration": 0.046184,
     "end_time": "2021-08-19T05:59:42.657197",
     "exception": false,
     "start_time": "2021-08-19T05:59:42.611013",
     "status": "completed"
    },
    "tags": []
   },
   "outputs": [],
   "source": []
  },
  {
   "cell_type": "code",
   "execution_count": null,
   "id": "8cc18a53",
   "metadata": {
    "papermill": {
     "duration": 0.045178,
     "end_time": "2021-08-19T05:59:42.747780",
     "exception": false,
     "start_time": "2021-08-19T05:59:42.702602",
     "status": "completed"
    },
    "tags": []
   },
   "outputs": [],
   "source": []
  },
  {
   "cell_type": "code",
   "execution_count": null,
   "id": "cde52484",
   "metadata": {
    "papermill": {
     "duration": 0.045264,
     "end_time": "2021-08-19T05:59:42.840303",
     "exception": false,
     "start_time": "2021-08-19T05:59:42.795039",
     "status": "completed"
    },
    "tags": []
   },
   "outputs": [],
   "source": []
  },
  {
   "cell_type": "code",
   "execution_count": null,
   "id": "7631b5c4",
   "metadata": {
    "papermill": {
     "duration": 0.045193,
     "end_time": "2021-08-19T05:59:42.930711",
     "exception": false,
     "start_time": "2021-08-19T05:59:42.885518",
     "status": "completed"
    },
    "tags": []
   },
   "outputs": [],
   "source": []
  },
  {
   "cell_type": "code",
   "execution_count": null,
   "id": "a72741a3",
   "metadata": {
    "papermill": {
     "duration": 0.045227,
     "end_time": "2021-08-19T05:59:43.021136",
     "exception": false,
     "start_time": "2021-08-19T05:59:42.975909",
     "status": "completed"
    },
    "tags": []
   },
   "outputs": [],
   "source": []
  },
  {
   "cell_type": "code",
   "execution_count": null,
   "id": "43c9c960",
   "metadata": {
    "papermill": {
     "duration": 0.045174,
     "end_time": "2021-08-19T05:59:43.111703",
     "exception": false,
     "start_time": "2021-08-19T05:59:43.066529",
     "status": "completed"
    },
    "tags": []
   },
   "outputs": [],
   "source": []
  },
  {
   "cell_type": "code",
   "execution_count": null,
   "id": "74d75ae2",
   "metadata": {
    "papermill": {
     "duration": 0.044981,
     "end_time": "2021-08-19T05:59:43.202913",
     "exception": false,
     "start_time": "2021-08-19T05:59:43.157932",
     "status": "completed"
    },
    "tags": []
   },
   "outputs": [],
   "source": []
  },
  {
   "cell_type": "code",
   "execution_count": null,
   "id": "30d23a28",
   "metadata": {
    "papermill": {
     "duration": 0.044865,
     "end_time": "2021-08-19T05:59:43.292995",
     "exception": false,
     "start_time": "2021-08-19T05:59:43.248130",
     "status": "completed"
    },
    "tags": []
   },
   "outputs": [],
   "source": []
  },
  {
   "cell_type": "code",
   "execution_count": null,
   "id": "5c8975ce",
   "metadata": {
    "papermill": {
     "duration": 0.044948,
     "end_time": "2021-08-19T05:59:43.383023",
     "exception": false,
     "start_time": "2021-08-19T05:59:43.338075",
     "status": "completed"
    },
    "tags": []
   },
   "outputs": [],
   "source": []
  }
 ],
 "metadata": {
  "kernelspec": {
   "display_name": "Python 3",
   "language": "python",
   "name": "python3"
  },
  "language_info": {
   "codemirror_mode": {
    "name": "ipython",
    "version": 3
   },
   "file_extension": ".py",
   "mimetype": "text/x-python",
   "name": "python",
   "nbconvert_exporter": "python",
   "pygments_lexer": "ipython3",
   "version": "3.7.10"
  },
  "papermill": {
   "default_parameters": {},
   "duration": 33.732554,
   "end_time": "2021-08-19T05:59:44.238493",
   "environment_variables": {},
   "exception": null,
   "input_path": "__notebook__.ipynb",
   "output_path": "__notebook__.ipynb",
   "parameters": {},
   "start_time": "2021-08-19T05:59:10.505939",
   "version": "2.3.3"
  }
 },
 "nbformat": 4,
 "nbformat_minor": 5
}
